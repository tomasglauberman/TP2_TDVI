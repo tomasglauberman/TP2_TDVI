{
 "cells": [
  {
   "cell_type": "code",
   "execution_count": 1,
   "metadata": {},
   "outputs": [
    {
     "name": "stdout",
     "output_type": "stream",
     "text": [
      "Intel MKL WARNING: Support of Intel(R) Streaming SIMD Extensions 4.2 (Intel(R) SSE4.2) enabled only processors has been deprecated. Intel oneAPI Math Kernel Library 2025.0 will require Intel(R) Advanced Vector Extensions (Intel(R) AVX) instructions.\n",
      "Intel MKL WARNING: Support of Intel(R) Streaming SIMD Extensions 4.2 (Intel(R) SSE4.2) enabled only processors has been deprecated. Intel oneAPI Math Kernel Library 2025.0 will require Intel(R) Advanced Vector Extensions (Intel(R) AVX) instructions.\n"
     ]
    }
   ],
   "source": [
    "import pandas as pd\n",
    "import numpy as np\n",
    "from tqdm import tqdm\n",
    "import math\n",
    "from sklearn.model_selection import train_test_split\n",
    "from sklearn.ensemble import HistGradientBoostingClassifier\n",
    "from sklearn.model_selection import train_test_split, RandomizedSearchCV, KFold\n",
    "from hyperopt import fmin, tpe, hp, STATUS_OK, space_eval\n",
    "from sklearn.model_selection import cross_val_score\n",
    "from sklearn.metrics import roc_auc_score\n",
    "import matplotlib.pyplot as plt"
   ]
  },
  {
   "cell_type": "code",
   "execution_count": 11,
   "metadata": {},
   "outputs": [],
   "source": [
    "data = pd.read_csv(\"./data/competition_data.csv\")\n",
    "\n",
    "data.drop(columns=['accepts_mercadopago', 'benefit', 'boosted', 'category_id', 'deal_print_id', \n",
    "                   'etl_version', 'domain_id','full_name','product_id', 'item_id', 'main_picture', 'date', \n",
    "                   'site_id', 'tags','title','uid', 'user_id', 'warranty'], axis='columns', inplace=True)\n",
    "\n",
    "data['conversion'] = data['conversion'].astype('bool')\n",
    "data[\"print_server_timestamp\"] = pd.to_datetime(data[\"print_server_timestamp\"])\n",
    "data[\"hour\"] = data[\"print_server_timestamp\"].dt.hour\n",
    "data[\"day\"] = data[\"print_server_timestamp\"].dt.day\n",
    "#data[\"minute\"] = data[\"print_server_timestamp\"].dt.minute\n",
    "data[\"month\"] = data[\"print_server_timestamp\"].dt.month\n",
    "data.drop(columns=[\"print_server_timestamp\"], axis= \"columns\", inplace=True)\n",
    "data = pd.get_dummies(data,columns = [\"listing_type_id\", \"logistic_type\", \"platform\"],dummy_na = False, dtype = int)\n",
    "data = pd.get_dummies(data,columns = [\"is_pdp\"],dummy_na = True, dtype = bool )"
   ]
  },
  {
   "cell_type": "code",
   "execution_count": 12,
   "metadata": {},
   "outputs": [
    {
     "name": "stdout",
     "output_type": "stream",
     "text": [
      "(180761, 53)\n",
      "(178366, 53)\n"
     ]
    }
   ],
   "source": [
    "train_data = data[data[\"ROW_ID\"].isna()]\n",
    "print(train_data.shape)\n",
    "test_data = data[data[\"ROW_ID\"].notna()]\n",
    "train_data = train_data[train_data[\"available_quantity\"] < 50000]\n",
    "print(train_data.shape)\n",
    "\n",
    "x_train = train_data.drop(columns=[\"conversion\", \"ROW_ID\"])\n",
    "y_train = train_data[\"conversion\"]\n",
    "X_train, X_val, Y_train, Y_val = train_test_split(x_train, y_train, test_size=0.2, random_state=3456)\n",
    "X_test = test_data.drop(columns=[\"conversion\"])\n"
   ]
  },
  {
   "cell_type": "code",
   "execution_count": 13,
   "metadata": {},
   "outputs": [],
   "source": [
    "#search space for hyperopt HistGradientBoostingClassifier()\n",
    "space = {\n",
    "    'learning_rate': hp.uniform('learning_rate', 0.01, 0.5),\n",
    "    'max_iter': hp.choice('max_iter', np.arange(100, 500, 10, dtype=int)),\n",
    "    'max_leaf_nodes': hp.choice('max_leaf_nodes', np.arange(10, 100, 10, dtype=int)),\n",
    "    'max_depth': hp.choice('max_depth', np.arange(10, 100, 10, dtype=int)),\n",
    "    'min_samples_leaf': hp.choice('min_samples_leaf', np.arange(1, 10, 1, dtype=int)),\n",
    "    'l2_regularization': hp.uniform('l2_regularization', 0.01, 0.5),\n",
    "    'max_bins': hp.choice('max_bins', np.arange(10, 100, 10, dtype=int)),\n",
    "    'validation_fraction': hp.uniform('validation_fraction', 0.01, 0.5),\n",
    "    'n_iter_no_change': hp.choice('n_iter_no_change', np.arange(1, 10, 1, dtype=int)),\n",
    "    #'tol': hp.uniform('tol', 0.0001, 0.001),\n",
    "    #'scoring': hp.choice('scoring', ['loss', 'accuracy', 'balanced_accuracy', 'average_precision', 'f1', 'f1_micro', 'f1_macro', 'f1_weighted', 'f1_samples', 'neg_log_loss', 'precision', 'recall', 'roc_auc']),\n",
    "    #'random_state': hp.choice('random_state', np.arange(1, 100, 1, dtype=int)),\n",
    "    'warm_start': hp.choice('warm_start', [True, False]),\n",
    "    'early_stopping': hp.choice('early_stopping', [True, False]),\n",
    "    #'verbose': hp.choice('verbose', [True, False])\n",
    "\n",
    "    \n",
    "\n",
    "}\n",
    "\n",
    "def objective(params):\n",
    "    tree = HistGradientBoostingClassifier(**params, random_state = 22, scoring=\"roc_auc\")\n",
    "    score = cross_val_score(tree, x_train, y_train, cv = KFold(4)).mean() # Aplicamos validación cruzada con 4 folds.\n",
    "    return {'loss': 1 - score, 'status': STATUS_OK}"
   ]
  },
  {
   "cell_type": "code",
   "execution_count": 14,
   "metadata": {},
   "outputs": [
    {
     "name": "stdout",
     "output_type": "stream",
     "text": [
      "100%|██████████| 5/5 [03:17<00:00, 39.45s/trial, best loss: 0.08871085253635291]\n"
     ]
    }
   ],
   "source": [
    "best = fmin(objective, space = space,\n",
    "            algo = tpe.suggest,\n",
    "            max_evals = 5,\n",
    "            rstate = np.random.default_rng(22))"
   ]
  },
  {
   "cell_type": "code",
   "execution_count": 15,
   "metadata": {},
   "outputs": [
    {
     "name": "stdout",
     "output_type": "stream",
     "text": [
      "BEST PARAMS:  {'early_stopping': False, 'l2_regularization': 0.35979456172848456, 'learning_rate': 0.035719415867667643, 'max_bins': 10, 'max_depth': 60, 'max_iter': 260, 'max_leaf_nodes': 60, 'min_samples_leaf': 9, 'n_iter_no_change': 4, 'validation_fraction': 0.4578017029077751, 'warm_start': False}\n"
     ]
    }
   ],
   "source": [
    "best_params = space_eval(space, best)\n",
    "print(\"BEST PARAMS: \", best_params)\n"
   ]
  },
  {
   "cell_type": "code",
   "execution_count": 16,
   "metadata": {},
   "outputs": [
    {
     "name": "stdout",
     "output_type": "stream",
     "text": [
      "0.9110556707966586\n",
      "0.8916792277770407\n"
     ]
    }
   ],
   "source": [
    "hist_gradient = HistGradientBoostingClassifier(**best_params,scoring=\"roc_auc\")\n",
    "hist_gradient.fit(X_train, Y_train)\n",
    "print(hist_gradient.score(X_val, Y_val))\n",
    "print(roc_auc_score(Y_val, hist_gradient.predict_proba(X_val)[:, hist_gradient.classes_== 1]))\n",
    "#0.9123985053240806\n",
    "#0.8873970516653299\n"
   ]
  },
  {
   "cell_type": "code",
   "execution_count": 17,
   "metadata": {},
   "outputs": [
    {
     "name": "stdout",
     "output_type": "stream",
     "text": [
      "[0.88827045 0.88723719 0.88929675 0.88607456 0.8866158 ]\n"
     ]
    }
   ],
   "source": [
    "cv = KFold(n_splits=5, random_state=0, shuffle=True)\n",
    "scores = cross_val_score(hist_gradient, x_train, y_train, cv=cv, scoring=\"roc_auc\")\n",
    "print(scores)"
   ]
  },
  {
   "cell_type": "code",
   "execution_count": 18,
   "metadata": {},
   "outputs": [],
   "source": [
    "y_preds = hist_gradient.predict_proba(X_test.drop(columns=[\"ROW_ID\"]))[:, hist_gradient.classes_== 1].squeeze()\n",
    "submission_df = pd.DataFrame({\"ROW_ID\": X_test[\"ROW_ID\"], \"conversion\": y_preds})\n",
    "submission_df[\"ROW_ID\"] = submission_df[\"ROW_ID\"].astype(int)\n",
    "submission_df.to_csv(\"./outputs/hist_gradient_sin_avail50.csv\", sep=\",\", index=False)"
   ]
  }
 ],
 "metadata": {
  "kernelspec": {
   "display_name": "td6",
   "language": "python",
   "name": "python3"
  },
  "language_info": {
   "codemirror_mode": {
    "name": "ipython",
    "version": 3
   },
   "file_extension": ".py",
   "mimetype": "text/x-python",
   "name": "python",
   "nbconvert_exporter": "python",
   "pygments_lexer": "ipython3",
   "version": "3.11.4"
  },
  "orig_nbformat": 4
 },
 "nbformat": 4,
 "nbformat_minor": 2
}
