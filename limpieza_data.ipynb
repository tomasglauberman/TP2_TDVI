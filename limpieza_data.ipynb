{
 "cells": [
  {
   "cell_type": "code",
   "execution_count": 119,
   "metadata": {},
   "outputs": [],
   "source": [
    "import pandas as pd\n",
    "from sklearn.impute import SimpleImputer\n",
    "from sklearn.tree import DecisionTreeClassifier\n",
    "from sklearn.pipeline import make_pipeline\n",
    "from sklearn.model_selection import cross_val_score, KFold, train_test_split\n",
    "import xgboost as xgb\n",
    "import matplotlib.pyplot as plt\n",
    "from sklearn.ensemble import RandomForestClassifier\n",
    "from sklearn.metrics import roc_auc_score"
   ]
  },
  {
   "cell_type": "code",
   "execution_count": 154,
   "metadata": {},
   "outputs": [],
   "source": [
    "data = pd.read_csv(\"./data/competition_data.csv\")"
   ]
  },
  {
   "cell_type": "markdown",
   "metadata": {},
   "source": [
    "-avg_qty_orders_item_domain_30days Average number of orders a random item of this domain made on the last month\n"
   ]
  },
  {
   "cell_type": "code",
   "execution_count": 155,
   "metadata": {},
   "outputs": [
    {
     "name": "stdout",
     "output_type": "stream",
     "text": [
      "<class 'pandas.core.frame.DataFrame'>\n",
      "RangeIndex: 199972 entries, 0 to 199971\n",
      "Data columns (total 57 columns):\n",
      " #   Column                             Non-Null Count   Dtype  \n",
      "---  ------                             --------------   -----  \n",
      " 0   accepts_mercadopago                199972 non-null  bool   \n",
      " 1   available_quantity                 199972 non-null  int64  \n",
      " 2   avg_gmv_item_domain_30days         195607 non-null  float64\n",
      " 3   avg_gmv_item_sel                   195607 non-null  float64\n",
      " 4   avg_gmv_seller_bday                195607 non-null  float64\n",
      " 5   avg_qty_orders_item_domain_30days  195607 non-null  float64\n",
      " 6   avg_qty_orders_item_sel_30days     195607 non-null  float64\n",
      " 7   avg_si_item_sel_30day              195607 non-null  float64\n",
      " 8   benefit                            199971 non-null  float64\n",
      " 9   boosted                            199972 non-null  bool   \n",
      " 10  category_id                        199972 non-null  object \n",
      " 11  conversion                         180761 non-null  float64\n",
      " 12  date                               199972 non-null  object \n",
      " 13  deal_print_id                      199972 non-null  object \n",
      " 14  domain_id                          199972 non-null  object \n",
      " 15  etl_version                        199972 non-null  object \n",
      " 16  free_shipping                      199972 non-null  bool   \n",
      " 17  fulfillment                        199972 non-null  bool   \n",
      " 18  full_name                          199972 non-null  object \n",
      " 19  health                             199972 non-null  float64\n",
      " 20  is_pdp                             109788 non-null  object \n",
      " 21  product_id                         47610 non-null   float64\n",
      " 22  item_id                            199972 non-null  object \n",
      " 23  listing_type_id                    199972 non-null  object \n",
      " 24  logistic_type                      199972 non-null  object \n",
      " 25  main_picture                       196141 non-null  object \n",
      " 26  offset                             199972 non-null  int64  \n",
      " 27  original_price                     199972 non-null  int64  \n",
      " 28  platform                           199972 non-null  object \n",
      " 29  price                              199972 non-null  int64  \n",
      " 30  print_position                     199972 non-null  int64  \n",
      " 31  print_server_timestamp             199972 non-null  object \n",
      " 32  qty_items_dom                      195607 non-null  float64\n",
      " 33  qty_items_sel                      195607 non-null  float64\n",
      " 34  site_id                            199972 non-null  object \n",
      " 35  sold_quantity                      199972 non-null  int64  \n",
      " 36  tags                               199972 non-null  object \n",
      " 37  title                              199972 non-null  object \n",
      " 38  total_asp_item_domain_30days       195607 non-null  float64\n",
      " 39  total_asp_item_sel_30days          195607 non-null  float64\n",
      " 40  total_gmv_domain_bday              195607 non-null  float64\n",
      " 41  total_gmv_item_30days              195607 non-null  float64\n",
      " 42  total_items_domain                 199972 non-null  int64  \n",
      " 43  total_items_seller                 199972 non-null  int64  \n",
      " 44  total_orders_domain_30days         195607 non-null  float64\n",
      " 45  total_orders_item_30days           195607 non-null  float64\n",
      " 46  total_orders_sel_30days            195607 non-null  float64\n",
      " 47  total_si_domain_30days             195607 non-null  float64\n",
      " 48  total_si_item_30days               195607 non-null  float64\n",
      " 49  total_si_sel_30days                195607 non-null  float64\n",
      " 50  total_visits_domain                199972 non-null  int64  \n",
      " 51  total_visits_item                  199972 non-null  int64  \n",
      " 52  total_visits_seller                199972 non-null  int64  \n",
      " 53  uid                                199972 non-null  object \n",
      " 54  user_id                            178375 non-null  float64\n",
      " 55  warranty                           152281 non-null  object \n",
      " 56  ROW_ID                             19211 non-null   float64\n",
      "dtypes: bool(4), float64(24), int64(11), object(18)\n",
      "memory usage: 81.6+ MB\n"
     ]
    }
   ],
   "source": [
    "data.info()"
   ]
  },
  {
   "cell_type": "code",
   "execution_count": 144,
   "metadata": {},
   "outputs": [],
   "source": [
    "data.drop(columns=['benefit', 'deal_print_id','etl_version', 'full_name', \n",
    "                   'warranty', 'item_id', 'main_picture',\n",
    "                    'site_id','uid', 'user_id', 'category_id', 'title', 'tags', 'product_id'], axis= \"columns\", inplace=True)\n",
    "\n",
    "#data['is_pdp'] = data['is_pdp'].astype('bool')"
   ]
  },
  {
   "cell_type": "code",
   "execution_count": 145,
   "metadata": {},
   "outputs": [
    {
     "data": {
      "text/plain": [
       "(199972, 43)"
      ]
     },
     "execution_count": 145,
     "metadata": {},
     "output_type": "execute_result"
    }
   ],
   "source": [
    "data.shape"
   ]
  },
  {
   "cell_type": "code",
   "execution_count": 146,
   "metadata": {},
   "outputs": [],
   "source": [
    "data.isna().sum()\n",
    "#elimina las observaciones que tienen valores nulos en avg_gmv_item_sel\n",
    "data.dropna(subset=['avg_gmv_item_sel'], inplace=True)\n"
   ]
  },
  {
   "cell_type": "markdown",
   "metadata": {},
   "source": [
    "Variables con texto: full_name, warranty, tags, title, category_id\n",
    "\n",
    "Convertir: print_server_timestamp\n"
   ]
  },
  {
   "cell_type": "code",
   "execution_count": 147,
   "metadata": {},
   "outputs": [],
   "source": [
    "data.drop(columns=[\"print_server_timestamp\", 'date', 'platform', \"domain_id\"], axis= \"columns\", inplace=True)"
   ]
  },
  {
   "cell_type": "code",
   "execution_count": 148,
   "metadata": {},
   "outputs": [],
   "source": [
    "data = pd.get_dummies(data,columns = [\"listing_type_id\", \"logistic_type\" ],dummy_na = False, dtype = int )\n",
    "data = pd.get_dummies(data,columns = [\"is_pdp\"],dummy_na = True, dtype = bool )"
   ]
  },
  {
   "cell_type": "code",
   "execution_count": 149,
   "metadata": {},
   "outputs": [],
   "source": [
    "train_data = data[data[\"ROW_ID\"].isna()]\n",
    "test_data = data[data[\"ROW_ID\"].notna()]\n",
    "\n",
    "x_train = train_data.drop(columns=[\"conversion\", \"ROW_ID\"])\n",
    "y_train = train_data[\"conversion\"]\n",
    "X_train, X_val, Y_train, Y_val = train_test_split(x_train, y_train, test_size=0.2, random_state=3456)\n",
    "X_test = test_data.drop(columns=[\"conversion\"])"
   ]
  },
  {
   "cell_type": "code",
   "execution_count": 150,
   "metadata": {},
   "outputs": [],
   "source": [
    "clf_xgb = xgb.XGBClassifier(objective = 'binary:logistic',\n",
    "                            seed = 100,\n",
    "                            eval_metric = 'auc')"
   ]
  },
  {
   "cell_type": "code",
   "execution_count": 151,
   "metadata": {},
   "outputs": [
    {
     "name": "stderr",
     "output_type": "stream",
     "text": [
      "/Users/tomasglauberman/opt/anaconda3/envs/td6/lib/python3.11/site-packages/xgboost/data.py:312: FutureWarning: is_sparse is deprecated and will be removed in a future version. Check `isinstance(dtype, pd.SparseDtype)` instead.\n",
      "  if is_sparse(dtype):\n",
      "/Users/tomasglauberman/opt/anaconda3/envs/td6/lib/python3.11/site-packages/xgboost/data.py:314: FutureWarning: is_categorical_dtype is deprecated and will be removed in a future version. Use isinstance(dtype, CategoricalDtype) instead\n",
      "  elif is_categorical_dtype(dtype) and enable_categorical:\n",
      "/Users/tomasglauberman/opt/anaconda3/envs/td6/lib/python3.11/site-packages/xgboost/data.py:345: FutureWarning: is_categorical_dtype is deprecated and will be removed in a future version. Use isinstance(dtype, CategoricalDtype) instead\n",
      "  if is_categorical_dtype(dtype)\n",
      "/Users/tomasglauberman/opt/anaconda3/envs/td6/lib/python3.11/site-packages/xgboost/data.py:336: FutureWarning: is_categorical_dtype is deprecated and will be removed in a future version. Use isinstance(dtype, CategoricalDtype) instead\n",
      "  return is_int or is_bool or is_float or is_categorical_dtype(dtype)\n",
      "/Users/tomasglauberman/opt/anaconda3/envs/td6/lib/python3.11/site-packages/xgboost/data.py:440: FutureWarning: is_sparse is deprecated and will be removed in a future version. Check `isinstance(dtype, pd.SparseDtype)` instead.\n",
      "  if is_sparse(data):\n",
      "/Users/tomasglauberman/opt/anaconda3/envs/td6/lib/python3.11/site-packages/xgboost/data.py:312: FutureWarning: is_sparse is deprecated and will be removed in a future version. Check `isinstance(dtype, pd.SparseDtype)` instead.\n",
      "  if is_sparse(dtype):\n",
      "/Users/tomasglauberman/opt/anaconda3/envs/td6/lib/python3.11/site-packages/xgboost/data.py:314: FutureWarning: is_categorical_dtype is deprecated and will be removed in a future version. Use isinstance(dtype, CategoricalDtype) instead\n",
      "  elif is_categorical_dtype(dtype) and enable_categorical:\n",
      "/Users/tomasglauberman/opt/anaconda3/envs/td6/lib/python3.11/site-packages/xgboost/data.py:345: FutureWarning: is_categorical_dtype is deprecated and will be removed in a future version. Use isinstance(dtype, CategoricalDtype) instead\n",
      "  if is_categorical_dtype(dtype)\n",
      "/Users/tomasglauberman/opt/anaconda3/envs/td6/lib/python3.11/site-packages/xgboost/data.py:336: FutureWarning: is_categorical_dtype is deprecated and will be removed in a future version. Use isinstance(dtype, CategoricalDtype) instead\n",
      "  return is_int or is_bool or is_float or is_categorical_dtype(dtype)\n",
      "/Users/tomasglauberman/opt/anaconda3/envs/td6/lib/python3.11/site-packages/xgboost/data.py:440: FutureWarning: is_sparse is deprecated and will be removed in a future version. Check `isinstance(dtype, pd.SparseDtype)` instead.\n",
      "  if is_sparse(data):\n"
     ]
    },
    {
     "name": "stdout",
     "output_type": "stream",
     "text": [
      "[0]\tvalidation_0-auc:0.85804\n",
      "[1]\tvalidation_0-auc:0.86087\n",
      "[2]\tvalidation_0-auc:0.86185\n",
      "[3]\tvalidation_0-auc:0.86251\n",
      "[4]\tvalidation_0-auc:0.86447\n",
      "[5]\tvalidation_0-auc:0.86531\n",
      "[6]\tvalidation_0-auc:0.86558\n",
      "[7]\tvalidation_0-auc:0.86608\n",
      "[8]\tvalidation_0-auc:0.86700\n",
      "[9]\tvalidation_0-auc:0.86754\n",
      "[10]\tvalidation_0-auc:0.86841\n",
      "[11]\tvalidation_0-auc:0.86913\n",
      "[12]\tvalidation_0-auc:0.86922\n",
      "[13]\tvalidation_0-auc:0.86976\n",
      "[14]\tvalidation_0-auc:0.87054\n",
      "[15]\tvalidation_0-auc:0.87132\n",
      "[16]\tvalidation_0-auc:0.87169\n",
      "[17]\tvalidation_0-auc:0.87223\n",
      "[18]\tvalidation_0-auc:0.87224\n",
      "[19]\tvalidation_0-auc:0.87232\n",
      "[20]\tvalidation_0-auc:0.87278\n",
      "[21]\tvalidation_0-auc:0.87308\n",
      "[22]\tvalidation_0-auc:0.87358\n",
      "[23]\tvalidation_0-auc:0.87429\n",
      "[24]\tvalidation_0-auc:0.87443\n",
      "[25]\tvalidation_0-auc:0.87456\n",
      "[26]\tvalidation_0-auc:0.87465\n",
      "[27]\tvalidation_0-auc:0.87462\n",
      "[28]\tvalidation_0-auc:0.87475\n",
      "[29]\tvalidation_0-auc:0.87549\n",
      "[30]\tvalidation_0-auc:0.87607\n",
      "[31]\tvalidation_0-auc:0.87603\n",
      "[32]\tvalidation_0-auc:0.87612\n",
      "[33]\tvalidation_0-auc:0.87612\n",
      "[34]\tvalidation_0-auc:0.87668\n",
      "[35]\tvalidation_0-auc:0.87700\n",
      "[36]\tvalidation_0-auc:0.87712\n",
      "[37]\tvalidation_0-auc:0.87718\n",
      "[38]\tvalidation_0-auc:0.87725\n",
      "[39]\tvalidation_0-auc:0.87745\n",
      "[40]\tvalidation_0-auc:0.87735\n",
      "[41]\tvalidation_0-auc:0.87751\n",
      "[42]\tvalidation_0-auc:0.87778\n",
      "[43]\tvalidation_0-auc:0.87800\n",
      "[44]\tvalidation_0-auc:0.87802\n",
      "[45]\tvalidation_0-auc:0.87820\n",
      "[46]\tvalidation_0-auc:0.87848\n",
      "[47]\tvalidation_0-auc:0.87870\n",
      "[48]\tvalidation_0-auc:0.87874\n",
      "[49]\tvalidation_0-auc:0.87868\n",
      "[50]\tvalidation_0-auc:0.87897\n",
      "[51]\tvalidation_0-auc:0.87904\n",
      "[52]\tvalidation_0-auc:0.87890\n",
      "[53]\tvalidation_0-auc:0.87912\n",
      "[54]\tvalidation_0-auc:0.87911\n",
      "[55]\tvalidation_0-auc:0.87929\n",
      "[56]\tvalidation_0-auc:0.87933\n",
      "[57]\tvalidation_0-auc:0.87920\n",
      "[58]\tvalidation_0-auc:0.87926\n",
      "[59]\tvalidation_0-auc:0.87944\n",
      "[60]\tvalidation_0-auc:0.87943\n",
      "[61]\tvalidation_0-auc:0.87939\n",
      "[62]\tvalidation_0-auc:0.87948\n",
      "[63]\tvalidation_0-auc:0.87946\n",
      "[64]\tvalidation_0-auc:0.87946\n",
      "[65]\tvalidation_0-auc:0.87956\n",
      "[66]\tvalidation_0-auc:0.87956\n",
      "[67]\tvalidation_0-auc:0.87961\n",
      "[68]\tvalidation_0-auc:0.87959\n",
      "[69]\tvalidation_0-auc:0.87963\n",
      "[70]\tvalidation_0-auc:0.87965\n",
      "[71]\tvalidation_0-auc:0.87972\n",
      "[72]\tvalidation_0-auc:0.87969\n",
      "[73]\tvalidation_0-auc:0.87982\n",
      "[74]\tvalidation_0-auc:0.88006\n",
      "[75]\tvalidation_0-auc:0.88007\n",
      "[76]\tvalidation_0-auc:0.88001\n",
      "[77]\tvalidation_0-auc:0.88011\n",
      "[78]\tvalidation_0-auc:0.87995\n",
      "[79]\tvalidation_0-auc:0.88001\n",
      "[80]\tvalidation_0-auc:0.87991\n",
      "[81]\tvalidation_0-auc:0.87994\n",
      "[82]\tvalidation_0-auc:0.88011\n",
      "[83]\tvalidation_0-auc:0.88013\n",
      "[84]\tvalidation_0-auc:0.88010\n",
      "[85]\tvalidation_0-auc:0.88028\n",
      "[86]\tvalidation_0-auc:0.88026\n",
      "[87]\tvalidation_0-auc:0.88029\n",
      "[88]\tvalidation_0-auc:0.88020\n",
      "[89]\tvalidation_0-auc:0.88017\n",
      "[90]\tvalidation_0-auc:0.88018\n",
      "[91]\tvalidation_0-auc:0.88017\n",
      "[92]\tvalidation_0-auc:0.88018\n",
      "[93]\tvalidation_0-auc:0.88019\n",
      "[94]\tvalidation_0-auc:0.88019\n",
      "[95]\tvalidation_0-auc:0.88008\n",
      "[96]\tvalidation_0-auc:0.88002\n",
      "[97]\tvalidation_0-auc:0.88024\n",
      "[98]\tvalidation_0-auc:0.88021\n",
      "[99]\tvalidation_0-auc:0.88028\n"
     ]
    },
    {
     "data": {
      "text/html": [
       "<style>#sk-container-id-7 {color: black;}#sk-container-id-7 pre{padding: 0;}#sk-container-id-7 div.sk-toggleable {background-color: white;}#sk-container-id-7 label.sk-toggleable__label {cursor: pointer;display: block;width: 100%;margin-bottom: 0;padding: 0.3em;box-sizing: border-box;text-align: center;}#sk-container-id-7 label.sk-toggleable__label-arrow:before {content: \"▸\";float: left;margin-right: 0.25em;color: #696969;}#sk-container-id-7 label.sk-toggleable__label-arrow:hover:before {color: black;}#sk-container-id-7 div.sk-estimator:hover label.sk-toggleable__label-arrow:before {color: black;}#sk-container-id-7 div.sk-toggleable__content {max-height: 0;max-width: 0;overflow: hidden;text-align: left;background-color: #f0f8ff;}#sk-container-id-7 div.sk-toggleable__content pre {margin: 0.2em;color: black;border-radius: 0.25em;background-color: #f0f8ff;}#sk-container-id-7 input.sk-toggleable__control:checked~div.sk-toggleable__content {max-height: 200px;max-width: 100%;overflow: auto;}#sk-container-id-7 input.sk-toggleable__control:checked~label.sk-toggleable__label-arrow:before {content: \"▾\";}#sk-container-id-7 div.sk-estimator input.sk-toggleable__control:checked~label.sk-toggleable__label {background-color: #d4ebff;}#sk-container-id-7 div.sk-label input.sk-toggleable__control:checked~label.sk-toggleable__label {background-color: #d4ebff;}#sk-container-id-7 input.sk-hidden--visually {border: 0;clip: rect(1px 1px 1px 1px);clip: rect(1px, 1px, 1px, 1px);height: 1px;margin: -1px;overflow: hidden;padding: 0;position: absolute;width: 1px;}#sk-container-id-7 div.sk-estimator {font-family: monospace;background-color: #f0f8ff;border: 1px dotted black;border-radius: 0.25em;box-sizing: border-box;margin-bottom: 0.5em;}#sk-container-id-7 div.sk-estimator:hover {background-color: #d4ebff;}#sk-container-id-7 div.sk-parallel-item::after {content: \"\";width: 100%;border-bottom: 1px solid gray;flex-grow: 1;}#sk-container-id-7 div.sk-label:hover label.sk-toggleable__label {background-color: #d4ebff;}#sk-container-id-7 div.sk-serial::before {content: \"\";position: absolute;border-left: 1px solid gray;box-sizing: border-box;top: 0;bottom: 0;left: 50%;z-index: 0;}#sk-container-id-7 div.sk-serial {display: flex;flex-direction: column;align-items: center;background-color: white;padding-right: 0.2em;padding-left: 0.2em;position: relative;}#sk-container-id-7 div.sk-item {position: relative;z-index: 1;}#sk-container-id-7 div.sk-parallel {display: flex;align-items: stretch;justify-content: center;background-color: white;position: relative;}#sk-container-id-7 div.sk-item::before, #sk-container-id-7 div.sk-parallel-item::before {content: \"\";position: absolute;border-left: 1px solid gray;box-sizing: border-box;top: 0;bottom: 0;left: 50%;z-index: -1;}#sk-container-id-7 div.sk-parallel-item {display: flex;flex-direction: column;z-index: 1;position: relative;background-color: white;}#sk-container-id-7 div.sk-parallel-item:first-child::after {align-self: flex-end;width: 50%;}#sk-container-id-7 div.sk-parallel-item:last-child::after {align-self: flex-start;width: 50%;}#sk-container-id-7 div.sk-parallel-item:only-child::after {width: 0;}#sk-container-id-7 div.sk-dashed-wrapped {border: 1px dashed gray;margin: 0 0.4em 0.5em 0.4em;box-sizing: border-box;padding-bottom: 0.4em;background-color: white;}#sk-container-id-7 div.sk-label label {font-family: monospace;font-weight: bold;display: inline-block;line-height: 1.2em;}#sk-container-id-7 div.sk-label-container {text-align: center;}#sk-container-id-7 div.sk-container {/* jupyter's `normalize.less` sets `[hidden] { display: none; }` but bootstrap.min.css set `[hidden] { display: none !important; }` so we also need the `!important` here to be able to override the default hidden behavior on the sphinx rendered scikit-learn.org. See: https://github.com/scikit-learn/scikit-learn/issues/21755 */display: inline-block !important;position: relative;}#sk-container-id-7 div.sk-text-repr-fallback {display: none;}</style><div id=\"sk-container-id-7\" class=\"sk-top-container\"><div class=\"sk-text-repr-fallback\"><pre>XGBClassifier(base_score=None, booster=None, callbacks=None,\n",
       "              colsample_bylevel=None, colsample_bynode=None,\n",
       "              colsample_bytree=None, early_stopping_rounds=None,\n",
       "              enable_categorical=False, eval_metric=&#x27;auc&#x27;, feature_types=None,\n",
       "              gamma=None, gpu_id=None, grow_policy=None, importance_type=None,\n",
       "              interaction_constraints=None, learning_rate=None, max_bin=None,\n",
       "              max_cat_threshold=None, max_cat_to_onehot=None,\n",
       "              max_delta_step=None, max_depth=None, max_leaves=None,\n",
       "              min_child_weight=None, missing=nan, monotone_constraints=None,\n",
       "              n_estimators=100, n_jobs=None, num_parallel_tree=None,\n",
       "              predictor=None, random_state=None, ...)</pre><b>In a Jupyter environment, please rerun this cell to show the HTML representation or trust the notebook. <br />On GitHub, the HTML representation is unable to render, please try loading this page with nbviewer.org.</b></div><div class=\"sk-container\" hidden><div class=\"sk-item\"><div class=\"sk-estimator sk-toggleable\"><input class=\"sk-toggleable__control sk-hidden--visually\" id=\"sk-estimator-id-7\" type=\"checkbox\" checked><label for=\"sk-estimator-id-7\" class=\"sk-toggleable__label sk-toggleable__label-arrow\">XGBClassifier</label><div class=\"sk-toggleable__content\"><pre>XGBClassifier(base_score=None, booster=None, callbacks=None,\n",
       "              colsample_bylevel=None, colsample_bynode=None,\n",
       "              colsample_bytree=None, early_stopping_rounds=None,\n",
       "              enable_categorical=False, eval_metric=&#x27;auc&#x27;, feature_types=None,\n",
       "              gamma=None, gpu_id=None, grow_policy=None, importance_type=None,\n",
       "              interaction_constraints=None, learning_rate=None, max_bin=None,\n",
       "              max_cat_threshold=None, max_cat_to_onehot=None,\n",
       "              max_delta_step=None, max_depth=None, max_leaves=None,\n",
       "              min_child_weight=None, missing=nan, monotone_constraints=None,\n",
       "              n_estimators=100, n_jobs=None, num_parallel_tree=None,\n",
       "              predictor=None, random_state=None, ...)</pre></div></div></div></div></div>"
      ],
      "text/plain": [
       "XGBClassifier(base_score=None, booster=None, callbacks=None,\n",
       "              colsample_bylevel=None, colsample_bynode=None,\n",
       "              colsample_bytree=None, early_stopping_rounds=None,\n",
       "              enable_categorical=False, eval_metric='auc', feature_types=None,\n",
       "              gamma=None, gpu_id=None, grow_policy=None, importance_type=None,\n",
       "              interaction_constraints=None, learning_rate=None, max_bin=None,\n",
       "              max_cat_threshold=None, max_cat_to_onehot=None,\n",
       "              max_delta_step=None, max_depth=None, max_leaves=None,\n",
       "              min_child_weight=None, missing=nan, monotone_constraints=None,\n",
       "              n_estimators=100, n_jobs=None, num_parallel_tree=None,\n",
       "              predictor=None, random_state=None, ...)"
      ]
     },
     "execution_count": 151,
     "metadata": {},
     "output_type": "execute_result"
    }
   ],
   "source": [
    "clf_xgb.fit(X_train, Y_train, verbose = True, eval_set = [(X_val, Y_val)])"
   ]
  },
  {
   "cell_type": "code",
   "execution_count": 58,
   "metadata": {},
   "outputs": [
    {
     "name": "stderr",
     "output_type": "stream",
     "text": [
      "/Users/tomasglauberman/opt/anaconda3/envs/td6/lib/python3.11/site-packages/xgboost/data.py:312: FutureWarning: is_sparse is deprecated and will be removed in a future version. Check `isinstance(dtype, pd.SparseDtype)` instead.\n",
      "  if is_sparse(dtype):\n",
      "/Users/tomasglauberman/opt/anaconda3/envs/td6/lib/python3.11/site-packages/xgboost/data.py:314: FutureWarning: is_categorical_dtype is deprecated and will be removed in a future version. Use isinstance(dtype, CategoricalDtype) instead\n",
      "  elif is_categorical_dtype(dtype) and enable_categorical:\n",
      "/Users/tomasglauberman/opt/anaconda3/envs/td6/lib/python3.11/site-packages/xgboost/data.py:345: FutureWarning: is_categorical_dtype is deprecated and will be removed in a future version. Use isinstance(dtype, CategoricalDtype) instead\n",
      "  if is_categorical_dtype(dtype)\n",
      "/Users/tomasglauberman/opt/anaconda3/envs/td6/lib/python3.11/site-packages/xgboost/data.py:336: FutureWarning: is_categorical_dtype is deprecated and will be removed in a future version. Use isinstance(dtype, CategoricalDtype) instead\n",
      "  return is_int or is_bool or is_float or is_categorical_dtype(dtype)\n"
     ]
    }
   ],
   "source": [
    "y_preds = clf_xgb.predict_proba(X_test.drop(columns=[\"ROW_ID\"]))[:, clf_xgb.classes_ == 1].squeeze()"
   ]
  },
  {
   "cell_type": "code",
   "execution_count": 152,
   "metadata": {},
   "outputs": [
    {
     "name": "stdout",
     "output_type": "stream",
     "text": [
      "                              feature  importance\n",
      "0                          is_pdp_nan    0.691216\n",
      "1                      print_position    0.020292\n",
      "2            total_orders_item_30days    0.018534\n",
      "3                              offset    0.017148\n",
      "4           logistic_type_xd_drop_off    0.017070\n",
      "5                logistic_type_custom    0.017020\n",
      "6         logistic_type_not_specified    0.013301\n",
      "7                       free_shipping    0.013167\n",
      "8                               price    0.009370\n",
      "9                         fulfillment    0.008859\n",
      "10           listing_type_id_gold_pro    0.008676\n",
      "11             total_si_domain_30days    0.007476\n",
      "12         total_orders_domain_30days    0.007017\n",
      "13         avg_gmv_item_domain_30days    0.006813\n",
      "14                             health    0.006733\n",
      "15                     original_price    0.006638\n",
      "16  avg_qty_orders_item_domain_30days    0.006332\n",
      "17             logistic_type_drop_off    0.006299\n",
      "18                total_visits_domain    0.006207\n",
      "19                      qty_items_dom    0.006146\n",
      "20                 total_items_seller    0.006118\n",
      "21       total_asp_item_domain_30days    0.006055\n",
      "22                 total_items_domain    0.006023\n",
      "23                  total_visits_item    0.005949\n",
      "24                total_si_sel_30days    0.005788\n",
      "25     avg_qty_orders_item_sel_30days    0.005680\n",
      "26              avg_si_item_sel_30day    0.005654\n",
      "27        logistic_type_cross_docking    0.005643\n",
      "28                total_visits_seller    0.005609\n",
      "29              total_gmv_domain_bday    0.005592\n",
      "30               total_si_item_30days    0.005586\n",
      "31                avg_gmv_seller_bday    0.005538\n",
      "32                   avg_gmv_item_sel    0.005385\n",
      "33            total_orders_sel_30days    0.005269\n",
      "34          total_asp_item_sel_30days    0.005261\n",
      "35              total_gmv_item_30days    0.005165\n",
      "36                      qty_items_sel    0.004959\n",
      "37                      sold_quantity    0.004226\n",
      "38                 available_quantity    0.004220\n",
      "39                        is_pdp_True    0.001968\n",
      "40                       is_pdp_False    0.000000\n",
      "41                            boosted    0.000000\n",
      "42          logistic_type_fulfillment    0.000000\n",
      "43              logistic_type_default    0.000000\n",
      "44       listing_type_id_gold_special    0.000000\n",
      "45                accepts_mercadopago    0.000000\n"
     ]
    }
   ],
   "source": [
    "feature_importance = pd.DataFrame({'feature': X_train.columns, 'importance': clf_xgb.feature_importances_})\n",
    "feature_importance.sort_values(by='importance', ascending=False, inplace=True)\n",
    "feature_importance.reset_index(drop=True, inplace=True)\n",
    "print(feature_importance)"
   ]
  },
  {
   "cell_type": "code",
   "execution_count": 116,
   "metadata": {},
   "outputs": [
    {
     "name": "stdout",
     "output_type": "stream",
     "text": [
      "174 19037\n",
      "Media:  0.08019693 , Desvio:  0.11669169\n"
     ]
    }
   ],
   "source": [
    "preds_final = [True if x > 0.50 else False for x in y_preds]\n",
    "print(preds_final.count(True), preds_final.count(False))\n",
    "#infomracion estadistica de los scores\n",
    "print(\"Media: \", y_preds.mean(), \", Desvio: \", y_preds.std())"
   ]
  },
  {
   "cell_type": "code",
   "execution_count": 114,
   "metadata": {},
   "outputs": [
    {
     "data": {
      "image/png": "[encoded data removed]",
      "text/plain": [
       "<Figure size 640x480 with 1 Axes>"
      ]
     },
     "metadata": {},
     "output_type": "display_data"
    }
   ],
   "source": [
    "plt.hist(y_preds, bins=20, density=True, alpha=0.5, histtype='stepfilled', color='steelblue', edgecolor='none')\n",
    "plt.show()"
   ]
  },
  {
   "cell_type": "code",
   "execution_count": 11,
   "metadata": {},
   "outputs": [],
   "source": [
    "submission_df = pd.DataFrame({\"ROW_ID\": X_test[\"ROW_ID\"], \"conversion\": y_preds})\n",
    "submission_df[\"ROW_ID\"] = submission_df[\"ROW_ID\"].astype(int)\n",
    "submission_df.to_csv(\"./outputs/primer_modelo_limp_data.csv\", sep=\",\", index=False)"
   ]
  }
 ],
 "metadata": {
  "kernelspec": {
   "display_name": "base",
   "language": "python",
   "name": "python3"
  },
  "language_info": {
   "codemirror_mode": {
    "name": "ipython",
    "version": 3
   },
   "file_extension": ".py",
   "mimetype": "text/x-python",
   "name": "python",
   "nbconvert_exporter": "python",
   "pygments_lexer": "ipython3",
   "version": "3.11.4"
  },
  "orig_nbformat": 4
 },
 "nbformat": 4,
 "nbformat_minor": 2
}
