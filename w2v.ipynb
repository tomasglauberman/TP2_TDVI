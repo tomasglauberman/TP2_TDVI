{
 "cells": [
  {
   "cell_type": "code",
   "execution_count": 1,
   "metadata": {},
   "outputs": [],
   "source": [
    "import pandas as pd\n",
    "import numpy as np\n",
    "\n",
    "# Models\n",
    "import xgboost as xgb\n",
    "from sklearn.linear_model import LogisticRegression\n",
    "from sklearn.ensemble import HistGradientBoostingClassifier\n",
    "\n",
    "# Processing and metrics\n",
    "from sklearn.pipeline import make_pipeline\n",
    "from sklearn.model_selection import train_test_split, RandomizedSearchCV, KFold\n",
    "from sklearn.metrics import roc_auc_score\n",
    "from sklearn.model_selection import cross_val_score\n",
    "from sklearn.preprocessing import StandardScaler, PolynomialFeatures\n",
    "from sklearn.decomposition import PCA, TruncatedSVD\n",
    "\n",
    "# Optimization\n",
    "from scipy.stats import uniform, loguniform\n",
    "from hyperopt import fmin, tpe, hp, STATUS_OK, space_eval\n",
    "from hyperopt.pyll import scope\n",
    "\n",
    "# NLP\n",
    "import gensim\n",
    "from sklearn.feature_extraction.text import TfidfVectorizer\n",
    "from nltk.tokenize import sent_tokenize, word_tokenize\n",
    "from nltk.corpus import stopwords\n",
    "import re"
   ]
  },
  {
   "cell_type": "code",
   "execution_count": 2,
   "metadata": {},
   "outputs": [],
   "source": [
    "data = pd.read_csv(\"./data/competition_data.csv\")"
   ]
  },
  {
   "cell_type": "markdown",
   "metadata": {},
   "source": [
    "# Procesamiento de datos\n",
    "Se realiza una selección de variables por filtering. Luego se realizan las conversiones de datos necesarias.\n",
    "\n",
    "TODO:\n",
    "- Agregar PolynomialFeatures?"
   ]
  },
  {
   "cell_type": "markdown",
   "metadata": {},
   "source": [
    "#### Filtering e ingenieria de atributos"
   ]
  },
  {
   "cell_type": "code",
   "execution_count": 3,
   "metadata": {},
   "outputs": [],
   "source": [
    "data.drop(columns=['benefit', 'deal_print_id','etl_version',\n",
    "                   'item_id', 'main_picture', 'product_id', 'date',\n",
    "                   'site_id','uid', 'user_id', 'category_id', 'domain_id'], axis= \"columns\", inplace=True)"
   ]
  },
  {
   "cell_type": "markdown",
   "metadata": {},
   "source": [
    "Extraemos la cantidad de dias de *warranty* y reemplazamos columna con esos valores"
   ]
  },
  {
   "cell_type": "code",
   "execution_count": 4,
   "metadata": {},
   "outputs": [],
   "source": [
    "def extract_warr_days(text):\n",
    "    if len(text) > 80:\n",
    "        return 0\n",
    "    matchD = re.search(r'(\\d+)\\s+d(i|í)as', text)\n",
    "    matchM = re.search(r'(\\d+)\\s+m(e|é)ses', text)\n",
    "    matchY = re.search(r'(\\d+)\\s+a(n|ñ)os', text)\n",
    "    if matchD:\n",
    "        return int(matchD.group(1))\n",
    "    elif matchM:\n",
    "        return int(matchM.group(1))*30\n",
    "    elif matchY:\n",
    "        return int(matchY.group(1))*365\n",
    "    else:\n",
    "        return None\n",
    "    \n",
    "data['warranty'] = data['warranty'].fillna(\"Sin garantia\").apply(lambda x: extract_warr_days(x)).fillna(0)"
   ]
  },
  {
   "cell_type": "markdown",
   "metadata": {},
   "source": [
    "Convertimos la columna de conversiones a bool. Separamos la fecha en diferente columnas."
   ]
  },
  {
   "cell_type": "code",
   "execution_count": 5,
   "metadata": {},
   "outputs": [],
   "source": [
    "# Y casting to bool\n",
    "data['conversion'] = data['conversion'].astype('bool')\n",
    "\n",
    "# Date processing\n",
    "data[\"print_server_timestamp\"] = pd.to_datetime(data[\"print_server_timestamp\"])\n",
    "data[\"hour\"] = data[\"print_server_timestamp\"].dt.hour\n",
    "data[\"day\"] = data[\"print_server_timestamp\"].dt.day\n",
    "data[\"month\"] = data[\"print_server_timestamp\"].dt.month\n",
    "data[\"day_of_week\"] = data[\"print_server_timestamp\"].dt.dayofweek\n",
    "data['week_of_month'] = data['print_server_timestamp'].apply(lambda d: (d.day-1) // 7 + 1)\n",
    "data.drop(columns=[\"print_server_timestamp\"], axis= \"columns\", inplace=True)"
   ]
  },
  {
   "cell_type": "markdown",
   "metadata": {},
   "source": [
    "Transformamos las variables categoricas con OHE. Para la variable *is_pdp*, agregamos un encoding para los valores faltantes."
   ]
  },
  {
   "cell_type": "code",
   "execution_count": 6,
   "metadata": {},
   "outputs": [],
   "source": [
    "data = pd.get_dummies(data, columns = [\"listing_type_id\", \"logistic_type\", \"platform\"], dummy_na = False, dtype = int)\n",
    "data = pd.get_dummies(data, columns = [\"is_pdp\"], dummy_na = True, dtype = int)"
   ]
  },
  {
   "cell_type": "markdown",
   "metadata": {},
   "source": [
    "La columna tags posee una lista de tags. creamos una columna para cada uno de los 18 tags que existe, y codificamos segun los tags presente en cada observacion"
   ]
  },
  {
   "cell_type": "code",
   "execution_count": 7,
   "metadata": {},
   "outputs": [],
   "source": [
    "data['tags'] = data['tags'].str.strip('][').str.split(', ')\n",
    "tags = set()\n",
    "for i in data['tags']:\n",
    "    for tag in i:\n",
    "        tags.add(\"tag_\" + tag)\n",
    "tags = list(tags)\n",
    "\n",
    "for tag in tags:\n",
    "    data[tag] = data['tags'].apply(lambda x: 1 if tag in x else 0)\n",
    "\n",
    "data = data.drop(columns=['tags'], axis= \"columns\")"
   ]
  },
  {
   "cell_type": "markdown",
   "metadata": {},
   "source": [
    "La columna full_name posee una cadena de la categoria y subcategorias en las que se encuentra el producto. Extramos la primera de las categorias (mas amplia) y hacemos OHE."
   ]
  },
  {
   "cell_type": "code",
   "execution_count": 8,
   "metadata": {},
   "outputs": [],
   "source": [
    "def extract_first_name(x):\n",
    "    names = x.split(\"->\")\n",
    "    if len(names) > 1:\n",
    "        return names[0][:-1]\n",
    "    else:\n",
    "        return None\n",
    "\n",
    "data['category_name'] = data['full_name'].apply(lambda x: extract_first_name(x))\n",
    "data = data.drop(columns=['full_name'], axis= \"columns\")\n",
    "data = pd.get_dummies(data, columns = [\"category_name\"], dummy_na = True, dtype = int)"
   ]
  },
  {
   "cell_type": "markdown",
   "metadata": {},
   "source": [
    "Hacemos polynomial features solo con interacciones con algunas de las columnas de int (las que parecian con algo de sentido)"
   ]
  },
  {
   "cell_type": "code",
   "execution_count": 15,
   "metadata": {},
   "outputs": [],
   "source": [
    "pf = PolynomialFeatures(degree=2, interaction_only=True, include_bias=False)\n",
    "int_cols = data.select_dtypes(include=['int']).columns\n",
    "pf.fit(data[int_cols[:11]])\n",
    "pf_data = pf.transform(data[int_cols[:11]])\n",
    "pf_data = pd.DataFrame(pf_data, columns=pf.get_feature_names_out(int_cols[:11]))\n",
    "data = pd.concat((data, pf_data.iloc[:, 11:]), axis=1)"
   ]
  },
  {
   "cell_type": "markdown",
   "metadata": {},
   "source": [
    "#### Procesamiento de columna 'title' con w2v"
   ]
  },
  {
   "cell_type": "code",
   "execution_count": 16,
   "metadata": {},
   "outputs": [],
   "source": [
    "def tokenizer(raw_text):\n",
    "    \"\"\"\n",
    "    Tokeniza y preprocesa un texto.\n",
    "\n",
    "    Args:\n",
    "        raw_text (str): Texto sin procesar.\n",
    "\n",
    "    Returns:\n",
    "        list: Lista de oraciones, donde cada oración es una lista de palabras.\n",
    "    \"\"\"\n",
    "    sentences = sent_tokenize(raw_text)\n",
    "    sentences = [word_tokenize(e) for e in sentences]\n",
    "    sentences = [[e2 for e2 in e1 if re.compile(\"[A-Za-z]\").search(e2[0])] for e1 in sentences]\n",
    "    sentences = [[e2.lower() for e2 in e1] for e1 in sentences]\n",
    "    return(sentences)\n",
    "\n",
    "def average_vectors(title_tokens, model, stopwords=None):\n",
    "    \"\"\"\n",
    "    Calcula el vector promedio de un conjunto de tokens utilizando un modelo Word2Vec.\n",
    "\n",
    "    Args:\n",
    "        title_tokens (list): Lista de tokens.\n",
    "        model (gensim.models.Word2Vec): Modelo Word2Vec.\n",
    "        stopwords (set, optional): Conjunto de palabras stopwords. Defaults to None.\n",
    "\n",
    "    Returns:\n",
    "        numpy.ndarray: Vector promedio.\n",
    "    \"\"\"\n",
    "    title_tokens = [e2 for e1 in title_tokens for e2 in e1]\n",
    "    title_tokens = [e for e in title_tokens if e in model.wv]\n",
    "    if stopwords is not None:\n",
    "        title_tokens = [e for e in title_tokens if e not in stopwords]\n",
    "    if len(title_tokens) == 0:\n",
    "        output = np.zeros(model.wv.vector_size)\n",
    "    else:\n",
    "        output = np.array([model.wv.get_vector(e) for e in title_tokens]).mean(0)\n",
    "    return output\n",
    "\n",
    "def PCA_K1(dataframe):\n",
    "    scaler = StandardScaler(with_std=True, with_mean=True)\n",
    "    pca = PCA()\n",
    "    pca.fit(scaler.fit_transform(dataframe))\n",
    "    return pca\n"
   ]
  },
  {
   "cell_type": "code",
   "execution_count": 18,
   "metadata": {},
   "outputs": [
    {
     "data": {
      "text/plain": [
       "(74029964, 74992250)"
      ]
     },
     "execution_count": 18,
     "metadata": {},
     "output_type": "execute_result"
    }
   ],
   "source": [
    "STOP_WORDS_SP = set(stopwords.words('spanish'))\n",
    "data[\"title_tokens\"] = data[\"title\"].map(tokenizer)\n",
    "\n",
    "# Creación del modelo Word2Vec\n",
    "w2v_tp = gensim.models.Word2Vec(vector_size=30,\n",
    "                                window=3,\n",
    "                                min_count=5,\n",
    "                                negative=10,\n",
    "                                sample=0.01,\n",
    "                                workers=8,\n",
    "                                sg=1)\n",
    "\n",
    "# Creación del vocabulario a partir del corpus\n",
    "w2v_tp.build_vocab([e2 for e1 in data[\"title_tokens\"].values for e2 in e1],\n",
    "                   progress_per=10000)\n",
    "\n",
    "# Entrenamiento del modelo Word2Vec\n",
    "w2v_tp.train([e2 for e1 in data[\"title_tokens\"].values for e2 in e1],\n",
    "             total_examples=w2v_tp.corpus_count,\n",
    "             epochs=50, report_delay=1)"
   ]
  },
  {
   "cell_type": "code",
   "execution_count": 20,
   "metadata": {},
   "outputs": [],
   "source": [
    "title_embs = data[\"title_tokens\"].map(lambda x: average_vectors(x, w2v_tp, STOP_WORDS_SP))\n",
    "title_embs = np.array(title_embs.to_list())\n",
    "data = pd.concat([data, pd.DataFrame(title_embs, columns=[f'emb_{i}' for i in range(30)])], axis=1)"
   ]
  },
  {
   "cell_type": "code",
   "execution_count": 21,
   "metadata": {},
   "outputs": [],
   "source": [
    "data.drop(columns=[\"title\", \"title_tokens\"], axis= \"columns\", inplace=True)"
   ]
  },
  {
   "cell_type": "code",
   "execution_count": 22,
   "metadata": {},
   "outputs": [],
   "source": [
    "data.to_csv(\"./data/competition_data_ready.csv\", index=False)"
   ]
  },
  {
   "cell_type": "markdown",
   "metadata": {},
   "source": [
    "# Entrenamiento del modelo"
   ]
  },
  {
   "cell_type": "code",
   "execution_count": 2,
   "metadata": {},
   "outputs": [],
   "source": [
    "data = pd.read_csv(\"./data/competition_data_ready.csv\")\n",
    "\n",
    "train_data = data[data[\"ROW_ID\"].isna()]\n",
    "test_data = data[data[\"ROW_ID\"].notna()]\n",
    "\n",
    "train_data.columns = train_data.columns.astype(str)\n",
    "test_data.columns = test_data.columns.astype(str)\n",
    "\n",
    "x_train = train_data.drop(columns=[\"conversion\", \"ROW_ID\"])\n",
    "y_train = train_data[\"conversion\"]\n",
    "\n",
    "scaler = StandardScaler()\n",
    "scaler.fit(x_train)\n",
    "x_train = scaler.transform(x_train)\n",
    "\n",
    "X_train, X_val, Y_train, Y_val = train_test_split(x_train, y_train, test_size=0.2, random_state=3456)\n",
    "X_test = test_data.drop(columns=[\"conversion\", \"ROW_ID\"])\n",
    "\n",
    "X_test = scaler.transform(X_test)"
   ]
  },
  {
   "cell_type": "markdown",
   "metadata": {},
   "source": [
    "Se crea un conjunto más pequeño para hacer optimización de hiperparametros"
   ]
  },
  {
   "cell_type": "code",
   "execution_count": 23,
   "metadata": {},
   "outputs": [],
   "source": [
    "space2 = {\n",
    "        \"n_estimators\": scope.int(hp.uniform(\"n_estimators\", 10, 1000)),\n",
    "        \"learning_rate\": hp.loguniform('learning_rate', -5, 0),\n",
    "        \"max_depth\": scope.int(hp.quniform('max_depth', 2, 10, 1)),\n",
    "        \"min_child_weight\": hp.quniform(\"min_child_weight\", 1, 10, 1),\n",
    "        \"subsample\": hp.uniform('subsample', 0.1, 1),\n",
    "        \"gamma\": hp.quniform(\"gamma\", 0.05, 3, 0.05),\n",
    "        \"colsample_bytree\": hp.quniform(\"colsample_bytree\", 0.4, 1, 0.05),\n",
    "        \"reg_lambda\": hp.quniform(\"reg_lambda\", 0.01, 2, 0.01),\n",
    "        \"reg_alpha\": hp.quniform(\"reg_alpha\", 0, 10, 1),\n",
    "    }\n",
    "\n",
    "X_train_min = X_train[:10000]\n",
    "Y_train_min = Y_train[:10000]\n",
    "\n",
    "def objective(params):\n",
    "    tree = xgb.XGBClassifier(**params, random_state = 22)\n",
    "    score = cross_val_score(tree, X_train_min, Y_train_min, cv = KFold(4)).mean() # Aplicamos validación cruzada con 4 folds.\n",
    "    return {'loss': 1 - score, 'status': STATUS_OK}\n"
   ]
  },
  {
   "cell_type": "code",
   "execution_count": 26,
   "metadata": {},
   "outputs": [
    {
     "name": "stdout",
     "output_type": "stream",
     "text": [
      "  0%|          | 0/50 [00:00<?, ?trial/s, best loss=?]"
     ]
    },
    {
     "name": "stdout",
     "output_type": "stream",
     "text": [
      " 78%|███████▊  | 39/50 [31:52<09:59, 54.51s/trial, best loss: 0.09099999999999997]"
     ]
    }
   ],
   "source": [
    "best = fmin(objective, space = space2,\n",
    "            algo = tpe.suggest,\n",
    "            max_evals = 10,\n",
    "            rstate = np.random.default_rng(22))"
   ]
  },
  {
   "cell_type": "code",
   "execution_count": 14,
   "metadata": {},
   "outputs": [
    {
     "name": "stdout",
     "output_type": "stream",
     "text": [
      "BEST PARAMS:  {'early_stopping': True, 'l2_regularization': 0.23693924419361373, 'learning_rate': 0.03722951048080424, 'max_bins': 20, 'max_depth': 11, 'max_leaf_nodes': 10, 'min_samples_leaf': 55, 'validation_fraction': 0.13753150359451294, 'warm_start': False}\n"
     ]
    }
   ],
   "source": [
    "best_params = space_eval(space2, best)\n",
    "print(\"BEST PARAMS: \", best_params)"
   ]
  },
  {
   "cell_type": "code",
   "execution_count": 3,
   "metadata": {},
   "outputs": [
    {
     "name": "stdout",
     "output_type": "stream",
     "text": [
      "0.9111000470223771\n",
      "0.8954204202490732\n"
     ]
    }
   ],
   "source": [
    "best_params_found = {'early_stopping': False, 'l2_regularization': 0.35979456172848456, 'learning_rate': 0.035719415867667643, 'max_bins': 10, 'max_depth': 60, 'max_iter': 260, 'max_leaf_nodes': 60, 'min_samples_leaf': 9, 'n_iter_no_change': 4, 'validation_fraction': 0.4578017029077751, 'warm_start': False}\n",
    "\n",
    "clf = xgb.XGBClassifier(**best_params_found, random_state = 22)\n",
    "clf.fit(X_train, Y_train)\n",
    "print(clf.score(X_val, Y_val))\n",
    "print(roc_auc_score(Y_val, clf.predict_proba(X_val)[:, clf.classes_== 1]))"
   ]
  },
  {
   "cell_type": "code",
   "execution_count": 6,
   "metadata": {},
   "outputs": [
    {
     "name": "stdout",
     "output_type": "stream",
     "text": [
      "0.8909319935679475\n"
     ]
    }
   ],
   "source": [
    "cv = KFold(n_splits=5, random_state=0, shuffle=True)\n",
    "scores = cross_val_score(clf, x_train, y_train, cv=cv, scoring=\"roc_auc\")\n",
    "print(scores.mean())"
   ]
  },
  {
   "cell_type": "code",
   "execution_count": 21,
   "metadata": {},
   "outputs": [
    {
     "data": {
      "text/html": [
       "<style>#sk-container-id-1 {color: black;}#sk-container-id-1 pre{padding: 0;}#sk-container-id-1 div.sk-toggleable {background-color: white;}#sk-container-id-1 label.sk-toggleable__label {cursor: pointer;display: block;width: 100%;margin-bottom: 0;padding: 0.3em;box-sizing: border-box;text-align: center;}#sk-container-id-1 label.sk-toggleable__label-arrow:before {content: \"▸\";float: left;margin-right: 0.25em;color: #696969;}#sk-container-id-1 label.sk-toggleable__label-arrow:hover:before {color: black;}#sk-container-id-1 div.sk-estimator:hover label.sk-toggleable__label-arrow:before {color: black;}#sk-container-id-1 div.sk-toggleable__content {max-height: 0;max-width: 0;overflow: hidden;text-align: left;background-color: #f0f8ff;}#sk-container-id-1 div.sk-toggleable__content pre {margin: 0.2em;color: black;border-radius: 0.25em;background-color: #f0f8ff;}#sk-container-id-1 input.sk-toggleable__control:checked~div.sk-toggleable__content {max-height: 200px;max-width: 100%;overflow: auto;}#sk-container-id-1 input.sk-toggleable__control:checked~label.sk-toggleable__label-arrow:before {content: \"▾\";}#sk-container-id-1 div.sk-estimator input.sk-toggleable__control:checked~label.sk-toggleable__label {background-color: #d4ebff;}#sk-container-id-1 div.sk-label input.sk-toggleable__control:checked~label.sk-toggleable__label {background-color: #d4ebff;}#sk-container-id-1 input.sk-hidden--visually {border: 0;clip: rect(1px 1px 1px 1px);clip: rect(1px, 1px, 1px, 1px);height: 1px;margin: -1px;overflow: hidden;padding: 0;position: absolute;width: 1px;}#sk-container-id-1 div.sk-estimator {font-family: monospace;background-color: #f0f8ff;border: 1px dotted black;border-radius: 0.25em;box-sizing: border-box;margin-bottom: 0.5em;}#sk-container-id-1 div.sk-estimator:hover {background-color: #d4ebff;}#sk-container-id-1 div.sk-parallel-item::after {content: \"\";width: 100%;border-bottom: 1px solid gray;flex-grow: 1;}#sk-container-id-1 div.sk-label:hover label.sk-toggleable__label {background-color: #d4ebff;}#sk-container-id-1 div.sk-serial::before {content: \"\";position: absolute;border-left: 1px solid gray;box-sizing: border-box;top: 0;bottom: 0;left: 50%;z-index: 0;}#sk-container-id-1 div.sk-serial {display: flex;flex-direction: column;align-items: center;background-color: white;padding-right: 0.2em;padding-left: 0.2em;position: relative;}#sk-container-id-1 div.sk-item {position: relative;z-index: 1;}#sk-container-id-1 div.sk-parallel {display: flex;align-items: stretch;justify-content: center;background-color: white;position: relative;}#sk-container-id-1 div.sk-item::before, #sk-container-id-1 div.sk-parallel-item::before {content: \"\";position: absolute;border-left: 1px solid gray;box-sizing: border-box;top: 0;bottom: 0;left: 50%;z-index: -1;}#sk-container-id-1 div.sk-parallel-item {display: flex;flex-direction: column;z-index: 1;position: relative;background-color: white;}#sk-container-id-1 div.sk-parallel-item:first-child::after {align-self: flex-end;width: 50%;}#sk-container-id-1 div.sk-parallel-item:last-child::after {align-self: flex-start;width: 50%;}#sk-container-id-1 div.sk-parallel-item:only-child::after {width: 0;}#sk-container-id-1 div.sk-dashed-wrapped {border: 1px dashed gray;margin: 0 0.4em 0.5em 0.4em;box-sizing: border-box;padding-bottom: 0.4em;background-color: white;}#sk-container-id-1 div.sk-label label {font-family: monospace;font-weight: bold;display: inline-block;line-height: 1.2em;}#sk-container-id-1 div.sk-label-container {text-align: center;}#sk-container-id-1 div.sk-container {/* jupyter's `normalize.less` sets `[hidden] { display: none; }` but bootstrap.min.css set `[hidden] { display: none !important; }` so we also need the `!important` here to be able to override the default hidden behavior on the sphinx rendered scikit-learn.org. See: https://github.com/scikit-learn/scikit-learn/issues/21755 */display: inline-block !important;position: relative;}#sk-container-id-1 div.sk-text-repr-fallback {display: none;}</style><div id=\"sk-container-id-1\" class=\"sk-top-container\"><div class=\"sk-text-repr-fallback\"><pre>HistGradientBoostingClassifier(early_stopping=False,\n",
       "                               l2_regularization=0.35979456172848456,\n",
       "                               learning_rate=0.035719415867667643, max_bins=10,\n",
       "                               max_depth=60, max_iter=260, max_leaf_nodes=60,\n",
       "                               min_samples_leaf=9, n_iter_no_change=4,\n",
       "                               random_state=22, scoring=&#x27;roc_auc&#x27;,\n",
       "                               validation_fraction=0.4578017029077751)</pre><b>In a Jupyter environment, please rerun this cell to show the HTML representation or trust the notebook. <br />On GitHub, the HTML representation is unable to render, please try loading this page with nbviewer.org.</b></div><div class=\"sk-container\" hidden><div class=\"sk-item\"><div class=\"sk-estimator sk-toggleable\"><input class=\"sk-toggleable__control sk-hidden--visually\" id=\"sk-estimator-id-1\" type=\"checkbox\" checked><label for=\"sk-estimator-id-1\" class=\"sk-toggleable__label sk-toggleable__label-arrow\">HistGradientBoostingClassifier</label><div class=\"sk-toggleable__content\"><pre>HistGradientBoostingClassifier(early_stopping=False,\n",
       "                               l2_regularization=0.35979456172848456,\n",
       "                               learning_rate=0.035719415867667643, max_bins=10,\n",
       "                               max_depth=60, max_iter=260, max_leaf_nodes=60,\n",
       "                               min_samples_leaf=9, n_iter_no_change=4,\n",
       "                               random_state=22, scoring=&#x27;roc_auc&#x27;,\n",
       "                               validation_fraction=0.4578017029077751)</pre></div></div></div></div></div>"
      ],
      "text/plain": [
       "HistGradientBoostingClassifier(early_stopping=False,\n",
       "                               l2_regularization=0.35979456172848456,\n",
       "                               learning_rate=0.035719415867667643, max_bins=10,\n",
       "                               max_depth=60, max_iter=260, max_leaf_nodes=60,\n",
       "                               min_samples_leaf=9, n_iter_no_change=4,\n",
       "                               random_state=22, scoring='roc_auc',\n",
       "                               validation_fraction=0.4578017029077751)"
      ]
     },
     "execution_count": 21,
     "metadata": {},
     "output_type": "execute_result"
    }
   ],
   "source": [
    "clf.fit(x_train, y_train)"
   ]
  },
  {
   "cell_type": "code",
   "execution_count": 24,
   "metadata": {},
   "outputs": [
    {
     "name": "stderr",
     "output_type": "stream",
     "text": [
      "/home/juanisil/anaconda3/envs/metodos/lib/python3.10/site-packages/sklearn/base.py:457: UserWarning: X has feature names, but HistGradientBoostingClassifier was fitted without feature names\n",
      "  warnings.warn(\n"
     ]
    }
   ],
   "source": [
    "y_preds = clf.predict_proba(X_test.drop(columns=[\"ROW_ID\"]))[:, clf.classes_== 1].squeeze()\n",
    "submission_df = pd.DataFrame({\"ROW_ID\": X_test[\"ROW_ID\"], \"conversion\": y_preds})\n",
    "submission_df[\"ROW_ID\"] = submission_df[\"ROW_ID\"].astype(int)\n",
    "submission_df.to_csv(\"./outputs/w2v.csv\", sep=\",\", index=False)"
   ]
  },
  {
   "cell_type": "code",
   "execution_count": 67,
   "metadata": {},
   "outputs": [
    {
     "name": "stdout",
     "output_type": "stream",
     "text": [
      "                          feature  importance\n",
      "0                      is_pdp_nan    0.311375\n",
      "1                    is_pdp_False    0.247014\n",
      "2                          offset    0.028327\n",
      "3           platform_/web/desktop    0.022255\n",
      "4                     is_pdp_True    0.018905\n",
      "..                            ...         ...\n",
      "149                       boosted    0.000000\n",
      "150     logistic_type_xd_drop_off    0.000000\n",
      "151         logistic_type_default    0.000000\n",
      "152  listing_type_id_gold_special    0.000000\n",
      "153           accepts_mercadopago    0.000000\n",
      "\n",
      "[154 rows x 2 columns]\n"
     ]
    }
   ],
   "source": [
    "feature_importance = pd.DataFrame({'feature': X_train.columns, 'importance': clf.feature_importances_})\n",
    "feature_importance.sort_values(by='importance', ascending=False, inplace=True)\n",
    "feature_importance.reset_index(drop=True, inplace=True)\n",
    "print(feature_importance)"
   ]
  }
 ],
 "metadata": {
  "kernelspec": {
   "display_name": "metodos",
   "language": "python",
   "name": "python3"
  },
  "language_info": {
   "codemirror_mode": {
    "name": "ipython",
    "version": 3
   },
   "file_extension": ".py",
   "mimetype": "text/x-python",
   "name": "python",
   "nbconvert_exporter": "python",
   "pygments_lexer": "ipython3",
   "version": "3.10.9"
  },
  "orig_nbformat": 4
 },
 "nbformat": 4,
 "nbformat_minor": 2
}
