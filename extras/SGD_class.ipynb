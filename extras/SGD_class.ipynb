{
 "cells": [
  {
   "cell_type": "code",
   "execution_count": 2,
   "metadata": {},
   "outputs": [
    {
     "name": "stdout",
     "output_type": "stream",
     "text": [
      "Intel MKL WARNING: Support of Intel(R) Streaming SIMD Extensions 4.2 (Intel(R) SSE4.2) enabled only processors has been deprecated. Intel oneAPI Math Kernel Library 2025.0 will require Intel(R) Advanced Vector Extensions (Intel(R) AVX) instructions.\n",
      "Intel MKL WARNING: Support of Intel(R) Streaming SIMD Extensions 4.2 (Intel(R) SSE4.2) enabled only processors has been deprecated. Intel oneAPI Math Kernel Library 2025.0 will require Intel(R) Advanced Vector Extensions (Intel(R) AVX) instructions.\n"
     ]
    }
   ],
   "source": [
    "import numpy as np\n",
    "from sklearn.linear_model import SGDClassifier\n",
    "from sklearn.preprocessing import StandardScaler\n",
    "from sklearn.pipeline import make_pipeline\n",
    "import pandas as pd\n",
    "from sklearn.model_selection import train_test_split, RandomizedSearchCV, KFold\n",
    "from sklearn.impute import SimpleImputer\n",
    "from sklearn.pipeline import Pipeline\n",
    "from sklearn import svm\n",
    "from sklearn.linear_model import LogisticRegression\n",
    "from sklearn.ensemble import RandomForestClassifier,  HistGradientBoostingClassifier\n",
    "import xgboost as xgb\n",
    "from sklearn.neighbors import KNeighborsClassifier\n",
    "from sklearn.ensemble import GradientBoostingClassifier\n",
    "from sklearn.model_selection import KFold, cross_val_score, train_test_split\n",
    "from tqdm import tqdm\n",
    "from sklearn.metrics import roc_auc_score"
   ]
  },
  {
   "cell_type": "code",
   "execution_count": 4,
   "metadata": {},
   "outputs": [],
   "source": [
    "data = pd.read_csv(\"./data/competition_data.csv\")\n",
    "\n",
    "data.drop(columns=['benefit', 'category_id', 'deal_print_id','etl_version', 'full_name','product_id'\n",
    "                   , 'item_id', 'main_picture', 'site_id', 'uid', 'user_id', 'title', 'tags', 'warranty'],\n",
    "                     axis= \"columns\", inplace=True)\n",
    "\n",
    "data['conversion'] = data['conversion'].astype('bool')\n",
    "data[\"print_server_timestamp\"] = pd.to_datetime(data[\"print_server_timestamp\"])\n",
    "data[\"hour\"] = data[\"print_server_timestamp\"].dt.hour\n",
    "data[\"day\"] = data[\"print_server_timestamp\"].dt.day\n",
    "#data[\"minute\"] = data[\"print_server_timestamp\"].dt.minute\n",
    "data[\"month\"] = data[\"print_server_timestamp\"].dt.month\n",
    "data.drop(columns=[\"print_server_timestamp\", 'date', \"domain_id\"], axis= \"columns\", inplace=True)\n",
    "data = pd.get_dummies(data,columns = [\"listing_type_id\", \"logistic_type\", \"platform\"],dummy_na = False, dtype = int)\n",
    "data = pd.get_dummies(data,columns = [\"is_pdp\"],dummy_na = True, dtype = bool )"
   ]
  },
  {
   "cell_type": "code",
   "execution_count": 5,
   "metadata": {},
   "outputs": [],
   "source": [
    "train_data = data[data[\"ROW_ID\"].isna()]\n",
    "test_data = data[data[\"ROW_ID\"].notna()]\n",
    "\n",
    "x_train = train_data.drop(columns=[\"conversion\", \"ROW_ID\"])\n",
    "y_train = train_data[\"conversion\"]\n",
    "X_train, X_val, Y_train, Y_val = train_test_split(x_train, y_train, test_size=0.2, random_state=3456)\n",
    "X_test = test_data.drop(columns=[\"conversion\"])\n",
    "#y_test = test_data[\"conversion\"]"
   ]
  },
  {
   "cell_type": "code",
   "execution_count": 8,
   "metadata": {},
   "outputs": [],
   "source": [
    "clf_sgd = make_pipeline(StandardScaler(),\n",
    "                    SimpleImputer(strategy='mean'),\n",
    "                    SGDClassifier(max_iter=1000, tol=1e-3, loss=\"log_loss\", random_state=42))\n",
    "#cv = KFold(n_splits=5, random_state=0, shuffle=True)\n",
    "#scores = cross_val_score(clf_sgd, x_train, y_train, cv=cv, scoring=\"roc_auc\")\n",
    "#print(scores, scores.mean())\n",
    "clf_sgd.fit(X_train, Y_train)\n",
    "y_preds_clf_sgd = clf_sgd.predict_proba(X_test.drop(columns=[\"ROW_ID\"]))[:, clf_sgd.classes_ == 1].squeeze()"
   ]
  },
  {
   "cell_type": "code",
   "execution_count": 9,
   "metadata": {},
   "outputs": [
    {
     "name": "stderr",
     "output_type": "stream",
     "text": [
      "/Users/tomasglauberman/opt/anaconda3/envs/td6/lib/python3.11/site-packages/threadpoolctl.py:1010: RuntimeWarning: \n",
      "Found Intel OpenMP ('libiomp') and LLVM OpenMP ('libomp') loaded at\n",
      "the same time. Both libraries are known to be incompatible and this\n",
      "can cause random crashes or deadlocks on Linux when loaded in the\n",
      "same Python program.\n",
      "Using threadpoolctl may cause crashes or deadlocks. For more\n",
      "information and possible workarounds, please see\n",
      "    https://github.com/joblib/threadpoolctl/blob/master/multiple_openmp.md\n",
      "\n",
      "  warnings.warn(msg, RuntimeWarning)\n"
     ]
    }
   ],
   "source": [
    "knn = make_pipeline(StandardScaler(),\n",
    "                    SimpleImputer(strategy='mean'),\n",
    "                    KNeighborsClassifier(n_neighbors=50, weights=\"uniform\"))\n",
    "# cv = KFold(n_splits=5, random_state=0, shuffle=True)\n",
    "# scores = cross_val_score(knn, x_train, y_train, cv=cv, scoring=\"roc_auc\")\n",
    "# print(scores, scores.mean())\n",
    "knn.fit(X_train, Y_train)\n",
    "y_preds_knn = knn.predict_proba(X_test.drop(columns=[\"ROW_ID\"]))[:, knn.classes_ == 1].squeeze()"
   ]
  },
  {
   "cell_type": "code",
   "execution_count": 10,
   "metadata": {},
   "outputs": [],
   "source": [
    "log_reg = make_pipeline(StandardScaler(),\n",
    "                    SimpleImputer(strategy='mean'),\n",
    "                    LogisticRegression(max_iter = 1000))\n",
    "# cv = KFold(n_splits=5, random_state=0, shuffle=True)\n",
    "# scores = cross_val_score(log_reg, x_train, y_train, cv=cv, scoring=\"roc_auc\")\n",
    "# print(scores, scores.mean())\n",
    "log_reg.fit(X_train, Y_train)\n",
    "y_preds_log_reg = log_reg.predict_proba(X_test.drop(columns=[\"ROW_ID\"]))[:, log_reg.classes_ == 1].squeeze()"
   ]
  },
  {
   "cell_type": "code",
   "execution_count": null,
   "metadata": {},
   "outputs": [],
   "source": [
    "# xgb_clas = make_pipeline(StandardScaler(),\n",
    "#                     #SimpleImputer(strategy='mean'),\n",
    "#                     xgb.XGBClassifier(n_estimators=100))\n",
    "# cv = KFold(n_splits=5, random_state=0, shuffle=True)\n",
    "# scores = cross_val_score(xgb_clas, x_train, y_train, cv=cv, scoring=\"roc_auc\")\n",
    "# print(scores, scores.mean())"
   ]
  },
  {
   "cell_type": "code",
   "execution_count": null,
   "metadata": {},
   "outputs": [],
   "source": [
    "# svm = make_pipeline(StandardScaler(),\n",
    "#                     SimpleImputer(strategy='mean'),\n",
    "#                     svm.SVC(kernel='rbf'))\n",
    "# svm.fit(X_train, Y_train)\n",
    "# print(svm.score(X_val, Y_val))"
   ]
  },
  {
   "cell_type": "code",
   "execution_count": 12,
   "metadata": {},
   "outputs": [],
   "source": [
    "grad_boosting = make_pipeline(StandardScaler(),\n",
    "                    SimpleImputer(strategy='mean'),\n",
    "                    GradientBoostingClassifier(random_state=0))\n",
    "# cv = KFold(n_splits=5, random_state=0, shuffle=True)\n",
    "# scores = cross_val_score(grad_boosting, x_train, y_train, cv=cv, scoring=\"roc_auc\")\n",
    "# print(scores, scores.mean())\n",
    "grad_boosting.fit(X_train, Y_train)\n",
    "y_preds_grad_boosting = grad_boosting.predict_proba(X_test.drop(columns=[\"ROW_ID\"]))[:, grad_boosting.classes_ == 1].squeeze()"
   ]
  },
  {
   "cell_type": "code",
   "execution_count": 13,
   "metadata": {},
   "outputs": [],
   "source": [
    "rand_for = make_pipeline(StandardScaler(),\n",
    "                    SimpleImputer(strategy='mean'),\n",
    "                    RandomForestClassifier(n_estimators=200, random_state=0))\n",
    "# cv = KFold(n_splits=5, random_state=0, shuffle=True)\n",
    "# scores = cross_val_score(rand_for, x_train, y_train, cv=cv, scoring=\"roc_auc\")\n",
    "# print(scores, scores.mean())\n",
    "rand_for.fit(X_train, Y_train)\n",
    "y_preds_rand_for = rand_for.predict_proba(X_test.drop(columns=[\"ROW_ID\"]))[:, rand_for.classes_ == 1].squeeze()"
   ]
  },
  {
   "cell_type": "code",
   "execution_count": 7,
   "metadata": {},
   "outputs": [
    {
     "name": "stderr",
     "output_type": "stream",
     "text": [
      "  0%|          | 0/8 [00:00<?, ?it/s]"
     ]
    }
   ],
   "source": [
    "# j = 0\n",
    "# for i in tqdm(models):\n",
    "#     model = i\n",
    "#     cv = KFold(n_splits=5, random_state=0, shuffle=True)\n",
    "#     KFold_Score[classifiers[j]] = (cross_val_score(model, X_train, Y_train, scoring = 'roc-auc', cv=cv))\n",
    "#     j = j+1"
   ]
  },
  {
   "cell_type": "code",
   "execution_count": 14,
   "metadata": {},
   "outputs": [
    {
     "data": {
      "text/plain": [
       "0        0.030675\n",
       "1        0.000123\n",
       "2        0.167858\n",
       "3        0.000330\n",
       "4        0.276743\n",
       "           ...   \n",
       "19206    0.113807\n",
       "19207    0.226777\n",
       "19208    0.000325\n",
       "19209    0.077963\n",
       "19210    0.000091\n",
       "Name: conversion, Length: 19211, dtype: float64"
      ]
     },
     "execution_count": 14,
     "metadata": {},
     "output_type": "execute_result"
    }
   ],
   "source": [
    "y_preds_xgboost = pd.read_csv(\"./outputs/hyperopt.csv\")[\"conversion\"]\n",
    "y_preds_hist_grad = pd.read_csv(\"./outputs/hist_gradient2.csv\")[\"conversion\"]\n",
    "y_preds_xgboost"
   ]
  },
  {
   "cell_type": "code",
   "execution_count": 17,
   "metadata": {},
   "outputs": [
    {
     "data": {
      "text/plain": [
       "0        0.049499\n",
       "1        0.000365\n",
       "2        0.154394\n",
       "3        0.000995\n",
       "4        0.252430\n",
       "           ...   \n",
       "19206    0.098674\n",
       "19207    0.244494\n",
       "19208    0.000473\n",
       "19209    0.080408\n",
       "19210    0.000408\n",
       "Name: conversion, Length: 19211, dtype: float64"
      ]
     },
     "execution_count": 17,
     "metadata": {},
     "output_type": "execute_result"
    }
   ],
   "source": [
    "#promedia todos los y_preds\n",
    "y_preds = (y_preds_clf_sgd + y_preds_knn + y_preds_log_reg + y_preds_grad_boosting + y_preds_rand_for + y_preds_xgboost + y_preds_hist_grad)/7\n",
    "y_preds"
   ]
  },
  {
   "cell_type": "code",
   "execution_count": 24,
   "metadata": {},
   "outputs": [],
   "source": [
    "submission_df = pd.DataFrame({\"ROW_ID\": list(range(19211)), \"conversion\": y_preds})\n",
    "submission_df[\"ROW_ID\"] = submission_df[\"ROW_ID\"].astype(int)\n",
    "submission_df.to_csv(\"./outputs/promedios_totales.csv\", sep=\",\", index=False)"
   ]
  }
 ],
 "metadata": {
  "kernelspec": {
   "display_name": "td6",
   "language": "python",
   "name": "python3"
  },
  "language_info": {
   "codemirror_mode": {
    "name": "ipython",
    "version": 3
   },
   "file_extension": ".py",
   "mimetype": "text/x-python",
   "name": "python",
   "nbconvert_exporter": "python",
   "pygments_lexer": "ipython3",
   "version": "3.11.4"
  },
  "orig_nbformat": 4
 },
 "nbformat": 4,
 "nbformat_minor": 2
}
