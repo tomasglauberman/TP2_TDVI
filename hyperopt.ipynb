{
  "cells": [
    {
      "cell_type": "code",
      "execution_count": 17,
      "metadata": {
        "id": "Bo48RMH__bzG"
      },
      "outputs": [],
      "source": [
        "import pandas as pd\n",
        "from sklearn.pipeline import make_pipeline\n",
        "from sklearn.model_selection import train_test_split, RandomizedSearchCV, KFold\n",
        "from sklearn.metrics import roc_auc_score\n",
        "from scipy.stats import uniform, loguniform\n",
        "import xgboost as xgb\n",
        "from sklearn.model_selection import cross_val_score\n",
        "from hyperopt import fmin, tpe, hp, STATUS_OK, space_eval\n",
        "import numpy as np\n",
        "from hyperopt.pyll import scope\n",
        "from sklearn.preprocessing import StandardScaler\n"
      ]
    },
    {
      "cell_type": "code",
      "execution_count": 20,
      "metadata": {
        "id": "TOhCV0lx-OPP"
      },
      "outputs": [],
      "source": [
        "data = pd.read_csv(\"./data/competition_data.csv\")\n",
        "\n",
        "data.drop(columns=['benefit', 'category_id', 'deal_print_id','etl_version', 'full_name','product_id'\n",
        "                   , 'item_id', 'main_picture', 'site_id', 'uid', 'user_id', 'title', 'tags', 'warranty'],\n",
        "                     axis= \"columns\", inplace=True)\n",
        "\n",
        "data['conversion'] = data['conversion'].astype('bool')\n",
        "data[\"print_server_timestamp\"] = pd.to_datetime(data[\"print_server_timestamp\"])\n",
        "data[\"hour\"] = data[\"print_server_timestamp\"].dt.hour\n",
        "data[\"day\"] = data[\"print_server_timestamp\"].dt.day\n",
        "#data[\"minute\"] = data[\"print_server_timestamp\"].dt.minute\n",
        "data[\"month\"] = data[\"print_server_timestamp\"].dt.month\n",
        "data.drop(columns=[\"print_server_timestamp\", 'date', \"domain_id\"], axis= \"columns\", inplace=True)\n",
        "data = pd.get_dummies(data,columns = [\"listing_type_id\", \"logistic_type\", \"platform\"],dummy_na = False, dtype = int)\n",
        "data = pd.get_dummies(data,columns = [\"is_pdp\"],dummy_na = True, dtype = bool )"
      ]
    },
    {
      "cell_type": "code",
      "execution_count": 21,
      "metadata": {
        "id": "_Hj-XwKk-aB8"
      },
      "outputs": [],
      "source": [
        "train_data = data[data[\"ROW_ID\"].isna()]\n",
        "test_data = data[data[\"ROW_ID\"].notna()]\n",
        "\n",
        "x_train = train_data.drop(columns=[\"conversion\", \"ROW_ID\"])\n",
        "y_train = train_data[\"conversion\"]\n",
        "X_train, X_val, Y_train, Y_val = train_test_split(x_train, y_train, test_size=0.2, random_state=3456)\n",
        "X_test = test_data.drop(columns=[\"conversion\"])\n",
        "y_test = test_data[\"conversion\"]"
      ]
    },
    {
      "cell_type": "code",
      "execution_count": 23,
      "metadata": {
        "colab": {
          "base_uri": "https://localhost:8080/"
        },
        "id": "DExfng9t-a5S",
        "outputId": "6204c080-9122-4cfe-aefb-127fa8278b9a"
      },
      "outputs": [],
      "source": [
        "space={\n",
        "        \"n_estimators\": hp.choice(\"n_estimators\",np.arange(32, 264, 8, dtype=int)),                   # tune 32 - 256\n",
        "        \"eta\":hp.uniform(\"eta\",0.01,0.9),                                   # learning rate # tune 0.01 - 0.9\n",
        "        \"gamma\":hp.uniform(\"gamma\",0.01,0.9),                               # tune 0 - 0.9\n",
        "        \"max_depth\":hp.choice(\"max_depth\", np.arange(3, 18, 1, dtype=int)),                       # tune 6 - 18\n",
        "        \"min_child_weight\":hp.quniform('min_child_weight', 0, 10, 1),       # tune 0 - 10\n",
        "        \"subsample\":hp.uniform(\"subsample\",0.5,1),                          # tune 0.5 - 1\n",
        "        \"colsample_bytree\":hp.uniform(\"colsample_bytree\",0,1),              # tune 0- 1\n",
        "        \"colsample_bylevel\":hp.uniform(\"colsample_bylevel\",0,1),             # tune 0- 1\n",
        "        \"colsample_bynode\":hp.uniform(\"colsample_bynode\",0,1),              # tune 0- 1\n",
        "        \"scale_pos_weight\": 1,                  # tune by class imbalance: (sum(negative instances) / sum(positive instances)                  \n",
        "    }\n",
        "\n",
        "space2 = {\n",
        "            \"n_estimators\": scope.int(hp.uniform(\"n_estimators\", 10, 300)),\n",
        "            \"learning_rate\": hp.quniform(\"learning_rate\", 0.01, 0.3, 0.01),\n",
        "            \"max_depth\": scope.int(hp.quniform(\"max_depth\", 1, 15, 1)),\n",
        "            \"min_child_weight\": hp.quniform(\"min_child_weight\", 1, 9, 1),\n",
        "            \"subsample\": hp.quniform(\"subsample\", 0.6, 1, 0.05),\n",
        "            \"gamma\": hp.quniform(\"gamma\", 0.05, 3, 0.05),\n",
        "            \"colsample_bytree\": hp.quniform(\"colsample_bytree\", 0.4, 1, 0.05),\n",
        "            \"colsample_bylevel\": hp.quniform(\"colsample_bylevel\", 0.4, 1, 0.05),\n",
        "            \"reg_lambda\": hp.quniform(\"reg_lambda\", 0.01, 2, 0.01),\n",
        "            \"reg_alpha\": hp.quniform(\"reg_alpha\", 0, 10, 1),\n",
        "            #'monotone_constraints': mon_cons,\n",
        "        }\n",
        "\n",
        "def objective(params):\n",
        "    tree = xgb.XGBClassifier(**params, random_state = 22)\n",
        "    score = cross_val_score(tree, x_train, y_train, cv = KFold(4)).mean() # Aplicamos validación cruzada con 4 folds.\n",
        "    return {'loss': 1 - score, 'status': STATUS_OK}\n",
        "\n",
        "\n"
      ]
    },
    {
      "cell_type": "code",
      "execution_count": 24,
      "metadata": {},
      "outputs": [],
      "source": [
        "import warnings\n",
        "\n",
        "# Configura para ignorar los warnings futuros\n",
        "warnings.simplefilter(action='ignore', category=FutureWarning)"
      ]
    },
    {
      "cell_type": "code",
      "execution_count": 25,
      "metadata": {},
      "outputs": [
        {
          "name": "stdout",
          "output_type": "stream",
          "text": [
            "100%|██████████| 6/6 [02:28<00:00, 24.75s/trial, best loss: 0.08958238056328494]\n"
          ]
        }
      ],
      "source": [
        "best = fmin(objective, space,\n",
        "            algo = tpe.suggest,\n",
        "            max_evals = 6,\n",
        "            rstate = np.random.default_rng(22))"
      ]
    },
    {
      "cell_type": "code",
      "execution_count": 26,
      "metadata": {},
      "outputs": [],
      "source": [
        "best_params = space_eval(space, best)\n",
        "#print(\"BEST PARAMS: \", best_params)\n",
        "#0.08900150302033172\n",
        "#0.08900150302033172\n",
        "#BEST PARAMS con space1:  {'colsample_bylevel': 0.8219490559795931, 'colsample_bynode': 0.24759470484372925, 'colsample_bytree': 0.7182253566785832, 'eta': 0.10879724556393319, 'gamma': 0.013905544512424909, 'max_depth': 7, 'min_child_weight': 9.0, 'n_estimators': 160, 'scale_pos_weight': 1, 'subsample': 0.7282346960910877}\n",
        "#BEST PARAMS con space2:  {'colsample_bylevel': 0.8, 'colsample_bytree': 0.9500000000000001, 'gamma': 2.7, 'learning_rate': 0.11, 'max_depth': 9, 'min_child_weight': 5.0, 'n_estimators': 102, 'reg_alpha': 9.0, 'reg_lambda': 1.19, 'subsample': 0.8500000000000001"
      ]
    },
    {
      "cell_type": "code",
      "execution_count": 29,
      "metadata": {
        "colab": {
          "base_uri": "https://localhost:8080/",
          "height": 52
        },
        "id": "JMxXki_M-8r8",
        "outputId": "737e5de7-3121-4268-89d8-8ab7251c7918"
      },
      "outputs": [
        {
          "data": {
            "text/html": [
              "<style>#sk-container-id-2 {color: black;}#sk-container-id-2 pre{padding: 0;}#sk-container-id-2 div.sk-toggleable {background-color: white;}#sk-container-id-2 label.sk-toggleable__label {cursor: pointer;display: block;width: 100%;margin-bottom: 0;padding: 0.3em;box-sizing: border-box;text-align: center;}#sk-container-id-2 label.sk-toggleable__label-arrow:before {content: \"▸\";float: left;margin-right: 0.25em;color: #696969;}#sk-container-id-2 label.sk-toggleable__label-arrow:hover:before {color: black;}#sk-container-id-2 div.sk-estimator:hover label.sk-toggleable__label-arrow:before {color: black;}#sk-container-id-2 div.sk-toggleable__content {max-height: 0;max-width: 0;overflow: hidden;text-align: left;background-color: #f0f8ff;}#sk-container-id-2 div.sk-toggleable__content pre {margin: 0.2em;color: black;border-radius: 0.25em;background-color: #f0f8ff;}#sk-container-id-2 input.sk-toggleable__control:checked~div.sk-toggleable__content {max-height: 200px;max-width: 100%;overflow: auto;}#sk-container-id-2 input.sk-toggleable__control:checked~label.sk-toggleable__label-arrow:before {content: \"▾\";}#sk-container-id-2 div.sk-estimator input.sk-toggleable__control:checked~label.sk-toggleable__label {background-color: #d4ebff;}#sk-container-id-2 div.sk-label input.sk-toggleable__control:checked~label.sk-toggleable__label {background-color: #d4ebff;}#sk-container-id-2 input.sk-hidden--visually {border: 0;clip: rect(1px 1px 1px 1px);clip: rect(1px, 1px, 1px, 1px);height: 1px;margin: -1px;overflow: hidden;padding: 0;position: absolute;width: 1px;}#sk-container-id-2 div.sk-estimator {font-family: monospace;background-color: #f0f8ff;border: 1px dotted black;border-radius: 0.25em;box-sizing: border-box;margin-bottom: 0.5em;}#sk-container-id-2 div.sk-estimator:hover {background-color: #d4ebff;}#sk-container-id-2 div.sk-parallel-item::after {content: \"\";width: 100%;border-bottom: 1px solid gray;flex-grow: 1;}#sk-container-id-2 div.sk-label:hover label.sk-toggleable__label {background-color: #d4ebff;}#sk-container-id-2 div.sk-serial::before {content: \"\";position: absolute;border-left: 1px solid gray;box-sizing: border-box;top: 0;bottom: 0;left: 50%;z-index: 0;}#sk-container-id-2 div.sk-serial {display: flex;flex-direction: column;align-items: center;background-color: white;padding-right: 0.2em;padding-left: 0.2em;position: relative;}#sk-container-id-2 div.sk-item {position: relative;z-index: 1;}#sk-container-id-2 div.sk-parallel {display: flex;align-items: stretch;justify-content: center;background-color: white;position: relative;}#sk-container-id-2 div.sk-item::before, #sk-container-id-2 div.sk-parallel-item::before {content: \"\";position: absolute;border-left: 1px solid gray;box-sizing: border-box;top: 0;bottom: 0;left: 50%;z-index: -1;}#sk-container-id-2 div.sk-parallel-item {display: flex;flex-direction: column;z-index: 1;position: relative;background-color: white;}#sk-container-id-2 div.sk-parallel-item:first-child::after {align-self: flex-end;width: 50%;}#sk-container-id-2 div.sk-parallel-item:last-child::after {align-self: flex-start;width: 50%;}#sk-container-id-2 div.sk-parallel-item:only-child::after {width: 0;}#sk-container-id-2 div.sk-dashed-wrapped {border: 1px dashed gray;margin: 0 0.4em 0.5em 0.4em;box-sizing: border-box;padding-bottom: 0.4em;background-color: white;}#sk-container-id-2 div.sk-label label {font-family: monospace;font-weight: bold;display: inline-block;line-height: 1.2em;}#sk-container-id-2 div.sk-label-container {text-align: center;}#sk-container-id-2 div.sk-container {/* jupyter's `normalize.less` sets `[hidden] { display: none; }` but bootstrap.min.css set `[hidden] { display: none !important; }` so we also need the `!important` here to be able to override the default hidden behavior on the sphinx rendered scikit-learn.org. See: https://github.com/scikit-learn/scikit-learn/issues/21755 */display: inline-block !important;position: relative;}#sk-container-id-2 div.sk-text-repr-fallback {display: none;}</style><div id=\"sk-container-id-2\" class=\"sk-top-container\"><div class=\"sk-text-repr-fallback\"><pre>Pipeline(steps=[(&#x27;standardscaler&#x27;, StandardScaler()),\n",
              "                (&#x27;xgbclassifier&#x27;,\n",
              "                 XGBClassifier(base_score=None, booster=None, callbacks=None,\n",
              "                               colsample_bylevel=0.8219490559795931,\n",
              "                               colsample_bynode=0.24759470484372925,\n",
              "                               colsample_bytree=0.7182253566785832,\n",
              "                               early_stopping_rounds=None,\n",
              "                               enable_categorical=False,\n",
              "                               eta=0.10879724556393319, eval_metric=&#x27;auc&#x27;,\n",
              "                               feature_types=None,...44512424909,\n",
              "                               gpu_id=None, grow_policy=None,\n",
              "                               importance_type=None,\n",
              "                               interaction_constraints=None, learning_rate=None,\n",
              "                               max_bin=None, max_cat_threshold=None,\n",
              "                               max_cat_to_onehot=None, max_delta_step=None,\n",
              "                               max_depth=4, max_leaves=None,\n",
              "                               min_child_weight=9.0, missing=nan,\n",
              "                               monotone_constraints=None, n_estimators=160,\n",
              "                               n_jobs=None, num_parallel_tree=None,\n",
              "                               predictor=None, ...))])</pre><b>In a Jupyter environment, please rerun this cell to show the HTML representation or trust the notebook. <br />On GitHub, the HTML representation is unable to render, please try loading this page with nbviewer.org.</b></div><div class=\"sk-container\" hidden><div class=\"sk-item sk-dashed-wrapped\"><div class=\"sk-label-container\"><div class=\"sk-label sk-toggleable\"><input class=\"sk-toggleable__control sk-hidden--visually\" id=\"sk-estimator-id-2\" type=\"checkbox\" ><label for=\"sk-estimator-id-2\" class=\"sk-toggleable__label sk-toggleable__label-arrow\">Pipeline</label><div class=\"sk-toggleable__content\"><pre>Pipeline(steps=[(&#x27;standardscaler&#x27;, StandardScaler()),\n",
              "                (&#x27;xgbclassifier&#x27;,\n",
              "                 XGBClassifier(base_score=None, booster=None, callbacks=None,\n",
              "                               colsample_bylevel=0.8219490559795931,\n",
              "                               colsample_bynode=0.24759470484372925,\n",
              "                               colsample_bytree=0.7182253566785832,\n",
              "                               early_stopping_rounds=None,\n",
              "                               enable_categorical=False,\n",
              "                               eta=0.10879724556393319, eval_metric=&#x27;auc&#x27;,\n",
              "                               feature_types=None,...44512424909,\n",
              "                               gpu_id=None, grow_policy=None,\n",
              "                               importance_type=None,\n",
              "                               interaction_constraints=None, learning_rate=None,\n",
              "                               max_bin=None, max_cat_threshold=None,\n",
              "                               max_cat_to_onehot=None, max_delta_step=None,\n",
              "                               max_depth=4, max_leaves=None,\n",
              "                               min_child_weight=9.0, missing=nan,\n",
              "                               monotone_constraints=None, n_estimators=160,\n",
              "                               n_jobs=None, num_parallel_tree=None,\n",
              "                               predictor=None, ...))])</pre></div></div></div><div class=\"sk-serial\"><div class=\"sk-item\"><div class=\"sk-estimator sk-toggleable\"><input class=\"sk-toggleable__control sk-hidden--visually\" id=\"sk-estimator-id-3\" type=\"checkbox\" ><label for=\"sk-estimator-id-3\" class=\"sk-toggleable__label sk-toggleable__label-arrow\">StandardScaler</label><div class=\"sk-toggleable__content\"><pre>StandardScaler()</pre></div></div></div><div class=\"sk-item\"><div class=\"sk-estimator sk-toggleable\"><input class=\"sk-toggleable__control sk-hidden--visually\" id=\"sk-estimator-id-4\" type=\"checkbox\" ><label for=\"sk-estimator-id-4\" class=\"sk-toggleable__label sk-toggleable__label-arrow\">XGBClassifier</label><div class=\"sk-toggleable__content\"><pre>XGBClassifier(base_score=None, booster=None, callbacks=None,\n",
              "              colsample_bylevel=0.8219490559795931,\n",
              "              colsample_bynode=0.24759470484372925,\n",
              "              colsample_bytree=0.7182253566785832, early_stopping_rounds=None,\n",
              "              enable_categorical=False, eta=0.10879724556393319,\n",
              "              eval_metric=&#x27;auc&#x27;, feature_types=None, gamma=0.013905544512424909,\n",
              "              gpu_id=None, grow_policy=None, importance_type=None,\n",
              "              interaction_constraints=None, learning_rate=None, max_bin=None,\n",
              "              max_cat_threshold=None, max_cat_to_onehot=None,\n",
              "              max_delta_step=None, max_depth=4, max_leaves=None,\n",
              "              min_child_weight=9.0, missing=nan, monotone_constraints=None,\n",
              "              n_estimators=160, n_jobs=None, num_parallel_tree=None,\n",
              "              predictor=None, ...)</pre></div></div></div></div></div></div></div>"
            ],
            "text/plain": [
              "Pipeline(steps=[('standardscaler', StandardScaler()),\n",
              "                ('xgbclassifier',\n",
              "                 XGBClassifier(base_score=None, booster=None, callbacks=None,\n",
              "                               colsample_bylevel=0.8219490559795931,\n",
              "                               colsample_bynode=0.24759470484372925,\n",
              "                               colsample_bytree=0.7182253566785832,\n",
              "                               early_stopping_rounds=None,\n",
              "                               enable_categorical=False,\n",
              "                               eta=0.10879724556393319, eval_metric='auc',\n",
              "                               feature_types=None,...44512424909,\n",
              "                               gpu_id=None, grow_policy=None,\n",
              "                               importance_type=None,\n",
              "                               interaction_constraints=None, learning_rate=None,\n",
              "                               max_bin=None, max_cat_threshold=None,\n",
              "                               max_cat_to_onehot=None, max_delta_step=None,\n",
              "                               max_depth=4, max_leaves=None,\n",
              "                               min_child_weight=9.0, missing=nan,\n",
              "                               monotone_constraints=None, n_estimators=160,\n",
              "                               n_jobs=None, num_parallel_tree=None,\n",
              "                               predictor=None, ...))])"
            ]
          },
          "execution_count": 29,
          "metadata": {},
          "output_type": "execute_result"
        }
      ],
      "source": [
        "clf = xgb.XGBClassifier(\n",
        "    objective = 'binary:logistic',\n",
        "    seed = 100,\n",
        "    eval_metric = 'auc',\n",
        "    **best_params)\n",
        "\n",
        "clf.fit(x_train, y_train, verbose = True, eval_set = [(X_val, Y_val)])"
      ]
    },
    {
      "cell_type": "code",
      "execution_count": 33,
      "metadata": {},
      "outputs": [],
      "source": [
        "cv = KFold(n_splits=5, random_state=0, shuffle=True)\n",
        "scores = cross_val_score(clf, x_train, y_train, cv=cv, scoring=\"roc_auc\")"
      ]
    },
    {
      "cell_type": "code",
      "execution_count": 34,
      "metadata": {},
      "outputs": [
        {
          "data": {
            "text/plain": [
              "0.8828193642475428"
            ]
          },
          "execution_count": 34,
          "metadata": {},
          "output_type": "execute_result"
        }
      ],
      "source": [
        "scores.mean()\n"
      ]
    },
    {
      "cell_type": "code",
      "execution_count": 26,
      "metadata": {
        "id": "bbt43O7j_AeT"
      },
      "outputs": [],
      "source": [
        "y_preds = clf.predict_proba(X_test.drop(columns=[\"ROW_ID\"]))[:, clf.classes_== 1].squeeze()\n",
        "submission_df = pd.DataFrame({\"ROW_ID\": X_test[\"ROW_ID\"], \"conversion\": y_preds})\n",
        "submission_df[\"ROW_ID\"] = submission_df[\"ROW_ID\"].astype(int)\n",
        "submission_df.to_csv(\"./outputs/hyperopt_space2.csv\", sep=\",\", index=False)"
      ]
    }
  ],
  "metadata": {
    "accelerator": "GPU",
    "colab": {
      "gpuType": "T4",
      "provenance": []
    },
    "kernelspec": {
      "display_name": "Python 3",
      "name": "python3"
    },
    "language_info": {
      "codemirror_mode": {
        "name": "ipython",
        "version": 3
      },
      "file_extension": ".py",
      "mimetype": "text/x-python",
      "name": "python",
      "nbconvert_exporter": "python",
      "pygments_lexer": "ipython3",
      "version": "3.11.4"
    }
  },
  "nbformat": 4,
  "nbformat_minor": 0
}
