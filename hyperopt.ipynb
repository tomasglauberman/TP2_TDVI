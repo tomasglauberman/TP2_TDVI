{
  "cells": [
    {
      "cell_type": "code",
      "execution_count": 18,
      "metadata": {
        "id": "Bo48RMH__bzG"
      },
      "outputs": [],
      "source": [
        "import pandas as pd\n",
        "from sklearn.pipeline import make_pipeline\n",
        "from sklearn.model_selection import train_test_split, RandomizedSearchCV, KFold\n",
        "from sklearn.metrics import roc_auc_score\n",
        "from scipy.stats import uniform, loguniform\n",
        "import xgboost as xgb\n",
        "from sklearn.model_selection import cross_val_score\n",
        "from hyperopt import fmin, tpe, hp, STATUS_OK, space_eval\n",
        "import numpy as np\n",
        "from hyperopt.pyll import scope\n"
      ]
    },
    {
      "cell_type": "code",
      "execution_count": 3,
      "metadata": {
        "id": "TOhCV0lx-OPP"
      },
      "outputs": [],
      "source": [
        "data = pd.read_csv(\"./data/competition_data.csv\")\n",
        "\n",
        "data.drop(columns=['benefit', 'deal_print_id','etl_version', 'full_name',\n",
        "                   'warranty', 'item_id', 'main_picture',\n",
        "                    'site_id','uid', 'user_id', 'category_id', 'title', 'tags'], axis= \"columns\", inplace=True)\n",
        "\n",
        "data['is_pdp'] = data['is_pdp'].astype('bool')\n",
        "data['conversion'] = data['conversion'].astype('bool')\n",
        "data[\"print_server_timestamp\"] = pd.to_datetime(data[\"print_server_timestamp\"])\n",
        "data[\"hour\"] = data[\"print_server_timestamp\"].dt.hour\n",
        "data[\"day\"] = data[\"print_server_timestamp\"].dt.day\n",
        "data[\"minute\"] = data[\"print_server_timestamp\"].dt.minute\n",
        "data[\"month\"] = data[\"print_server_timestamp\"].dt.month\n",
        "data.drop(columns=[\"print_server_timestamp\", 'date', \"domain_id\"], axis= \"columns\", inplace=True)\n",
        "data = pd.get_dummies(data,columns = [\"listing_type_id\", \"logistic_type\", \"platform\"],dummy_na = False, dtype = int)"
      ]
    },
    {
      "cell_type": "code",
      "execution_count": 4,
      "metadata": {
        "id": "_Hj-XwKk-aB8"
      },
      "outputs": [],
      "source": [
        "train_data = data[data[\"ROW_ID\"].isna()]\n",
        "test_data = data[data[\"ROW_ID\"].notna()]\n",
        "\n",
        "x_train = train_data.drop(columns=[\"conversion\", \"ROW_ID\"])\n",
        "y_train = train_data[\"conversion\"]\n",
        "X_train, X_val, Y_train, Y_val = train_test_split(x_train, y_train, test_size=0.2, random_state=3456)\n",
        "X_test = test_data.drop(columns=[\"conversion\"])"
      ]
    },
    {
      "cell_type": "code",
      "execution_count": 21,
      "metadata": {
        "colab": {
          "base_uri": "https://localhost:8080/"
        },
        "id": "DExfng9t-a5S",
        "outputId": "6204c080-9122-4cfe-aefb-127fa8278b9a"
      },
      "outputs": [],
      "source": [
        "space={\n",
        "        \"n_estimators\": hp.choice(\"n_estimators\",np.arange(32, 264, 8, dtype=int)),                   # tune 32 - 256\n",
        "        \"eta\":hp.uniform(\"eta\",0.01,0.9),                                   # learning rate # tune 0.01 - 0.9\n",
        "        \"gamma\":hp.uniform(\"gamma\",0.01,0.9),                               # tune 0 - 0.9\n",
        "        \"max_depth\":hp.choice(\"max_depth\", np.arange(3, 18, 1, dtype=int)),                       # tune 6 - 18\n",
        "        \"min_child_weight\":hp.quniform('min_child_weight', 0, 10, 1),       # tune 0 - 10\n",
        "        \"subsample\":hp.uniform(\"subsample\",0.5,1),                          # tune 0.5 - 1\n",
        "        \"colsample_bytree\":hp.uniform(\"colsample_bytree\",0,1),              # tune 0- 1\n",
        "        \"colsample_bylevel\":hp.uniform(\"colsample_bylevel\",0,1),             # tune 0- 1\n",
        "        \"colsample_bynode\":hp.uniform(\"colsample_bynode\",0,1),              # tune 0- 1\n",
        "        \"scale_pos_weight\": 1,                  # tune by class imbalance: (sum(negative instances) / sum(positive instances)                  \n",
        "    }\n",
        "\n",
        "space2 = {\n",
        "        \"n_estimators\": scope.int(hp.uniform(\"n_estimators\", 10, 300)),\n",
        "        \"learning_rate\": hp.quniform(\"learning_rate\", 0.01, 0.3, 0.01),\n",
        "        \"max_depth\": scope.int(hp.quniform(\"max_depth\", 1, 15, 1)),\n",
        "        \"min_child_weight\": hp.quniform(\"min_child_weight\", 1, 9, 1),\n",
        "        \"subsample\": hp.quniform(\"subsample\", 0.6, 1, 0.05),\n",
        "        \"gamma\": hp.quniform(\"gamma\", 0.05, 3, 0.05),\n",
        "        \"colsample_bytree\": hp.quniform(\"colsample_bytree\", 0.4, 1, 0.05),\n",
        "        \"colsample_bylevel\": hp.quniform(\"colsample_bylevel\", 0.4, 1, 0.05),\n",
        "        \"reg_lambda\": hp.quniform(\"reg_lambda\", 0.01, 2, 0.01),\n",
        "        \"reg_alpha\": hp.quniform(\"reg_alpha\", 0, 10, 1),\n",
        "        #'monotone_constraints': mon_cons,\n",
        "    }\n",
        "\n",
        "def objective(params):\n",
        "    tree = xgb.XGBClassifier(**params, random_state = 22)\n",
        "    score = cross_val_score(tree, x_train, y_train, cv = KFold(4)).mean() # Aplicamos validación cruzada con 4 folds.\n",
        "    return {'loss': 1 - score, 'status': STATUS_OK}\n",
        "\n",
        "\n"
      ]
    },
    {
      "cell_type": "code",
      "execution_count": 22,
      "metadata": {},
      "outputs": [],
      "source": [
        "import warnings\n",
        "\n",
        "# Configura para ignorar los warnings futuros\n",
        "warnings.simplefilter(action='ignore', category=FutureWarning)"
      ]
    },
    {
      "cell_type": "code",
      "execution_count": 23,
      "metadata": {},
      "outputs": [
        {
          "name": "stdout",
          "output_type": "stream",
          "text": [
            "100%|██████████| 10/10 [13:04<00:00, 78.46s/trial, best loss: 0.08913427551282682]\n"
          ]
        }
      ],
      "source": [
        "best = fmin(objective, space2,\n",
        "            algo = tpe.suggest,\n",
        "            max_evals = 10,\n",
        "            rstate = np.random.default_rng(22))"
      ]
    },
    {
      "cell_type": "code",
      "execution_count": 24,
      "metadata": {},
      "outputs": [
        {
          "name": "stdout",
          "output_type": "stream",
          "text": [
            "BEST PARAMS:  {'colsample_bylevel': 0.8, 'colsample_bytree': 0.9500000000000001, 'gamma': 2.7, 'learning_rate': 0.11, 'max_depth': 9, 'min_child_weight': 5.0, 'n_estimators': 102, 'reg_alpha': 9.0, 'reg_lambda': 1.19, 'subsample': 0.8500000000000001}\n"
          ]
        }
      ],
      "source": [
        "best_params = space_eval(space2, best)\n",
        "print(\"BEST PARAMS: \", best_params)\n",
        "#0.08900150302033172\n",
        "#0.08900150302033172\n",
        "#BEST PARAMS con space1:  {'colsample_bylevel': 0.8219490559795931, 'colsample_bynode': 0.24759470484372925, 'colsample_bytree': 0.7182253566785832, 'eta': 0.10879724556393319, 'gamma': 0.013905544512424909, 'max_depth': 7, 'min_child_weight': 9.0, 'n_estimators': 160, 'scale_pos_weight': 1, 'subsample': 0.7282346960910877}\n",
        "#BEST PARAMS con space2:  {'colsample_bylevel': 0.8, 'colsample_bytree': 0.9500000000000001, 'gamma': 2.7, 'learning_rate': 0.11, 'max_depth': 9, 'min_child_weight': 5.0, 'n_estimators': 102, 'reg_alpha': 9.0, 'reg_lambda': 1.19, 'subsample': 0.8500000000000001"
      ]
    },
    {
      "cell_type": "code",
      "execution_count": 25,
      "metadata": {
        "colab": {
          "base_uri": "https://localhost:8080/",
          "height": 52
        },
        "id": "JMxXki_M-8r8",
        "outputId": "737e5de7-3121-4268-89d8-8ab7251c7918"
      },
      "outputs": [
        {
          "name": "stdout",
          "output_type": "stream",
          "text": [
            "[0]\tvalidation_0-auc:0.86616\n",
            "[1]\tvalidation_0-auc:0.86894\n",
            "[2]\tvalidation_0-auc:0.87228\n",
            "[3]\tvalidation_0-auc:0.87387\n",
            "[4]\tvalidation_0-auc:0.87595\n",
            "[5]\tvalidation_0-auc:0.87721\n",
            "[6]\tvalidation_0-auc:0.87848\n",
            "[7]\tvalidation_0-auc:0.87950\n",
            "[8]\tvalidation_0-auc:0.88056\n",
            "[9]\tvalidation_0-auc:0.88150\n",
            "[10]\tvalidation_0-auc:0.88237\n",
            "[11]\tvalidation_0-auc:0.88328\n",
            "[12]\tvalidation_0-auc:0.88385\n",
            "[13]\tvalidation_0-auc:0.88441\n",
            "[14]\tvalidation_0-auc:0.88469\n",
            "[15]\tvalidation_0-auc:0.88483\n",
            "[16]\tvalidation_0-auc:0.88552\n",
            "[17]\tvalidation_0-auc:0.88645\n",
            "[18]\tvalidation_0-auc:0.88721\n",
            "[19]\tvalidation_0-auc:0.88809\n",
            "[20]\tvalidation_0-auc:0.88884\n",
            "[21]\tvalidation_0-auc:0.88961\n",
            "[22]\tvalidation_0-auc:0.89027\n",
            "[23]\tvalidation_0-auc:0.89115\n",
            "[24]\tvalidation_0-auc:0.89172\n",
            "[25]\tvalidation_0-auc:0.89298\n",
            "[26]\tvalidation_0-auc:0.89398\n",
            "[27]\tvalidation_0-auc:0.89439\n",
            "[28]\tvalidation_0-auc:0.89502\n",
            "[29]\tvalidation_0-auc:0.89588\n",
            "[30]\tvalidation_0-auc:0.89641\n",
            "[31]\tvalidation_0-auc:0.89690\n",
            "[32]\tvalidation_0-auc:0.89754\n",
            "[33]\tvalidation_0-auc:0.89816\n",
            "[34]\tvalidation_0-auc:0.89877\n",
            "[35]\tvalidation_0-auc:0.89958\n",
            "[36]\tvalidation_0-auc:0.90013\n",
            "[37]\tvalidation_0-auc:0.90073\n",
            "[38]\tvalidation_0-auc:0.90129\n",
            "[39]\tvalidation_0-auc:0.90179\n",
            "[40]\tvalidation_0-auc:0.90230\n",
            "[41]\tvalidation_0-auc:0.90303\n",
            "[42]\tvalidation_0-auc:0.90340\n",
            "[43]\tvalidation_0-auc:0.90399\n",
            "[44]\tvalidation_0-auc:0.90437\n",
            "[45]\tvalidation_0-auc:0.90499\n",
            "[46]\tvalidation_0-auc:0.90532\n",
            "[47]\tvalidation_0-auc:0.90564\n",
            "[48]\tvalidation_0-auc:0.90598\n",
            "[49]\tvalidation_0-auc:0.90657\n",
            "[50]\tvalidation_0-auc:0.90687\n",
            "[51]\tvalidation_0-auc:0.90732\n",
            "[52]\tvalidation_0-auc:0.90776\n",
            "[53]\tvalidation_0-auc:0.90815\n",
            "[54]\tvalidation_0-auc:0.90856\n",
            "[55]\tvalidation_0-auc:0.90906\n",
            "[56]\tvalidation_0-auc:0.90977\n",
            "[57]\tvalidation_0-auc:0.91039\n",
            "[58]\tvalidation_0-auc:0.91093\n",
            "[59]\tvalidation_0-auc:0.91137\n",
            "[60]\tvalidation_0-auc:0.91180\n",
            "[61]\tvalidation_0-auc:0.91210\n",
            "[62]\tvalidation_0-auc:0.91232\n",
            "[63]\tvalidation_0-auc:0.91264\n",
            "[64]\tvalidation_0-auc:0.91303\n",
            "[65]\tvalidation_0-auc:0.91321\n",
            "[66]\tvalidation_0-auc:0.91364\n",
            "[67]\tvalidation_0-auc:0.91398\n",
            "[68]\tvalidation_0-auc:0.91435\n",
            "[69]\tvalidation_0-auc:0.91468\n",
            "[70]\tvalidation_0-auc:0.91508\n",
            "[71]\tvalidation_0-auc:0.91529\n",
            "[72]\tvalidation_0-auc:0.91552\n",
            "[73]\tvalidation_0-auc:0.91575\n",
            "[74]\tvalidation_0-auc:0.91609\n",
            "[75]\tvalidation_0-auc:0.91641\n",
            "[76]\tvalidation_0-auc:0.91654\n",
            "[77]\tvalidation_0-auc:0.91673\n",
            "[78]\tvalidation_0-auc:0.91701\n",
            "[79]\tvalidation_0-auc:0.91744\n",
            "[80]\tvalidation_0-auc:0.91781\n",
            "[81]\tvalidation_0-auc:0.91817\n",
            "[82]\tvalidation_0-auc:0.91862\n",
            "[83]\tvalidation_0-auc:0.91890\n",
            "[84]\tvalidation_0-auc:0.91935\n",
            "[85]\tvalidation_0-auc:0.91970\n",
            "[86]\tvalidation_0-auc:0.92006\n",
            "[87]\tvalidation_0-auc:0.92020\n",
            "[88]\tvalidation_0-auc:0.92065\n",
            "[89]\tvalidation_0-auc:0.92085\n",
            "[90]\tvalidation_0-auc:0.92125\n",
            "[91]\tvalidation_0-auc:0.92163\n",
            "[92]\tvalidation_0-auc:0.92200\n",
            "[93]\tvalidation_0-auc:0.92221\n",
            "[94]\tvalidation_0-auc:0.92253\n",
            "[95]\tvalidation_0-auc:0.92286\n",
            "[96]\tvalidation_0-auc:0.92296\n",
            "[97]\tvalidation_0-auc:0.92330\n",
            "[98]\tvalidation_0-auc:0.92353\n",
            "[99]\tvalidation_0-auc:0.92400\n",
            "[100]\tvalidation_0-auc:0.92431\n",
            "[101]\tvalidation_0-auc:0.92445\n"
          ]
        },
        {
          "data": {
            "text/html": [
              "<style>#sk-container-id-2 {color: black;}#sk-container-id-2 pre{padding: 0;}#sk-container-id-2 div.sk-toggleable {background-color: white;}#sk-container-id-2 label.sk-toggleable__label {cursor: pointer;display: block;width: 100%;margin-bottom: 0;padding: 0.3em;box-sizing: border-box;text-align: center;}#sk-container-id-2 label.sk-toggleable__label-arrow:before {content: \"▸\";float: left;margin-right: 0.25em;color: #696969;}#sk-container-id-2 label.sk-toggleable__label-arrow:hover:before {color: black;}#sk-container-id-2 div.sk-estimator:hover label.sk-toggleable__label-arrow:before {color: black;}#sk-container-id-2 div.sk-toggleable__content {max-height: 0;max-width: 0;overflow: hidden;text-align: left;background-color: #f0f8ff;}#sk-container-id-2 div.sk-toggleable__content pre {margin: 0.2em;color: black;border-radius: 0.25em;background-color: #f0f8ff;}#sk-container-id-2 input.sk-toggleable__control:checked~div.sk-toggleable__content {max-height: 200px;max-width: 100%;overflow: auto;}#sk-container-id-2 input.sk-toggleable__control:checked~label.sk-toggleable__label-arrow:before {content: \"▾\";}#sk-container-id-2 div.sk-estimator input.sk-toggleable__control:checked~label.sk-toggleable__label {background-color: #d4ebff;}#sk-container-id-2 div.sk-label input.sk-toggleable__control:checked~label.sk-toggleable__label {background-color: #d4ebff;}#sk-container-id-2 input.sk-hidden--visually {border: 0;clip: rect(1px 1px 1px 1px);clip: rect(1px, 1px, 1px, 1px);height: 1px;margin: -1px;overflow: hidden;padding: 0;position: absolute;width: 1px;}#sk-container-id-2 div.sk-estimator {font-family: monospace;background-color: #f0f8ff;border: 1px dotted black;border-radius: 0.25em;box-sizing: border-box;margin-bottom: 0.5em;}#sk-container-id-2 div.sk-estimator:hover {background-color: #d4ebff;}#sk-container-id-2 div.sk-parallel-item::after {content: \"\";width: 100%;border-bottom: 1px solid gray;flex-grow: 1;}#sk-container-id-2 div.sk-label:hover label.sk-toggleable__label {background-color: #d4ebff;}#sk-container-id-2 div.sk-serial::before {content: \"\";position: absolute;border-left: 1px solid gray;box-sizing: border-box;top: 0;bottom: 0;left: 50%;z-index: 0;}#sk-container-id-2 div.sk-serial {display: flex;flex-direction: column;align-items: center;background-color: white;padding-right: 0.2em;padding-left: 0.2em;position: relative;}#sk-container-id-2 div.sk-item {position: relative;z-index: 1;}#sk-container-id-2 div.sk-parallel {display: flex;align-items: stretch;justify-content: center;background-color: white;position: relative;}#sk-container-id-2 div.sk-item::before, #sk-container-id-2 div.sk-parallel-item::before {content: \"\";position: absolute;border-left: 1px solid gray;box-sizing: border-box;top: 0;bottom: 0;left: 50%;z-index: -1;}#sk-container-id-2 div.sk-parallel-item {display: flex;flex-direction: column;z-index: 1;position: relative;background-color: white;}#sk-container-id-2 div.sk-parallel-item:first-child::after {align-self: flex-end;width: 50%;}#sk-container-id-2 div.sk-parallel-item:last-child::after {align-self: flex-start;width: 50%;}#sk-container-id-2 div.sk-parallel-item:only-child::after {width: 0;}#sk-container-id-2 div.sk-dashed-wrapped {border: 1px dashed gray;margin: 0 0.4em 0.5em 0.4em;box-sizing: border-box;padding-bottom: 0.4em;background-color: white;}#sk-container-id-2 div.sk-label label {font-family: monospace;font-weight: bold;display: inline-block;line-height: 1.2em;}#sk-container-id-2 div.sk-label-container {text-align: center;}#sk-container-id-2 div.sk-container {/* jupyter's `normalize.less` sets `[hidden] { display: none; }` but bootstrap.min.css set `[hidden] { display: none !important; }` so we also need the `!important` here to be able to override the default hidden behavior on the sphinx rendered scikit-learn.org. See: https://github.com/scikit-learn/scikit-learn/issues/21755 */display: inline-block !important;position: relative;}#sk-container-id-2 div.sk-text-repr-fallback {display: none;}</style><div id=\"sk-container-id-2\" class=\"sk-top-container\"><div class=\"sk-text-repr-fallback\"><pre>XGBClassifier(base_score=None, booster=None, callbacks=None,\n",
              "              colsample_bylevel=0.8, colsample_bynode=None,\n",
              "              colsample_bytree=0.9500000000000001, early_stopping_rounds=None,\n",
              "              enable_categorical=False, eval_metric=&#x27;auc&#x27;, feature_types=None,\n",
              "              gamma=2.7, gpu_id=None, grow_policy=None, importance_type=None,\n",
              "              interaction_constraints=None, learning_rate=0.11, max_bin=None,\n",
              "              max_cat_threshold=None, max_cat_to_onehot=None,\n",
              "              max_delta_step=None, max_depth=9, max_leaves=None,\n",
              "              min_child_weight=5.0, missing=nan, monotone_constraints=None,\n",
              "              n_estimators=102, n_jobs=None, num_parallel_tree=None,\n",
              "              predictor=None, random_state=None, ...)</pre><b>In a Jupyter environment, please rerun this cell to show the HTML representation or trust the notebook. <br />On GitHub, the HTML representation is unable to render, please try loading this page with nbviewer.org.</b></div><div class=\"sk-container\" hidden><div class=\"sk-item\"><div class=\"sk-estimator sk-toggleable\"><input class=\"sk-toggleable__control sk-hidden--visually\" id=\"sk-estimator-id-2\" type=\"checkbox\" checked><label for=\"sk-estimator-id-2\" class=\"sk-toggleable__label sk-toggleable__label-arrow\">XGBClassifier</label><div class=\"sk-toggleable__content\"><pre>XGBClassifier(base_score=None, booster=None, callbacks=None,\n",
              "              colsample_bylevel=0.8, colsample_bynode=None,\n",
              "              colsample_bytree=0.9500000000000001, early_stopping_rounds=None,\n",
              "              enable_categorical=False, eval_metric=&#x27;auc&#x27;, feature_types=None,\n",
              "              gamma=2.7, gpu_id=None, grow_policy=None, importance_type=None,\n",
              "              interaction_constraints=None, learning_rate=0.11, max_bin=None,\n",
              "              max_cat_threshold=None, max_cat_to_onehot=None,\n",
              "              max_delta_step=None, max_depth=9, max_leaves=None,\n",
              "              min_child_weight=5.0, missing=nan, monotone_constraints=None,\n",
              "              n_estimators=102, n_jobs=None, num_parallel_tree=None,\n",
              "              predictor=None, random_state=None, ...)</pre></div></div></div></div></div>"
            ],
            "text/plain": [
              "XGBClassifier(base_score=None, booster=None, callbacks=None,\n",
              "              colsample_bylevel=0.8, colsample_bynode=None,\n",
              "              colsample_bytree=0.9500000000000001, early_stopping_rounds=None,\n",
              "              enable_categorical=False, eval_metric='auc', feature_types=None,\n",
              "              gamma=2.7, gpu_id=None, grow_policy=None, importance_type=None,\n",
              "              interaction_constraints=None, learning_rate=0.11, max_bin=None,\n",
              "              max_cat_threshold=None, max_cat_to_onehot=None,\n",
              "              max_delta_step=None, max_depth=9, max_leaves=None,\n",
              "              min_child_weight=5.0, missing=nan, monotone_constraints=None,\n",
              "              n_estimators=102, n_jobs=None, num_parallel_tree=None,\n",
              "              predictor=None, random_state=None, ...)"
            ]
          },
          "execution_count": 25,
          "metadata": {},
          "output_type": "execute_result"
        }
      ],
      "source": [
        "clf = xgb.XGBClassifier(\n",
        "    objective = 'binary:logistic',\n",
        "    seed = 100,\n",
        "    eval_metric = 'auc',\n",
        "    **best_params)\n",
        "\n",
        "clf.fit(x_train, y_train, verbose = True, eval_set = [(X_val, Y_val)])"
      ]
    },
    {
      "cell_type": "code",
      "execution_count": 26,
      "metadata": {
        "id": "bbt43O7j_AeT"
      },
      "outputs": [],
      "source": [
        "y_preds = clf.predict_proba(X_test.drop(columns=[\"ROW_ID\"]))[:, clf.classes_== 1].squeeze()\n",
        "submission_df = pd.DataFrame({\"ROW_ID\": X_test[\"ROW_ID\"], \"conversion\": y_preds})\n",
        "submission_df[\"ROW_ID\"] = submission_df[\"ROW_ID\"].astype(int)\n",
        "submission_df.to_csv(\"./outputs/hyperopt_space2.csv\", sep=\",\", index=False)"
      ]
    }
  ],
  "metadata": {
    "accelerator": "GPU",
    "colab": {
      "gpuType": "T4",
      "provenance": []
    },
    "kernelspec": {
      "display_name": "Python 3",
      "name": "python3"
    },
    "language_info": {
      "codemirror_mode": {
        "name": "ipython",
        "version": 3
      },
      "file_extension": ".py",
      "mimetype": "text/x-python",
      "name": "python",
      "nbconvert_exporter": "python",
      "pygments_lexer": "ipython3",
      "version": "3.11.4"
    }
  },
  "nbformat": 4,
  "nbformat_minor": 0
}
