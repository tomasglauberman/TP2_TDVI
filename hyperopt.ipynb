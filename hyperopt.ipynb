{
  "cells": [
    {
      "cell_type": "code",
      "execution_count": 1,
      "metadata": {
        "id": "Bo48RMH__bzG"
      },
      "outputs": [
        {
          "name": "stdout",
          "output_type": "stream",
          "text": [
            "Intel MKL WARNING: Support of Intel(R) Streaming SIMD Extensions 4.2 (Intel(R) SSE4.2) enabled only processors has been deprecated. Intel oneAPI Math Kernel Library 2025.0 will require Intel(R) Advanced Vector Extensions (Intel(R) AVX) instructions.\n",
            "Intel MKL WARNING: Support of Intel(R) Streaming SIMD Extensions 4.2 (Intel(R) SSE4.2) enabled only processors has been deprecated. Intel oneAPI Math Kernel Library 2025.0 will require Intel(R) Advanced Vector Extensions (Intel(R) AVX) instructions.\n"
          ]
        }
      ],
      "source": [
        "import pandas as pd\n",
        "from sklearn.pipeline import make_pipeline\n",
        "from sklearn.model_selection import train_test_split, RandomizedSearchCV, KFold\n",
        "from sklearn.metrics import roc_auc_score\n",
        "from scipy.stats import uniform, loguniform\n",
        "import xgboost as xgb\n",
        "from sklearn.model_selection import cross_val_score\n",
        "from hyperopt import fmin, tpe, hp, STATUS_OK, space_eval\n",
        "import numpy as np\n",
        "from hyperopt.pyll import scope\n",
        "from sklearn.preprocessing import StandardScaler\n"
      ]
    },
    {
      "cell_type": "code",
      "execution_count": 2,
      "metadata": {
        "id": "TOhCV0lx-OPP"
      },
      "outputs": [],
      "source": [
        "data = pd.read_csv(\"./data/competition_data.csv\")\n",
        "\n",
        "data.drop(columns=['accepts_mercadopago', 'benefit', 'boosted', 'category_id', 'deal_print_id', \n",
        "                   'etl_version', 'domain_id','full_name','product_id', 'item_id', 'main_picture', 'date', \n",
        "                   'site_id', 'tags','title','uid', 'user_id', 'warranty'], axis='columns', inplace=True)\n",
        "\n",
        "data['conversion'] = data['conversion'].astype('bool')\n",
        "data[\"print_server_timestamp\"] = pd.to_datetime(data[\"print_server_timestamp\"])\n",
        "data[\"hour\"] = data[\"print_server_timestamp\"].dt.hour\n",
        "data[\"day\"] = data[\"print_server_timestamp\"].dt.day\n",
        "#data[\"minute\"] = data[\"print_server_timestamp\"].dt.minute\n",
        "data[\"month\"] = data[\"print_server_timestamp\"].dt.month\n",
        "data.drop(columns=[\"print_server_timestamp\"], axis= \"columns\", inplace=True)\n",
        "data = pd.get_dummies(data,columns = [\"listing_type_id\", \"logistic_type\", \"platform\"],dummy_na = False, dtype = int)\n",
        "data = pd.get_dummies(data,columns = [\"is_pdp\"],dummy_na = True, dtype = bool )"
      ]
    },
    {
      "cell_type": "code",
      "execution_count": 13,
      "metadata": {
        "id": "_Hj-XwKk-aB8"
      },
      "outputs": [
        {
          "name": "stdout",
          "output_type": "stream",
          "text": [
            "(180761, 53)\n",
            "(178366, 53)\n"
          ]
        }
      ],
      "source": [
        "train_data = data[data[\"ROW_ID\"].isna()]\n",
        "print(train_data.shape)\n",
        "test_data = data[data[\"ROW_ID\"].notna()]\n",
        "train_data = train_data[train_data[\"available_quantity\"] < 50000]\n",
        "print(train_data.shape)\n",
        "\n",
        "x_train = train_data.drop(columns=[\"conversion\", \"ROW_ID\"])\n",
        "y_train = train_data[\"conversion\"]\n",
        "X_train, X_val, Y_train, Y_val = train_test_split(x_train, y_train, test_size=0.2, random_state=3456)\n",
        "X_test = test_data.drop(columns=[\"conversion\"])"
      ]
    },
    {
      "cell_type": "code",
      "execution_count": 27,
      "metadata": {},
      "outputs": [
        {
          "data": {
            "text/plain": [
              "conversion\n",
              "False    161859\n",
              "True      16507\n",
              "Name: count, dtype: int64"
            ]
          },
          "execution_count": 27,
          "metadata": {},
          "output_type": "execute_result"
        }
      ],
      "source": [
        "train_data['conversion'].value_counts()"
      ]
    },
    {
      "cell_type": "code",
      "execution_count": 14,
      "metadata": {
        "colab": {
          "base_uri": "https://localhost:8080/"
        },
        "id": "DExfng9t-a5S",
        "outputId": "6204c080-9122-4cfe-aefb-127fa8278b9a"
      },
      "outputs": [],
      "source": [
        "space={\n",
        "        \"n_estimators\": hp.choice(\"n_estimators\",np.arange(32, 264, 8, dtype=int)),                   # tune 32 - 256\n",
        "        \"eta\":hp.uniform(\"eta\",0.01,0.9),                                   # learning rate # tune 0.01 - 0.9\n",
        "        \"gamma\":hp.uniform(\"gamma\",0.01,0.9),                               # tune 0 - 0.9\n",
        "        \"max_depth\":hp.choice(\"max_depth\", np.arange(3, 18, 1, dtype=int)),                       # tune 6 - 18\n",
        "        \"min_child_weight\":hp.quniform('min_child_weight', 0, 10, 1),       # tune 0 - 10\n",
        "        \"subsample\":hp.uniform(\"subsample\",0.5,1),                          # tune 0.5 - 1\n",
        "        \"colsample_bytree\":hp.uniform(\"colsample_bytree\",0,1),              # tune 0- 1\n",
        "        \"colsample_bylevel\":hp.uniform(\"colsample_bylevel\",0,1),             # tune 0- 1\n",
        "        \"colsample_bynode\":hp.uniform(\"colsample_bynode\",0,1),              # tune 0- 1\n",
        "        \"scale_pos_weight\": 1,                  # tune by class imbalance: (sum(negative instances) / sum(positive instances)                  \n",
        "    }\n",
        "\n",
        "space2 = {\n",
        "        \"n_estimators\": scope.int(hp.uniform(\"n_estimators\", 10, 300)),\n",
        "        \"learning_rate\": hp.quniform(\"learning_rate\", 0.01, 0.3, 0.01),\n",
        "        \"max_depth\": scope.int(hp.quniform(\"max_depth\", 1, 15, 1)),\n",
        "        \"min_child_weight\": hp.quniform(\"min_child_weight\", 1, 9, 1),\n",
        "        \"subsample\": hp.quniform(\"subsample\", 0.6, 1, 0.05),\n",
        "        \"gamma\": hp.quniform(\"gamma\", 0.05, 3, 0.05),\n",
        "        \"colsample_bytree\": hp.quniform(\"colsample_bytree\", 0.4, 1, 0.05),\n",
        "        \"colsample_bylevel\": hp.quniform(\"colsample_bylevel\", 0.4, 1, 0.05),\n",
        "        \"reg_lambda\": hp.quniform(\"reg_lambda\", 0.01, 2, 0.01),\n",
        "        \"reg_alpha\": hp.quniform(\"reg_alpha\", 0, 10, 1),\n",
        "        #'monotone_constraints': mon_cons,\n",
        "    }\n",
        "\n",
        "def objective(params):\n",
        "    tree = xgb.XGBClassifier(**params, random_state = 22)\n",
        "    score = cross_val_score(tree, x_train, y_train, cv = KFold(4)).mean() # Aplicamos validación cruzada con 4 folds.\n",
        "    return {'loss': 1 - score, 'status': STATUS_OK}\n",
        "\n",
        "\n"
      ]
    },
    {
      "cell_type": "code",
      "execution_count": 5,
      "metadata": {},
      "outputs": [],
      "source": [
        "import warnings\n",
        "\n",
        "# Configura para ignorar los warnings futuros\n",
        "warnings.simplefilter(action='ignore', category=FutureWarning)"
      ]
    },
    {
      "cell_type": "code",
      "execution_count": 15,
      "metadata": {},
      "outputs": [
        {
          "name": "stdout",
          "output_type": "stream",
          "text": [
            "  0%|          | 0/6 [00:00<?, ?trial/s, best loss=?]"
          ]
        },
        {
          "name": "stdout",
          "output_type": "stream",
          "text": [
            "100%|██████████| 6/6 [03:05<00:00, 30.84s/trial, best loss: 0.0894060575748643] \n"
          ]
        }
      ],
      "source": [
        "best = fmin(objective, space,\n",
        "            algo = tpe.suggest,\n",
        "            max_evals = 6,\n",
        "            rstate = np.random.default_rng(22))"
      ]
    },
    {
      "cell_type": "code",
      "execution_count": 16,
      "metadata": {},
      "outputs": [],
      "source": [
        "best_params = space_eval(space, best)\n",
        "#print(\"BEST PARAMS: \", best_params)\n",
        "#0.08900150302033172\n",
        "#0.08900150302033172\n",
        "#BEST PARAMS con space1:  {'colsample_bylevel': 0.8219490559795931, 'colsample_bynode': 0.24759470484372925, 'colsample_bytree': 0.7182253566785832, 'eta': 0.10879724556393319, 'gamma': 0.013905544512424909, 'max_depth': 7, 'min_child_weight': 9.0, 'n_estimators': 160, 'scale_pos_weight': 1, 'subsample': 0.7282346960910877}\n",
        "#BEST PARAMS con space2:  {'colsample_bylevel': 0.8, 'colsample_bytree': 0.9500000000000001, 'gamma': 2.7, 'learning_rate': 0.11, 'max_depth': 9, 'min_child_weight': 5.0, 'n_estimators': 102, 'reg_alpha': 9.0, 'reg_lambda': 1.19, 'subsample': 0.8500000000000001"
      ]
    },
    {
      "cell_type": "code",
      "execution_count": 17,
      "metadata": {
        "colab": {
          "base_uri": "https://localhost:8080/",
          "height": 52
        },
        "id": "JMxXki_M-8r8",
        "outputId": "737e5de7-3121-4268-89d8-8ab7251c7918"
      },
      "outputs": [
        {
          "name": "stdout",
          "output_type": "stream",
          "text": [
            "[0]\tvalidation_0-auc:0.84983\n",
            "[1]\tvalidation_0-auc:0.85540\n",
            "[2]\tvalidation_0-auc:0.85958\n",
            "[3]\tvalidation_0-auc:0.86540\n",
            "[4]\tvalidation_0-auc:0.86548\n",
            "[5]\tvalidation_0-auc:0.86674\n",
            "[6]\tvalidation_0-auc:0.86794\n",
            "[7]\tvalidation_0-auc:0.86723\n",
            "[8]\tvalidation_0-auc:0.86480\n",
            "[9]\tvalidation_0-auc:0.86166\n",
            "[10]\tvalidation_0-auc:0.86609\n",
            "[11]\tvalidation_0-auc:0.86293\n",
            "[12]\tvalidation_0-auc:0.86572\n",
            "[13]\tvalidation_0-auc:0.86790\n",
            "[14]\tvalidation_0-auc:0.87013\n",
            "[15]\tvalidation_0-auc:0.87121\n",
            "[16]\tvalidation_0-auc:0.87209\n",
            "[17]\tvalidation_0-auc:0.87224\n",
            "[18]\tvalidation_0-auc:0.87194\n",
            "[19]\tvalidation_0-auc:0.87263\n",
            "[20]\tvalidation_0-auc:0.87238\n",
            "[21]\tvalidation_0-auc:0.87311\n",
            "[22]\tvalidation_0-auc:0.87291\n",
            "[23]\tvalidation_0-auc:0.87362\n",
            "[24]\tvalidation_0-auc:0.87440\n",
            "[25]\tvalidation_0-auc:0.87462\n",
            "[26]\tvalidation_0-auc:0.87488\n",
            "[27]\tvalidation_0-auc:0.87509\n",
            "[28]\tvalidation_0-auc:0.87509\n",
            "[29]\tvalidation_0-auc:0.87493\n",
            "[30]\tvalidation_0-auc:0.87492\n",
            "[31]\tvalidation_0-auc:0.87477\n",
            "[32]\tvalidation_0-auc:0.87573\n",
            "[33]\tvalidation_0-auc:0.87579\n",
            "[34]\tvalidation_0-auc:0.87589\n",
            "[35]\tvalidation_0-auc:0.87657\n",
            "[36]\tvalidation_0-auc:0.87675\n",
            "[37]\tvalidation_0-auc:0.87685\n",
            "[38]\tvalidation_0-auc:0.87732\n",
            "[39]\tvalidation_0-auc:0.87806\n",
            "[40]\tvalidation_0-auc:0.87838\n",
            "[41]\tvalidation_0-auc:0.87875\n",
            "[42]\tvalidation_0-auc:0.87901\n",
            "[43]\tvalidation_0-auc:0.87927\n",
            "[44]\tvalidation_0-auc:0.87958\n",
            "[45]\tvalidation_0-auc:0.87977\n",
            "[46]\tvalidation_0-auc:0.88010\n",
            "[47]\tvalidation_0-auc:0.88046\n",
            "[48]\tvalidation_0-auc:0.88062\n",
            "[49]\tvalidation_0-auc:0.88074\n",
            "[50]\tvalidation_0-auc:0.88109\n",
            "[51]\tvalidation_0-auc:0.88132\n",
            "[52]\tvalidation_0-auc:0.88145\n",
            "[53]\tvalidation_0-auc:0.88165\n",
            "[54]\tvalidation_0-auc:0.88184\n",
            "[55]\tvalidation_0-auc:0.88194\n",
            "[56]\tvalidation_0-auc:0.88212\n",
            "[57]\tvalidation_0-auc:0.88227\n",
            "[58]\tvalidation_0-auc:0.88238\n",
            "[59]\tvalidation_0-auc:0.88274\n",
            "[60]\tvalidation_0-auc:0.88290\n",
            "[61]\tvalidation_0-auc:0.88303\n",
            "[62]\tvalidation_0-auc:0.88315\n",
            "[63]\tvalidation_0-auc:0.88339\n",
            "[64]\tvalidation_0-auc:0.88362\n",
            "[65]\tvalidation_0-auc:0.88378\n",
            "[66]\tvalidation_0-auc:0.88395\n",
            "[67]\tvalidation_0-auc:0.88429\n",
            "[68]\tvalidation_0-auc:0.88434\n",
            "[69]\tvalidation_0-auc:0.88437\n",
            "[70]\tvalidation_0-auc:0.88443\n",
            "[71]\tvalidation_0-auc:0.88451\n",
            "[72]\tvalidation_0-auc:0.88469\n",
            "[73]\tvalidation_0-auc:0.88478\n",
            "[74]\tvalidation_0-auc:0.88490\n",
            "[75]\tvalidation_0-auc:0.88502\n",
            "[76]\tvalidation_0-auc:0.88516\n",
            "[77]\tvalidation_0-auc:0.88533\n",
            "[78]\tvalidation_0-auc:0.88545\n",
            "[79]\tvalidation_0-auc:0.88569\n",
            "[80]\tvalidation_0-auc:0.88590\n",
            "[81]\tvalidation_0-auc:0.88599\n",
            "[82]\tvalidation_0-auc:0.88611\n",
            "[83]\tvalidation_0-auc:0.88629\n",
            "[84]\tvalidation_0-auc:0.88633\n",
            "[85]\tvalidation_0-auc:0.88648\n",
            "[86]\tvalidation_0-auc:0.88659\n",
            "[87]\tvalidation_0-auc:0.88682\n",
            "[88]\tvalidation_0-auc:0.88693\n",
            "[89]\tvalidation_0-auc:0.88701\n",
            "[90]\tvalidation_0-auc:0.88713\n",
            "[91]\tvalidation_0-auc:0.88726\n",
            "[92]\tvalidation_0-auc:0.88744\n",
            "[93]\tvalidation_0-auc:0.88756\n",
            "[94]\tvalidation_0-auc:0.88766\n",
            "[95]\tvalidation_0-auc:0.88782\n",
            "[96]\tvalidation_0-auc:0.88788\n",
            "[97]\tvalidation_0-auc:0.88799\n",
            "[98]\tvalidation_0-auc:0.88823\n",
            "[99]\tvalidation_0-auc:0.88840\n",
            "[100]\tvalidation_0-auc:0.88855\n",
            "[101]\tvalidation_0-auc:0.88862\n",
            "[102]\tvalidation_0-auc:0.88882\n",
            "[103]\tvalidation_0-auc:0.88897\n",
            "[104]\tvalidation_0-auc:0.88905\n",
            "[105]\tvalidation_0-auc:0.88908\n",
            "[106]\tvalidation_0-auc:0.88915\n",
            "[107]\tvalidation_0-auc:0.88922\n",
            "[108]\tvalidation_0-auc:0.88942\n",
            "[109]\tvalidation_0-auc:0.88949\n",
            "[110]\tvalidation_0-auc:0.88956\n",
            "[111]\tvalidation_0-auc:0.88968\n",
            "[112]\tvalidation_0-auc:0.88973\n",
            "[113]\tvalidation_0-auc:0.88981\n",
            "[114]\tvalidation_0-auc:0.88994\n",
            "[115]\tvalidation_0-auc:0.89016\n",
            "[116]\tvalidation_0-auc:0.89029\n",
            "[117]\tvalidation_0-auc:0.89032\n",
            "[118]\tvalidation_0-auc:0.89050\n",
            "[119]\tvalidation_0-auc:0.89053\n",
            "[120]\tvalidation_0-auc:0.89067\n",
            "[121]\tvalidation_0-auc:0.89083\n",
            "[122]\tvalidation_0-auc:0.89087\n",
            "[123]\tvalidation_0-auc:0.89098\n",
            "[124]\tvalidation_0-auc:0.89104\n",
            "[125]\tvalidation_0-auc:0.89124\n",
            "[126]\tvalidation_0-auc:0.89130\n",
            "[127]\tvalidation_0-auc:0.89135\n",
            "[128]\tvalidation_0-auc:0.89145\n",
            "[129]\tvalidation_0-auc:0.89160\n",
            "[130]\tvalidation_0-auc:0.89165\n",
            "[131]\tvalidation_0-auc:0.89175\n",
            "[132]\tvalidation_0-auc:0.89180\n",
            "[133]\tvalidation_0-auc:0.89192\n",
            "[134]\tvalidation_0-auc:0.89206\n",
            "[135]\tvalidation_0-auc:0.89218\n",
            "[136]\tvalidation_0-auc:0.89226\n",
            "[137]\tvalidation_0-auc:0.89227\n",
            "[138]\tvalidation_0-auc:0.89240\n",
            "[139]\tvalidation_0-auc:0.89243\n",
            "[140]\tvalidation_0-auc:0.89250\n",
            "[141]\tvalidation_0-auc:0.89268\n",
            "[142]\tvalidation_0-auc:0.89276\n",
            "[143]\tvalidation_0-auc:0.89294\n",
            "[144]\tvalidation_0-auc:0.89299\n",
            "[145]\tvalidation_0-auc:0.89318\n",
            "[146]\tvalidation_0-auc:0.89326\n",
            "[147]\tvalidation_0-auc:0.89333\n",
            "[148]\tvalidation_0-auc:0.89340\n",
            "[149]\tvalidation_0-auc:0.89356\n",
            "[150]\tvalidation_0-auc:0.89369\n",
            "[151]\tvalidation_0-auc:0.89375\n",
            "[152]\tvalidation_0-auc:0.89384\n",
            "[153]\tvalidation_0-auc:0.89404\n",
            "[154]\tvalidation_0-auc:0.89411\n",
            "[155]\tvalidation_0-auc:0.89423\n",
            "[156]\tvalidation_0-auc:0.89436\n",
            "[157]\tvalidation_0-auc:0.89449\n",
            "[158]\tvalidation_0-auc:0.89452\n",
            "[159]\tvalidation_0-auc:0.89461\n"
          ]
        },
        {
          "data": {
            "text/html": [
              "<style>#sk-container-id-2 {color: black;}#sk-container-id-2 pre{padding: 0;}#sk-container-id-2 div.sk-toggleable {background-color: white;}#sk-container-id-2 label.sk-toggleable__label {cursor: pointer;display: block;width: 100%;margin-bottom: 0;padding: 0.3em;box-sizing: border-box;text-align: center;}#sk-container-id-2 label.sk-toggleable__label-arrow:before {content: \"▸\";float: left;margin-right: 0.25em;color: #696969;}#sk-container-id-2 label.sk-toggleable__label-arrow:hover:before {color: black;}#sk-container-id-2 div.sk-estimator:hover label.sk-toggleable__label-arrow:before {color: black;}#sk-container-id-2 div.sk-toggleable__content {max-height: 0;max-width: 0;overflow: hidden;text-align: left;background-color: #f0f8ff;}#sk-container-id-2 div.sk-toggleable__content pre {margin: 0.2em;color: black;border-radius: 0.25em;background-color: #f0f8ff;}#sk-container-id-2 input.sk-toggleable__control:checked~div.sk-toggleable__content {max-height: 200px;max-width: 100%;overflow: auto;}#sk-container-id-2 input.sk-toggleable__control:checked~label.sk-toggleable__label-arrow:before {content: \"▾\";}#sk-container-id-2 div.sk-estimator input.sk-toggleable__control:checked~label.sk-toggleable__label {background-color: #d4ebff;}#sk-container-id-2 div.sk-label input.sk-toggleable__control:checked~label.sk-toggleable__label {background-color: #d4ebff;}#sk-container-id-2 input.sk-hidden--visually {border: 0;clip: rect(1px 1px 1px 1px);clip: rect(1px, 1px, 1px, 1px);height: 1px;margin: -1px;overflow: hidden;padding: 0;position: absolute;width: 1px;}#sk-container-id-2 div.sk-estimator {font-family: monospace;background-color: #f0f8ff;border: 1px dotted black;border-radius: 0.25em;box-sizing: border-box;margin-bottom: 0.5em;}#sk-container-id-2 div.sk-estimator:hover {background-color: #d4ebff;}#sk-container-id-2 div.sk-parallel-item::after {content: \"\";width: 100%;border-bottom: 1px solid gray;flex-grow: 1;}#sk-container-id-2 div.sk-label:hover label.sk-toggleable__label {background-color: #d4ebff;}#sk-container-id-2 div.sk-serial::before {content: \"\";position: absolute;border-left: 1px solid gray;box-sizing: border-box;top: 0;bottom: 0;left: 50%;z-index: 0;}#sk-container-id-2 div.sk-serial {display: flex;flex-direction: column;align-items: center;background-color: white;padding-right: 0.2em;padding-left: 0.2em;position: relative;}#sk-container-id-2 div.sk-item {position: relative;z-index: 1;}#sk-container-id-2 div.sk-parallel {display: flex;align-items: stretch;justify-content: center;background-color: white;position: relative;}#sk-container-id-2 div.sk-item::before, #sk-container-id-2 div.sk-parallel-item::before {content: \"\";position: absolute;border-left: 1px solid gray;box-sizing: border-box;top: 0;bottom: 0;left: 50%;z-index: -1;}#sk-container-id-2 div.sk-parallel-item {display: flex;flex-direction: column;z-index: 1;position: relative;background-color: white;}#sk-container-id-2 div.sk-parallel-item:first-child::after {align-self: flex-end;width: 50%;}#sk-container-id-2 div.sk-parallel-item:last-child::after {align-self: flex-start;width: 50%;}#sk-container-id-2 div.sk-parallel-item:only-child::after {width: 0;}#sk-container-id-2 div.sk-dashed-wrapped {border: 1px dashed gray;margin: 0 0.4em 0.5em 0.4em;box-sizing: border-box;padding-bottom: 0.4em;background-color: white;}#sk-container-id-2 div.sk-label label {font-family: monospace;font-weight: bold;display: inline-block;line-height: 1.2em;}#sk-container-id-2 div.sk-label-container {text-align: center;}#sk-container-id-2 div.sk-container {/* jupyter's `normalize.less` sets `[hidden] { display: none; }` but bootstrap.min.css set `[hidden] { display: none !important; }` so we also need the `!important` here to be able to override the default hidden behavior on the sphinx rendered scikit-learn.org. See: https://github.com/scikit-learn/scikit-learn/issues/21755 */display: inline-block !important;position: relative;}#sk-container-id-2 div.sk-text-repr-fallback {display: none;}</style><div id=\"sk-container-id-2\" class=\"sk-top-container\"><div class=\"sk-text-repr-fallback\"><pre>XGBClassifier(base_score=None, booster=None, callbacks=None,\n",
              "              colsample_bylevel=0.8219490559795931,\n",
              "              colsample_bynode=0.24759470484372925,\n",
              "              colsample_bytree=0.7182253566785832, early_stopping_rounds=None,\n",
              "              enable_categorical=False, eta=0.10879724556393319,\n",
              "              eval_metric=&#x27;auc&#x27;, feature_types=None, gamma=0.013905544512424909,\n",
              "              gpu_id=None, grow_policy=None, importance_type=None,\n",
              "              interaction_constraints=None, learning_rate=None, max_bin=None,\n",
              "              max_cat_threshold=None, max_cat_to_onehot=None,\n",
              "              max_delta_step=None, max_depth=4, max_leaves=None,\n",
              "              min_child_weight=9.0, missing=nan, monotone_constraints=None,\n",
              "              n_estimators=160, n_jobs=None, num_parallel_tree=None,\n",
              "              predictor=None, ...)</pre><b>In a Jupyter environment, please rerun this cell to show the HTML representation or trust the notebook. <br />On GitHub, the HTML representation is unable to render, please try loading this page with nbviewer.org.</b></div><div class=\"sk-container\" hidden><div class=\"sk-item\"><div class=\"sk-estimator sk-toggleable\"><input class=\"sk-toggleable__control sk-hidden--visually\" id=\"sk-estimator-id-2\" type=\"checkbox\" checked><label for=\"sk-estimator-id-2\" class=\"sk-toggleable__label sk-toggleable__label-arrow\">XGBClassifier</label><div class=\"sk-toggleable__content\"><pre>XGBClassifier(base_score=None, booster=None, callbacks=None,\n",
              "              colsample_bylevel=0.8219490559795931,\n",
              "              colsample_bynode=0.24759470484372925,\n",
              "              colsample_bytree=0.7182253566785832, early_stopping_rounds=None,\n",
              "              enable_categorical=False, eta=0.10879724556393319,\n",
              "              eval_metric=&#x27;auc&#x27;, feature_types=None, gamma=0.013905544512424909,\n",
              "              gpu_id=None, grow_policy=None, importance_type=None,\n",
              "              interaction_constraints=None, learning_rate=None, max_bin=None,\n",
              "              max_cat_threshold=None, max_cat_to_onehot=None,\n",
              "              max_delta_step=None, max_depth=4, max_leaves=None,\n",
              "              min_child_weight=9.0, missing=nan, monotone_constraints=None,\n",
              "              n_estimators=160, n_jobs=None, num_parallel_tree=None,\n",
              "              predictor=None, ...)</pre></div></div></div></div></div>"
            ],
            "text/plain": [
              "XGBClassifier(base_score=None, booster=None, callbacks=None,\n",
              "              colsample_bylevel=0.8219490559795931,\n",
              "              colsample_bynode=0.24759470484372925,\n",
              "              colsample_bytree=0.7182253566785832, early_stopping_rounds=None,\n",
              "              enable_categorical=False, eta=0.10879724556393319,\n",
              "              eval_metric='auc', feature_types=None, gamma=0.013905544512424909,\n",
              "              gpu_id=None, grow_policy=None, importance_type=None,\n",
              "              interaction_constraints=None, learning_rate=None, max_bin=None,\n",
              "              max_cat_threshold=None, max_cat_to_onehot=None,\n",
              "              max_delta_step=None, max_depth=4, max_leaves=None,\n",
              "              min_child_weight=9.0, missing=nan, monotone_constraints=None,\n",
              "              n_estimators=160, n_jobs=None, num_parallel_tree=None,\n",
              "              predictor=None, ...)"
            ]
          },
          "execution_count": 17,
          "metadata": {},
          "output_type": "execute_result"
        }
      ],
      "source": [
        "clf = xgb.XGBClassifier(\n",
        "    objective = 'binary:logistic',\n",
        "    seed = 100,\n",
        "    eval_metric = 'auc',\n",
        "    **best_params)\n",
        "\n",
        "clf.fit(x_train, y_train, verbose = True, eval_set = [(X_val, Y_val)])"
      ]
    },
    {
      "cell_type": "code",
      "execution_count": 21,
      "metadata": {},
      "outputs": [],
      "source": [
        "cv = KFold(n_splits=5, random_state=0, shuffle=True)\n",
        "scores = cross_val_score(clf, x_train, y_train, cv=cv, scoring=\"roc_auc\")"
      ]
    },
    {
      "cell_type": "code",
      "execution_count": 20,
      "metadata": {},
      "outputs": [
        {
          "data": {
            "text/plain": [
              "0.882803729008408"
            ]
          },
          "execution_count": 20,
          "metadata": {},
          "output_type": "execute_result"
        }
      ],
      "source": [
        "scores.mean()\n"
      ]
    },
    {
      "cell_type": "code",
      "execution_count": 23,
      "metadata": {},
      "outputs": [
        {
          "name": "stdout",
          "output_type": "stream",
          "text": [
            "                              feature  importance\n",
            "0                        is_pdp_False    0.276965\n",
            "1                          is_pdp_nan    0.194493\n",
            "2                              offset    0.080612\n",
            "3                         is_pdp_True    0.046829\n",
            "4                      print_position    0.043457\n",
            "5               platform_/web/desktop    0.030856\n",
            "6                   total_visits_item    0.026178\n",
            "7            total_orders_item_30days    0.025281\n",
            "8            platform_/mobile/android    0.023896\n",
            "9                total_si_item_30days    0.014980\n",
            "10                 available_quantity    0.010744\n",
            "11       listing_type_id_gold_special    0.010321\n",
            "12     avg_qty_orders_item_sel_30days    0.009774\n",
            "13                               hour    0.009347\n",
            "14                      free_shipping    0.007944\n",
            "15                              price    0.007811\n",
            "16              total_gmv_item_30days    0.007523\n",
            "17         total_orders_domain_30days    0.006879\n",
            "18          logistic_type_xd_drop_off    0.006621\n",
            "19  avg_qty_orders_item_domain_30days    0.006588\n",
            "20                   avg_gmv_item_sel    0.006486\n",
            "21              total_gmv_domain_bday    0.006444\n",
            "22         avg_gmv_item_domain_30days    0.006364\n",
            "23                     original_price    0.006361\n",
            "24                avg_gmv_seller_bday    0.006326\n",
            "25               platform_/web/mobile    0.006242\n",
            "26       total_asp_item_domain_30days    0.006147\n",
            "27                      sold_quantity    0.006116\n",
            "28             total_si_domain_30days    0.006004\n",
            "29                 total_items_domain    0.005944\n",
            "30                             health    0.005929\n",
            "31                      qty_items_dom    0.005863\n",
            "32                        fulfillment    0.005792\n",
            "33                total_visits_domain    0.005611\n",
            "34                 total_items_seller    0.005603\n",
            "35                                day    0.005399\n",
            "36          total_asp_item_sel_30days    0.005255\n",
            "37          logistic_type_fulfillment    0.005127\n",
            "38              avg_si_item_sel_30day    0.005116\n",
            "39                total_si_sel_30days    0.005054\n",
            "40            total_orders_sel_30days    0.004912\n",
            "41           listing_type_id_gold_pro    0.004221\n",
            "42               logistic_type_custom    0.004201\n",
            "43                      qty_items_sel    0.003922\n",
            "44                total_visits_seller    0.003913\n",
            "45        logistic_type_cross_docking    0.003908\n",
            "46                              month    0.003747\n",
            "47               platform_/mobile/ios    0.003517\n",
            "48        logistic_type_not_specified    0.003277\n",
            "49             logistic_type_drop_off    0.000101\n",
            "50              logistic_type_default    0.000000\n"
          ]
        }
      ],
      "source": [
        "feature_importance = pd.DataFrame({'feature': X_train.columns, 'importance': clf.feature_importances_})\n",
        "feature_importance.sort_values(by='importance', ascending=False, inplace=True)\n",
        "feature_importance.reset_index(drop=True, inplace=True)\n",
        "print(feature_importance)"
      ]
    },
    {
      "cell_type": "code",
      "execution_count": 24,
      "metadata": {
        "id": "bbt43O7j_AeT"
      },
      "outputs": [],
      "source": [
        "y_preds = clf.predict_proba(X_test.drop(columns=[\"ROW_ID\"]))[:, clf.classes_== 1].squeeze()\n",
        "submission_df = pd.DataFrame({\"ROW_ID\": X_test[\"ROW_ID\"], \"conversion\": y_preds})\n",
        "submission_df[\"ROW_ID\"] = submission_df[\"ROW_ID\"].astype(int)\n",
        "submission_df.to_csv(\"./outputs/hyperopt_sin_avail50.csv\", sep=\",\", index=False)"
      ]
    }
  ],
  "metadata": {
    "accelerator": "GPU",
    "colab": {
      "gpuType": "T4",
      "provenance": []
    },
    "kernelspec": {
      "display_name": "Python 3",
      "name": "python3"
    },
    "language_info": {
      "codemirror_mode": {
        "name": "ipython",
        "version": 3
      },
      "file_extension": ".py",
      "mimetype": "text/x-python",
      "name": "python",
      "nbconvert_exporter": "python",
      "pygments_lexer": "ipython3",
      "version": "3.11.4"
    }
  },
  "nbformat": 4,
  "nbformat_minor": 0
}
