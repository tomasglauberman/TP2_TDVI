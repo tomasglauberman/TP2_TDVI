{
  "cells": [
    {
      "cell_type": "code",
      "execution_count": 17,
      "metadata": {
        "id": "Bo48RMH__bzG"
      },
      "outputs": [],
      "source": [
        "import pandas as pd\n",
        "from sklearn.pipeline import make_pipeline\n",
        "from sklearn.model_selection import train_test_split, RandomizedSearchCV, KFold\n",
        "from sklearn.metrics import roc_auc_score\n",
        "from scipy.stats import uniform, loguniform\n",
        "import xgboost as xgb\n",
        "from sklearn.model_selection import cross_val_score\n",
        "from hyperopt import fmin, tpe, hp, STATUS_OK, space_eval\n",
        "import numpy as np\n",
        "from hyperopt.pyll import scope\n",
        "from sklearn.preprocessing import StandardScaler\n"
      ]
    },
    {
      "cell_type": "code",
      "execution_count": 38,
      "metadata": {
        "id": "TOhCV0lx-OPP"
      },
      "outputs": [],
      "source": [
        "data = pd.read_csv(\"./data/competition_data.csv\")\n",
        "\n",
        "data.drop(columns=['benefit', 'category_id', 'deal_print_id','etl_version', 'full_name','product_id'\n",
        "                   , 'item_id', 'main_picture', 'site_id', 'uid', 'user_id', 'title', 'tags', 'warranty'],\n",
        "                     axis= \"columns\", inplace=True)\n",
        "\n",
        "data['conversion'] = data['conversion'].astype('bool')\n",
        "data[\"print_server_timestamp\"] = pd.to_datetime(data[\"print_server_timestamp\"])\n",
        "data[\"hour\"] = data[\"print_server_timestamp\"].dt.hour\n",
        "data[\"day\"] = data[\"print_server_timestamp\"].dt.day\n",
        "#data[\"minute\"] = data[\"print_server_timestamp\"].dt.minute\n",
        "data[\"month\"] = data[\"print_server_timestamp\"].dt.month\n",
        "data.drop(columns=[\"print_server_timestamp\", 'date', \"domain_id\"], axis= \"columns\", inplace=True)\n",
        "data = pd.get_dummies(data,columns = [\"listing_type_id\", \"logistic_type\", \"platform\"],dummy_na = False, dtype = int)\n",
        "data = pd.get_dummies(data,columns = [\"is_pdp\"],dummy_na = True, dtype = bool )"
      ]
    },
    {
      "cell_type": "code",
      "execution_count": 39,
      "metadata": {
        "id": "_Hj-XwKk-aB8"
      },
      "outputs": [],
      "source": [
        "train_data = data[data[\"ROW_ID\"].isna()]\n",
        "test_data = data[data[\"ROW_ID\"].notna()]\n",
        "\n",
        "x_train = train_data.drop(columns=[\"conversion\", \"ROW_ID\"])\n",
        "y_train = train_data[\"conversion\"]\n",
        "X_train, X_val, Y_train, Y_val = train_test_split(x_train, y_train, test_size=0.2, random_state=3456)\n",
        "X_test = test_data.drop(columns=[\"conversion\"])\n",
        "y_test = test_data[\"conversion\"]"
      ]
    },
    {
      "cell_type": "code",
      "execution_count": 51,
      "metadata": {},
      "outputs": [],
      "source": []
    },
    {
      "cell_type": "code",
      "execution_count": 40,
      "metadata": {
        "colab": {
          "base_uri": "https://localhost:8080/"
        },
        "id": "DExfng9t-a5S",
        "outputId": "6204c080-9122-4cfe-aefb-127fa8278b9a"
      },
      "outputs": [],
      "source": [
        "space={\n",
        "        \"n_estimators\": hp.choice(\"n_estimators\",np.arange(32, 264, 8, dtype=int)),                   # tune 32 - 256\n",
        "        \"eta\":hp.uniform(\"eta\",0.01,0.9),                                   # learning rate # tune 0.01 - 0.9\n",
        "        \"gamma\":hp.uniform(\"gamma\",0.01,0.9),                               # tune 0 - 0.9\n",
        "        \"max_depth\":hp.choice(\"max_depth\", np.arange(3, 18, 1, dtype=int)),                       # tune 6 - 18\n",
        "        \"min_child_weight\":hp.quniform('min_child_weight', 0, 10, 1),       # tune 0 - 10\n",
        "        \"subsample\":hp.uniform(\"subsample\",0.5,1),                          # tune 0.5 - 1\n",
        "        \"colsample_bytree\":hp.uniform(\"colsample_bytree\",0,1),              # tune 0- 1\n",
        "        \"colsample_bylevel\":hp.uniform(\"colsample_bylevel\",0,1),             # tune 0- 1\n",
        "        \"colsample_bynode\":hp.uniform(\"colsample_bynode\",0,1),              # tune 0- 1\n",
        "        \"scale_pos_weight\": 1,                  # tune by class imbalance: (sum(negative instances) / sum(positive instances)                  \n",
        "    }\n",
        "\n",
        "space2 = {\n",
        "        \"n_estimators\": scope.int(hp.uniform(\"n_estimators\", 10, 300)),\n",
        "        \"learning_rate\": hp.quniform(\"learning_rate\", 0.01, 0.3, 0.01),\n",
        "        \"max_depth\": scope.int(hp.quniform(\"max_depth\", 1, 15, 1)),\n",
        "        \"min_child_weight\": hp.quniform(\"min_child_weight\", 1, 9, 1),\n",
        "        \"subsample\": hp.quniform(\"subsample\", 0.6, 1, 0.05),\n",
        "        \"gamma\": hp.quniform(\"gamma\", 0.05, 3, 0.05),\n",
        "        \"colsample_bytree\": hp.quniform(\"colsample_bytree\", 0.4, 1, 0.05),\n",
        "        \"colsample_bylevel\": hp.quniform(\"colsample_bylevel\", 0.4, 1, 0.05),\n",
        "        \"reg_lambda\": hp.quniform(\"reg_lambda\", 0.01, 2, 0.01),\n",
        "        \"reg_alpha\": hp.quniform(\"reg_alpha\", 0, 10, 1),\n",
        "        #'monotone_constraints': mon_cons,\n",
        "    }\n",
        "\n",
        "def objective(params):\n",
        "    tree = xgb.XGBClassifier(**params, random_state = 22)\n",
        "    score = cross_val_score(tree, x_train, y_train, cv = KFold(4)).mean() # Aplicamos validación cruzada con 4 folds.\n",
        "    return {'loss': 1 - score, 'status': STATUS_OK}\n",
        "\n",
        "\n"
      ]
    },
    {
      "cell_type": "code",
      "execution_count": 41,
      "metadata": {},
      "outputs": [],
      "source": [
        "import warnings\n",
        "\n",
        "# Configura para ignorar los warnings futuros\n",
        "warnings.simplefilter(action='ignore', category=FutureWarning)"
      ]
    },
    {
      "cell_type": "code",
      "execution_count": 42,
      "metadata": {},
      "outputs": [
        {
          "name": "stdout",
          "output_type": "stream",
          "text": [
            "100%|██████████| 6/6 [02:55<00:00, 29.21s/trial, best loss: 0.08958238056328494]\n"
          ]
        }
      ],
      "source": [
        "best = fmin(objective, space,\n",
        "            algo = tpe.suggest,\n",
        "            max_evals = 6,\n",
        "            rstate = np.random.default_rng(22))"
      ]
    },
    {
      "cell_type": "code",
      "execution_count": 43,
      "metadata": {},
      "outputs": [],
      "source": [
        "best_params = space_eval(space, best)\n",
        "#print(\"BEST PARAMS: \", best_params)\n",
        "#0.08900150302033172\n",
        "#0.08900150302033172\n",
        "#BEST PARAMS con space1:  {'colsample_bylevel': 0.8219490559795931, 'colsample_bynode': 0.24759470484372925, 'colsample_bytree': 0.7182253566785832, 'eta': 0.10879724556393319, 'gamma': 0.013905544512424909, 'max_depth': 7, 'min_child_weight': 9.0, 'n_estimators': 160, 'scale_pos_weight': 1, 'subsample': 0.7282346960910877}\n",
        "#BEST PARAMS con space2:  {'colsample_bylevel': 0.8, 'colsample_bytree': 0.9500000000000001, 'gamma': 2.7, 'learning_rate': 0.11, 'max_depth': 9, 'min_child_weight': 5.0, 'n_estimators': 102, 'reg_alpha': 9.0, 'reg_lambda': 1.19, 'subsample': 0.8500000000000001"
      ]
    },
    {
      "cell_type": "code",
      "execution_count": 44,
      "metadata": {
        "colab": {
          "base_uri": "https://localhost:8080/",
          "height": 52
        },
        "id": "JMxXki_M-8r8",
        "outputId": "737e5de7-3121-4268-89d8-8ab7251c7918"
      },
      "outputs": [
        {
          "name": "stdout",
          "output_type": "stream",
          "text": [
            "[0]\tvalidation_0-auc:0.82941\n",
            "[1]\tvalidation_0-auc:0.83940\n",
            "[2]\tvalidation_0-auc:0.84720\n",
            "[3]\tvalidation_0-auc:0.85834\n",
            "[4]\tvalidation_0-auc:0.85780\n",
            "[5]\tvalidation_0-auc:0.86196\n",
            "[6]\tvalidation_0-auc:0.86380\n",
            "[7]\tvalidation_0-auc:0.86680\n",
            "[8]\tvalidation_0-auc:0.86623\n",
            "[9]\tvalidation_0-auc:0.86719\n",
            "[10]\tvalidation_0-auc:0.86696\n",
            "[11]\tvalidation_0-auc:0.86782\n",
            "[12]\tvalidation_0-auc:0.86813\n",
            "[13]\tvalidation_0-auc:0.86866\n",
            "[14]\tvalidation_0-auc:0.86856\n",
            "[15]\tvalidation_0-auc:0.86878\n",
            "[16]\tvalidation_0-auc:0.86961\n",
            "[17]\tvalidation_0-auc:0.87027\n",
            "[18]\tvalidation_0-auc:0.87063\n",
            "[19]\tvalidation_0-auc:0.87089\n",
            "[20]\tvalidation_0-auc:0.87117\n",
            "[21]\tvalidation_0-auc:0.87186\n",
            "[22]\tvalidation_0-auc:0.87173\n",
            "[23]\tvalidation_0-auc:0.87129\n",
            "[24]\tvalidation_0-auc:0.87331\n",
            "[25]\tvalidation_0-auc:0.87390\n",
            "[26]\tvalidation_0-auc:0.87463\n",
            "[27]\tvalidation_0-auc:0.87484\n",
            "[28]\tvalidation_0-auc:0.87512\n",
            "[29]\tvalidation_0-auc:0.87582\n",
            "[30]\tvalidation_0-auc:0.87625\n",
            "[31]\tvalidation_0-auc:0.87665\n",
            "[32]\tvalidation_0-auc:0.87680\n",
            "[33]\tvalidation_0-auc:0.87706\n",
            "[34]\tvalidation_0-auc:0.87748\n",
            "[35]\tvalidation_0-auc:0.87775\n",
            "[36]\tvalidation_0-auc:0.87808\n",
            "[37]\tvalidation_0-auc:0.87827\n",
            "[38]\tvalidation_0-auc:0.87838\n",
            "[39]\tvalidation_0-auc:0.87880\n",
            "[40]\tvalidation_0-auc:0.87901\n",
            "[41]\tvalidation_0-auc:0.87918\n",
            "[42]\tvalidation_0-auc:0.87944\n",
            "[43]\tvalidation_0-auc:0.87958\n",
            "[44]\tvalidation_0-auc:0.87975\n",
            "[45]\tvalidation_0-auc:0.88014\n",
            "[46]\tvalidation_0-auc:0.88030\n",
            "[47]\tvalidation_0-auc:0.88046\n",
            "[48]\tvalidation_0-auc:0.88071\n",
            "[49]\tvalidation_0-auc:0.88086\n",
            "[50]\tvalidation_0-auc:0.88094\n",
            "[51]\tvalidation_0-auc:0.88113\n",
            "[52]\tvalidation_0-auc:0.88145\n",
            "[53]\tvalidation_0-auc:0.88166\n",
            "[54]\tvalidation_0-auc:0.88202\n",
            "[55]\tvalidation_0-auc:0.88212\n",
            "[56]\tvalidation_0-auc:0.88231\n",
            "[57]\tvalidation_0-auc:0.88264\n",
            "[58]\tvalidation_0-auc:0.88274\n",
            "[59]\tvalidation_0-auc:0.88287\n",
            "[60]\tvalidation_0-auc:0.88301\n",
            "[61]\tvalidation_0-auc:0.88308\n",
            "[62]\tvalidation_0-auc:0.88353\n",
            "[63]\tvalidation_0-auc:0.88391\n",
            "[64]\tvalidation_0-auc:0.88409\n",
            "[65]\tvalidation_0-auc:0.88419\n",
            "[66]\tvalidation_0-auc:0.88429\n",
            "[67]\tvalidation_0-auc:0.88442\n",
            "[68]\tvalidation_0-auc:0.88447\n",
            "[69]\tvalidation_0-auc:0.88452\n",
            "[70]\tvalidation_0-auc:0.88485\n",
            "[71]\tvalidation_0-auc:0.88499\n",
            "[72]\tvalidation_0-auc:0.88519\n",
            "[73]\tvalidation_0-auc:0.88545\n",
            "[74]\tvalidation_0-auc:0.88571\n",
            "[75]\tvalidation_0-auc:0.88591\n",
            "[76]\tvalidation_0-auc:0.88606\n",
            "[77]\tvalidation_0-auc:0.88617\n",
            "[78]\tvalidation_0-auc:0.88630\n",
            "[79]\tvalidation_0-auc:0.88645\n",
            "[80]\tvalidation_0-auc:0.88658\n",
            "[81]\tvalidation_0-auc:0.88668\n",
            "[82]\tvalidation_0-auc:0.88692\n",
            "[83]\tvalidation_0-auc:0.88714\n",
            "[84]\tvalidation_0-auc:0.88735\n",
            "[85]\tvalidation_0-auc:0.88742\n",
            "[86]\tvalidation_0-auc:0.88752\n",
            "[87]\tvalidation_0-auc:0.88756\n",
            "[88]\tvalidation_0-auc:0.88769\n",
            "[89]\tvalidation_0-auc:0.88779\n",
            "[90]\tvalidation_0-auc:0.88790\n",
            "[91]\tvalidation_0-auc:0.88797\n",
            "[92]\tvalidation_0-auc:0.88820\n",
            "[93]\tvalidation_0-auc:0.88824\n",
            "[94]\tvalidation_0-auc:0.88836\n",
            "[95]\tvalidation_0-auc:0.88859\n",
            "[96]\tvalidation_0-auc:0.88886\n",
            "[97]\tvalidation_0-auc:0.88892\n",
            "[98]\tvalidation_0-auc:0.88897\n",
            "[99]\tvalidation_0-auc:0.88901\n",
            "[100]\tvalidation_0-auc:0.88924\n",
            "[101]\tvalidation_0-auc:0.88944\n",
            "[102]\tvalidation_0-auc:0.88957\n",
            "[103]\tvalidation_0-auc:0.88960\n",
            "[104]\tvalidation_0-auc:0.88971\n",
            "[105]\tvalidation_0-auc:0.88990\n",
            "[106]\tvalidation_0-auc:0.88996\n",
            "[107]\tvalidation_0-auc:0.89008\n",
            "[108]\tvalidation_0-auc:0.89026\n",
            "[109]\tvalidation_0-auc:0.89029\n",
            "[110]\tvalidation_0-auc:0.89035\n",
            "[111]\tvalidation_0-auc:0.89052\n",
            "[112]\tvalidation_0-auc:0.89066\n",
            "[113]\tvalidation_0-auc:0.89067\n",
            "[114]\tvalidation_0-auc:0.89076\n",
            "[115]\tvalidation_0-auc:0.89094\n",
            "[116]\tvalidation_0-auc:0.89102\n",
            "[117]\tvalidation_0-auc:0.89120\n",
            "[118]\tvalidation_0-auc:0.89132\n",
            "[119]\tvalidation_0-auc:0.89136\n",
            "[120]\tvalidation_0-auc:0.89160\n",
            "[121]\tvalidation_0-auc:0.89171\n",
            "[122]\tvalidation_0-auc:0.89187\n",
            "[123]\tvalidation_0-auc:0.89192\n",
            "[124]\tvalidation_0-auc:0.89206\n",
            "[125]\tvalidation_0-auc:0.89215\n",
            "[126]\tvalidation_0-auc:0.89228\n",
            "[127]\tvalidation_0-auc:0.89240\n",
            "[128]\tvalidation_0-auc:0.89253\n",
            "[129]\tvalidation_0-auc:0.89261\n",
            "[130]\tvalidation_0-auc:0.89269\n",
            "[131]\tvalidation_0-auc:0.89278\n",
            "[132]\tvalidation_0-auc:0.89291\n",
            "[133]\tvalidation_0-auc:0.89298\n",
            "[134]\tvalidation_0-auc:0.89298\n",
            "[135]\tvalidation_0-auc:0.89309\n",
            "[136]\tvalidation_0-auc:0.89318\n",
            "[137]\tvalidation_0-auc:0.89324\n",
            "[138]\tvalidation_0-auc:0.89324\n",
            "[139]\tvalidation_0-auc:0.89338\n",
            "[140]\tvalidation_0-auc:0.89348\n",
            "[141]\tvalidation_0-auc:0.89361\n",
            "[142]\tvalidation_0-auc:0.89371\n",
            "[143]\tvalidation_0-auc:0.89380\n",
            "[144]\tvalidation_0-auc:0.89388\n",
            "[145]\tvalidation_0-auc:0.89402\n",
            "[146]\tvalidation_0-auc:0.89412\n",
            "[147]\tvalidation_0-auc:0.89431\n",
            "[148]\tvalidation_0-auc:0.89438\n",
            "[149]\tvalidation_0-auc:0.89448\n",
            "[150]\tvalidation_0-auc:0.89457\n",
            "[151]\tvalidation_0-auc:0.89466\n",
            "[152]\tvalidation_0-auc:0.89484\n",
            "[153]\tvalidation_0-auc:0.89489\n",
            "[154]\tvalidation_0-auc:0.89494\n",
            "[155]\tvalidation_0-auc:0.89502\n",
            "[156]\tvalidation_0-auc:0.89506\n",
            "[157]\tvalidation_0-auc:0.89514\n",
            "[158]\tvalidation_0-auc:0.89522\n",
            "[159]\tvalidation_0-auc:0.89538\n"
          ]
        },
        {
          "data": {
            "text/html": [
              "<style>#sk-container-id-4 {color: black;}#sk-container-id-4 pre{padding: 0;}#sk-container-id-4 div.sk-toggleable {background-color: white;}#sk-container-id-4 label.sk-toggleable__label {cursor: pointer;display: block;width: 100%;margin-bottom: 0;padding: 0.3em;box-sizing: border-box;text-align: center;}#sk-container-id-4 label.sk-toggleable__label-arrow:before {content: \"▸\";float: left;margin-right: 0.25em;color: #696969;}#sk-container-id-4 label.sk-toggleable__label-arrow:hover:before {color: black;}#sk-container-id-4 div.sk-estimator:hover label.sk-toggleable__label-arrow:before {color: black;}#sk-container-id-4 div.sk-toggleable__content {max-height: 0;max-width: 0;overflow: hidden;text-align: left;background-color: #f0f8ff;}#sk-container-id-4 div.sk-toggleable__content pre {margin: 0.2em;color: black;border-radius: 0.25em;background-color: #f0f8ff;}#sk-container-id-4 input.sk-toggleable__control:checked~div.sk-toggleable__content {max-height: 200px;max-width: 100%;overflow: auto;}#sk-container-id-4 input.sk-toggleable__control:checked~label.sk-toggleable__label-arrow:before {content: \"▾\";}#sk-container-id-4 div.sk-estimator input.sk-toggleable__control:checked~label.sk-toggleable__label {background-color: #d4ebff;}#sk-container-id-4 div.sk-label input.sk-toggleable__control:checked~label.sk-toggleable__label {background-color: #d4ebff;}#sk-container-id-4 input.sk-hidden--visually {border: 0;clip: rect(1px 1px 1px 1px);clip: rect(1px, 1px, 1px, 1px);height: 1px;margin: -1px;overflow: hidden;padding: 0;position: absolute;width: 1px;}#sk-container-id-4 div.sk-estimator {font-family: monospace;background-color: #f0f8ff;border: 1px dotted black;border-radius: 0.25em;box-sizing: border-box;margin-bottom: 0.5em;}#sk-container-id-4 div.sk-estimator:hover {background-color: #d4ebff;}#sk-container-id-4 div.sk-parallel-item::after {content: \"\";width: 100%;border-bottom: 1px solid gray;flex-grow: 1;}#sk-container-id-4 div.sk-label:hover label.sk-toggleable__label {background-color: #d4ebff;}#sk-container-id-4 div.sk-serial::before {content: \"\";position: absolute;border-left: 1px solid gray;box-sizing: border-box;top: 0;bottom: 0;left: 50%;z-index: 0;}#sk-container-id-4 div.sk-serial {display: flex;flex-direction: column;align-items: center;background-color: white;padding-right: 0.2em;padding-left: 0.2em;position: relative;}#sk-container-id-4 div.sk-item {position: relative;z-index: 1;}#sk-container-id-4 div.sk-parallel {display: flex;align-items: stretch;justify-content: center;background-color: white;position: relative;}#sk-container-id-4 div.sk-item::before, #sk-container-id-4 div.sk-parallel-item::before {content: \"\";position: absolute;border-left: 1px solid gray;box-sizing: border-box;top: 0;bottom: 0;left: 50%;z-index: -1;}#sk-container-id-4 div.sk-parallel-item {display: flex;flex-direction: column;z-index: 1;position: relative;background-color: white;}#sk-container-id-4 div.sk-parallel-item:first-child::after {align-self: flex-end;width: 50%;}#sk-container-id-4 div.sk-parallel-item:last-child::after {align-self: flex-start;width: 50%;}#sk-container-id-4 div.sk-parallel-item:only-child::after {width: 0;}#sk-container-id-4 div.sk-dashed-wrapped {border: 1px dashed gray;margin: 0 0.4em 0.5em 0.4em;box-sizing: border-box;padding-bottom: 0.4em;background-color: white;}#sk-container-id-4 div.sk-label label {font-family: monospace;font-weight: bold;display: inline-block;line-height: 1.2em;}#sk-container-id-4 div.sk-label-container {text-align: center;}#sk-container-id-4 div.sk-container {/* jupyter's `normalize.less` sets `[hidden] { display: none; }` but bootstrap.min.css set `[hidden] { display: none !important; }` so we also need the `!important` here to be able to override the default hidden behavior on the sphinx rendered scikit-learn.org. See: https://github.com/scikit-learn/scikit-learn/issues/21755 */display: inline-block !important;position: relative;}#sk-container-id-4 div.sk-text-repr-fallback {display: none;}</style><div id=\"sk-container-id-4\" class=\"sk-top-container\"><div class=\"sk-text-repr-fallback\"><pre>XGBClassifier(base_score=None, booster=None, callbacks=None,\n",
              "              colsample_bylevel=0.8219490559795931,\n",
              "              colsample_bynode=0.24759470484372925,\n",
              "              colsample_bytree=0.7182253566785832, early_stopping_rounds=None,\n",
              "              enable_categorical=False, eta=0.10879724556393319,\n",
              "              eval_metric=&#x27;auc&#x27;, feature_types=None, gamma=0.013905544512424909,\n",
              "              gpu_id=None, grow_policy=None, importance_type=None,\n",
              "              interaction_constraints=None, learning_rate=None, max_bin=None,\n",
              "              max_cat_threshold=None, max_cat_to_onehot=None,\n",
              "              max_delta_step=None, max_depth=4, max_leaves=None,\n",
              "              min_child_weight=9.0, missing=nan, monotone_constraints=None,\n",
              "              n_estimators=160, n_jobs=None, num_parallel_tree=None,\n",
              "              predictor=None, ...)</pre><b>In a Jupyter environment, please rerun this cell to show the HTML representation or trust the notebook. <br />On GitHub, the HTML representation is unable to render, please try loading this page with nbviewer.org.</b></div><div class=\"sk-container\" hidden><div class=\"sk-item\"><div class=\"sk-estimator sk-toggleable\"><input class=\"sk-toggleable__control sk-hidden--visually\" id=\"sk-estimator-id-6\" type=\"checkbox\" checked><label for=\"sk-estimator-id-6\" class=\"sk-toggleable__label sk-toggleable__label-arrow\">XGBClassifier</label><div class=\"sk-toggleable__content\"><pre>XGBClassifier(base_score=None, booster=None, callbacks=None,\n",
              "              colsample_bylevel=0.8219490559795931,\n",
              "              colsample_bynode=0.24759470484372925,\n",
              "              colsample_bytree=0.7182253566785832, early_stopping_rounds=None,\n",
              "              enable_categorical=False, eta=0.10879724556393319,\n",
              "              eval_metric=&#x27;auc&#x27;, feature_types=None, gamma=0.013905544512424909,\n",
              "              gpu_id=None, grow_policy=None, importance_type=None,\n",
              "              interaction_constraints=None, learning_rate=None, max_bin=None,\n",
              "              max_cat_threshold=None, max_cat_to_onehot=None,\n",
              "              max_delta_step=None, max_depth=4, max_leaves=None,\n",
              "              min_child_weight=9.0, missing=nan, monotone_constraints=None,\n",
              "              n_estimators=160, n_jobs=None, num_parallel_tree=None,\n",
              "              predictor=None, ...)</pre></div></div></div></div></div>"
            ],
            "text/plain": [
              "XGBClassifier(base_score=None, booster=None, callbacks=None,\n",
              "              colsample_bylevel=0.8219490559795931,\n",
              "              colsample_bynode=0.24759470484372925,\n",
              "              colsample_bytree=0.7182253566785832, early_stopping_rounds=None,\n",
              "              enable_categorical=False, eta=0.10879724556393319,\n",
              "              eval_metric='auc', feature_types=None, gamma=0.013905544512424909,\n",
              "              gpu_id=None, grow_policy=None, importance_type=None,\n",
              "              interaction_constraints=None, learning_rate=None, max_bin=None,\n",
              "              max_cat_threshold=None, max_cat_to_onehot=None,\n",
              "              max_delta_step=None, max_depth=4, max_leaves=None,\n",
              "              min_child_weight=9.0, missing=nan, monotone_constraints=None,\n",
              "              n_estimators=160, n_jobs=None, num_parallel_tree=None,\n",
              "              predictor=None, ...)"
            ]
          },
          "execution_count": 44,
          "metadata": {},
          "output_type": "execute_result"
        }
      ],
      "source": [
        "clf = xgb.XGBClassifier(\n",
        "    objective = 'binary:logistic',\n",
        "    seed = 100,\n",
        "    eval_metric = 'auc',\n",
        "    **best_params)\n",
        "\n",
        "clf.fit(x_train, y_train, verbose = True, eval_set = [(X_val, Y_val)])"
      ]
    },
    {
      "cell_type": "code",
      "execution_count": 45,
      "metadata": {},
      "outputs": [],
      "source": [
        "cv = KFold(n_splits=5, random_state=0, shuffle=True)\n",
        "scores = cross_val_score(clf, x_train, y_train, cv=cv, scoring=\"roc_auc\")"
      ]
    },
    {
      "cell_type": "code",
      "execution_count": 46,
      "metadata": {},
      "outputs": [
        {
          "data": {
            "text/plain": [
              "0.882818465610195"
            ]
          },
          "execution_count": 46,
          "metadata": {},
          "output_type": "execute_result"
        }
      ],
      "source": [
        "scores.mean()\n"
      ]
    },
    {
      "cell_type": "code",
      "execution_count": 49,
      "metadata": {},
      "outputs": [
        {
          "name": "stdout",
          "output_type": "stream",
          "text": [
            "                              feature  importance\n",
            "0                        is_pdp_False    0.267079\n",
            "1                          is_pdp_nan    0.216792\n",
            "2                              offset    0.055522\n",
            "3                      print_position    0.048872\n",
            "4            platform_/mobile/android    0.037975\n",
            "5               platform_/web/desktop    0.029362\n",
            "6            total_orders_item_30days    0.026761\n",
            "7                         is_pdp_True    0.024271\n",
            "8                total_si_item_30days    0.019042\n",
            "9      avg_qty_orders_item_sel_30days    0.016710\n",
            "10              total_gmv_item_30days    0.015239\n",
            "11        logistic_type_not_specified    0.014504\n",
            "12                  total_visits_item    0.012569\n",
            "13               platform_/web/mobile    0.011566\n",
            "14                             health    0.010719\n",
            "15                               hour    0.010137\n",
            "16                 available_quantity    0.009784\n",
            "17           listing_type_id_gold_pro    0.008741\n",
            "18                      free_shipping    0.008420\n",
            "19       total_asp_item_domain_30days    0.008067\n",
            "20         avg_gmv_item_domain_30days    0.008019\n",
            "21                              price    0.007659\n",
            "22  avg_qty_orders_item_domain_30days    0.007403\n",
            "23              total_gmv_domain_bday    0.007212\n",
            "24          total_asp_item_sel_30days    0.006934\n",
            "25                   avg_gmv_item_sel    0.006932\n",
            "26                     original_price    0.006755\n",
            "27                      sold_quantity    0.006598\n",
            "28             total_si_domain_30days    0.006350\n",
            "29         total_orders_domain_30days    0.005849\n",
            "30                                day    0.005587\n",
            "31                total_visits_domain    0.005492\n",
            "32          logistic_type_xd_drop_off    0.005411\n",
            "33                 total_items_domain    0.004940\n",
            "34                avg_gmv_seller_bday    0.004896\n",
            "35               logistic_type_custom    0.004769\n",
            "36                 total_items_seller    0.004757\n",
            "37                total_visits_seller    0.004636\n",
            "38                total_si_sel_30days    0.004293\n",
            "39                      qty_items_dom    0.004246\n",
            "40            total_orders_sel_30days    0.004245\n",
            "41              avg_si_item_sel_30day    0.003870\n",
            "42       listing_type_id_gold_special    0.003586\n",
            "43                      qty_items_sel    0.003270\n",
            "44          logistic_type_fulfillment    0.003268\n",
            "45                        fulfillment    0.002982\n",
            "46                              month    0.002747\n",
            "47               platform_/mobile/ios    0.002632\n",
            "48        logistic_type_cross_docking    0.002531\n",
            "49             logistic_type_drop_off    0.000000\n",
            "50              logistic_type_default    0.000000\n",
            "51                            boosted    0.000000\n",
            "52                accepts_mercadopago    0.000000\n"
          ]
        }
      ],
      "source": [
        "feature_importance = pd.DataFrame({'feature': X_train.columns, 'importance': clf.feature_importances_})\n",
        "feature_importance.sort_values(by='importance', ascending=False, inplace=True)\n",
        "feature_importance.reset_index(drop=True, inplace=True)\n",
        "print(feature_importance)"
      ]
    },
    {
      "cell_type": "code",
      "execution_count": 26,
      "metadata": {
        "id": "bbt43O7j_AeT"
      },
      "outputs": [],
      "source": [
        "y_preds = clf.predict_proba(X_test.drop(columns=[\"ROW_ID\"]))[:, clf.classes_== 1].squeeze()\n",
        "submission_df = pd.DataFrame({\"ROW_ID\": X_test[\"ROW_ID\"], \"conversion\": y_preds})\n",
        "submission_df[\"ROW_ID\"] = submission_df[\"ROW_ID\"].astype(int)\n",
        "submission_df.to_csv(\"./outputs/hyperopt_space2.csv\", sep=\",\", index=False)"
      ]
    }
  ],
  "metadata": {
    "accelerator": "GPU",
    "colab": {
      "gpuType": "T4",
      "provenance": []
    },
    "kernelspec": {
      "display_name": "Python 3",
      "name": "python3"
    },
    "language_info": {
      "codemirror_mode": {
        "name": "ipython",
        "version": 3
      },
      "file_extension": ".py",
      "mimetype": "text/x-python",
      "name": "python",
      "nbconvert_exporter": "python",
      "pygments_lexer": "ipython3",
      "version": "3.11.4"
    }
  },
  "nbformat": 4,
  "nbformat_minor": 0
}
