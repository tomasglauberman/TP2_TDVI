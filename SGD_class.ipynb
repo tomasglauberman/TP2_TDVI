{
 "cells": [
  {
   "cell_type": "code",
   "execution_count": 1,
   "metadata": {},
   "outputs": [
    {
     "name": "stdout",
     "output_type": "stream",
     "text": [
      "Intel MKL WARNING: Support of Intel(R) Streaming SIMD Extensions 4.2 (Intel(R) SSE4.2) enabled only processors has been deprecated. Intel oneAPI Math Kernel Library 2025.0 will require Intel(R) Advanced Vector Extensions (Intel(R) AVX) instructions.\n",
      "Intel MKL WARNING: Support of Intel(R) Streaming SIMD Extensions 4.2 (Intel(R) SSE4.2) enabled only processors has been deprecated. Intel oneAPI Math Kernel Library 2025.0 will require Intel(R) Advanced Vector Extensions (Intel(R) AVX) instructions.\n"
     ]
    }
   ],
   "source": [
    "import numpy as np\n",
    "from sklearn.linear_model import SGDClassifier\n",
    "from sklearn.preprocessing import StandardScaler\n",
    "from sklearn.pipeline import make_pipeline\n",
    "import pandas as pd\n",
    "from sklearn.model_selection import train_test_split, RandomizedSearchCV, KFold\n",
    "from sklearn.impute import SimpleImputer\n",
    "from sklearn.pipeline import Pipeline\n",
    "from sklearn import svm\n",
    "from sklearn.linear_model import LogisticRegression\n",
    "from sklearn.ensemble import RandomForestClassifier,  HistGradientBoostingClassifier\n",
    "import xgboost as xgb\n",
    "from sklearn.neighbors import KNeighborsClassifier\n",
    "from sklearn.ensemble import GradientBoostingClassifier\n",
    "from sklearn.model_selection import KFold, cross_val_score, train_test_split\n",
    "from tqdm import tqdm\n",
    "from sklearn.metrics import roc_auc_score"
   ]
  },
  {
   "cell_type": "code",
   "execution_count": 2,
   "metadata": {},
   "outputs": [],
   "source": [
    "data = pd.read_csv(\"./data/competition_data.csv\")\n",
    "\n",
    "data.drop(columns=['benefit', 'category_id', 'deal_print_id','etl_version', 'full_name','product_id'\n",
    "                   , 'item_id', 'main_picture', 'site_id', 'uid', 'user_id', 'title', 'tags', 'warranty'],\n",
    "                     axis= \"columns\", inplace=True)\n",
    "\n",
    "data['conversion'] = data['conversion'].astype('bool')\n",
    "data[\"print_server_timestamp\"] = pd.to_datetime(data[\"print_server_timestamp\"])\n",
    "data[\"hour\"] = data[\"print_server_timestamp\"].dt.hour\n",
    "data[\"day\"] = data[\"print_server_timestamp\"].dt.day\n",
    "#data[\"minute\"] = data[\"print_server_timestamp\"].dt.minute\n",
    "data[\"month\"] = data[\"print_server_timestamp\"].dt.month\n",
    "data.drop(columns=[\"print_server_timestamp\", 'date', \"domain_id\"], axis= \"columns\", inplace=True)\n",
    "data = pd.get_dummies(data,columns = [\"listing_type_id\", \"logistic_type\", \"platform\"],dummy_na = False, dtype = int)\n",
    "data = pd.get_dummies(data,columns = [\"is_pdp\"],dummy_na = True, dtype = bool )"
   ]
  },
  {
   "cell_type": "code",
   "execution_count": 3,
   "metadata": {},
   "outputs": [],
   "source": [
    "train_data = data[data[\"ROW_ID\"].isna()]\n",
    "test_data = data[data[\"ROW_ID\"].notna()]\n",
    "\n",
    "x_train = train_data.drop(columns=[\"conversion\", \"ROW_ID\"])\n",
    "y_train = train_data[\"conversion\"]\n",
    "X_train, X_val, Y_train, Y_val = train_test_split(x_train, y_train, test_size=0.2, random_state=3456)\n",
    "X_test = test_data.drop(columns=[\"conversion\"])\n",
    "y_test = test_data[\"conversion\"]"
   ]
  },
  {
   "cell_type": "code",
   "execution_count": 16,
   "metadata": {},
   "outputs": [
    {
     "name": "stdout",
     "output_type": "stream",
     "text": [
      "[0.85521922 0.85157454 0.8588638  0.85373505 0.85559406] 0.8549973323937413\n"
     ]
    }
   ],
   "source": [
    "clf_sgd = make_pipeline(StandardScaler(),\n",
    "                    SimpleImputer(strategy='mean'),\n",
    "                    SGDClassifier(max_iter=1000, tol=1e-3, loss=\"log_loss\", random_state=42))\n",
    "cv = KFold(n_splits=5, random_state=0, shuffle=True)\n",
    "scores = cross_val_score(clf_sgd, x_train, y_train, cv=cv, scoring=\"roc_auc\")\n",
    "print(scores, scores.mean())"
   ]
  },
  {
   "cell_type": "code",
   "execution_count": 17,
   "metadata": {},
   "outputs": [
    {
     "name": "stdout",
     "output_type": "stream",
     "text": [
      "[0.84894193 0.84575146 0.85096472 0.8444464  0.84323644] 0.8466681893446184\n"
     ]
    }
   ],
   "source": [
    "knn = make_pipeline(StandardScaler(),\n",
    "                    SimpleImputer(strategy='mean'),\n",
    "                    KNeighborsClassifier(n_neighbors=50, weights=\"uniform\"))\n",
    "cv = KFold(n_splits=5, random_state=0, shuffle=True)\n",
    "scores = cross_val_score(knn, x_train, y_train, cv=cv, scoring=\"roc_auc\")\n",
    "print(scores, scores.mean())"
   ]
  },
  {
   "cell_type": "code",
   "execution_count": 18,
   "metadata": {},
   "outputs": [
    {
     "name": "stdout",
     "output_type": "stream",
     "text": [
      "[0.86233858 0.86426922 0.86425809 0.858776   0.8596858 ] 0.8618655366509473\n"
     ]
    }
   ],
   "source": [
    "log_reg = make_pipeline(StandardScaler(),\n",
    "                    SimpleImputer(strategy='mean'),\n",
    "                    LogisticRegression(max_iter = 1000))\n",
    "cv = KFold(n_splits=5, random_state=0, shuffle=True)\n",
    "scores = cross_val_score(log_reg, x_train, y_train, cv=cv, scoring=\"roc_auc\")\n",
    "print(scores, scores.mean())"
   ]
  },
  {
   "cell_type": "code",
   "execution_count": 19,
   "metadata": {},
   "outputs": [
    {
     "name": "stderr",
     "output_type": "stream",
     "text": [
      "/Users/tomasglauberman/opt/anaconda3/envs/td6/lib/python3.11/site-packages/xgboost/data.py:440: FutureWarning: is_sparse is deprecated and will be removed in a future version. Check `isinstance(dtype, pd.SparseDtype)` instead.\n",
      "  if is_sparse(data):\n",
      "/Users/tomasglauberman/opt/anaconda3/envs/td6/lib/python3.11/site-packages/xgboost/data.py:440: FutureWarning: is_sparse is deprecated and will be removed in a future version. Check `isinstance(dtype, pd.SparseDtype)` instead.\n",
      "  if is_sparse(data):\n",
      "/Users/tomasglauberman/opt/anaconda3/envs/td6/lib/python3.11/site-packages/xgboost/data.py:440: FutureWarning: is_sparse is deprecated and will be removed in a future version. Check `isinstance(dtype, pd.SparseDtype)` instead.\n",
      "  if is_sparse(data):\n",
      "/Users/tomasglauberman/opt/anaconda3/envs/td6/lib/python3.11/site-packages/xgboost/data.py:440: FutureWarning: is_sparse is deprecated and will be removed in a future version. Check `isinstance(dtype, pd.SparseDtype)` instead.\n",
      "  if is_sparse(data):\n",
      "/Users/tomasglauberman/opt/anaconda3/envs/td6/lib/python3.11/site-packages/xgboost/data.py:440: FutureWarning: is_sparse is deprecated and will be removed in a future version. Check `isinstance(dtype, pd.SparseDtype)` instead.\n",
      "  if is_sparse(data):\n"
     ]
    },
    {
     "name": "stdout",
     "output_type": "stream",
     "text": [
      "[0.88778413 0.8890543  0.88820217 0.88539566 0.88694771] 0.8874767960586262\n"
     ]
    }
   ],
   "source": [
    "xgb_clas = make_pipeline(StandardScaler(),\n",
    "                    #SimpleImputer(strategy='mean'),\n",
    "                    xgb.XGBClassifier(n_estimators=100))\n",
    "cv = KFold(n_splits=5, random_state=0, shuffle=True)\n",
    "scores = cross_val_score(xgb_clas, x_train, y_train, cv=cv, scoring=\"roc_auc\")\n",
    "print(scores, scores.mean())"
   ]
  },
  {
   "cell_type": "code",
   "execution_count": 10,
   "metadata": {},
   "outputs": [],
   "source": [
    "# svm = make_pipeline(StandardScaler(),\n",
    "#                     SimpleImputer(strategy='mean'),\n",
    "#                     svm.SVC(kernel='rbf'))\n",
    "# svm.fit(X_train, Y_train)\n",
    "# print(svm.score(X_val, Y_val))"
   ]
  },
  {
   "cell_type": "code",
   "execution_count": 20,
   "metadata": {},
   "outputs": [
    {
     "name": "stdout",
     "output_type": "stream",
     "text": [
      "[0.8768275  0.87825239 0.87803394 0.87379062 0.87517396] 0.8764156816695359\n"
     ]
    }
   ],
   "source": [
    "grad_boosting = make_pipeline(StandardScaler(),\n",
    "                    SimpleImputer(strategy='mean'),\n",
    "                    GradientBoostingClassifier(random_state=0))\n",
    "cv = KFold(n_splits=5, random_state=0, shuffle=True)\n",
    "scores = cross_val_score(grad_boosting, x_train, y_train, cv=cv, scoring=\"roc_auc\")\n",
    "print(scores, scores.mean())"
   ]
  },
  {
   "cell_type": "code",
   "execution_count": 21,
   "metadata": {},
   "outputs": [
    {
     "name": "stdout",
     "output_type": "stream",
     "text": [
      "[0.86443793 0.8651955  0.86581387 0.86061732 0.8659184 ] 0.8643966033979809\n"
     ]
    }
   ],
   "source": [
    "rand_for = make_pipeline(StandardScaler(),\n",
    "                    SimpleImputer(strategy='mean'),\n",
    "                    RandomForestClassifier(n_estimators=200, random_state=0))\n",
    "cv = KFold(n_splits=5, random_state=0, shuffle=True)\n",
    "scores = cross_val_score(rand_for, x_train, y_train, cv=cv, scoring=\"roc_auc\")\n",
    "print(scores, scores.mean())"
   ]
  },
  {
   "cell_type": "code",
   "execution_count": 7,
   "metadata": {},
   "outputs": [
    {
     "name": "stderr",
     "output_type": "stream",
     "text": [
      "  0%|          | 0/8 [00:00<?, ?it/s]"
     ]
    }
   ],
   "source": [
    "# j = 0\n",
    "# for i in tqdm(models):\n",
    "#     model = i\n",
    "#     cv = KFold(n_splits=5, random_state=0, shuffle=True)\n",
    "#     KFold_Score[classifiers[j]] = (cross_val_score(model, X_train, Y_train, scoring = 'roc-auc', cv=cv))\n",
    "#     j = j+1"
   ]
  }
 ],
 "metadata": {
  "kernelspec": {
   "display_name": "td6",
   "language": "python",
   "name": "python3"
  },
  "language_info": {
   "codemirror_mode": {
    "name": "ipython",
    "version": 3
   },
   "file_extension": ".py",
   "mimetype": "text/x-python",
   "name": "python",
   "nbconvert_exporter": "python",
   "pygments_lexer": "ipython3",
   "version": "3.11.4"
  },
  "orig_nbformat": 4
 },
 "nbformat": 4,
 "nbformat_minor": 2
}
