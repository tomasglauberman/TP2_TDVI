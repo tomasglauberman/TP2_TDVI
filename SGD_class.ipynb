{
 "cells": [
  {
   "cell_type": "code",
   "execution_count": 1,
   "metadata": {},
   "outputs": [
    {
     "name": "stdout",
     "output_type": "stream",
     "text": [
      "Intel MKL WARNING: Support of Intel(R) Streaming SIMD Extensions 4.2 (Intel(R) SSE4.2) enabled only processors has been deprecated. Intel oneAPI Math Kernel Library 2025.0 will require Intel(R) Advanced Vector Extensions (Intel(R) AVX) instructions.\n",
      "Intel MKL WARNING: Support of Intel(R) Streaming SIMD Extensions 4.2 (Intel(R) SSE4.2) enabled only processors has been deprecated. Intel oneAPI Math Kernel Library 2025.0 will require Intel(R) Advanced Vector Extensions (Intel(R) AVX) instructions.\n"
     ]
    }
   ],
   "source": [
    "import numpy as np\n",
    "from sklearn.linear_model import SGDClassifier\n",
    "from sklearn.preprocessing import StandardScaler\n",
    "from sklearn.pipeline import make_pipeline\n",
    "import pandas as pd\n",
    "from sklearn.model_selection import train_test_split, RandomizedSearchCV, KFold\n",
    "from sklearn.impute import SimpleImputer\n",
    "from sklearn.pipeline import Pipeline\n",
    "from sklearn import svm\n",
    "from sklearn.linear_model import LogisticRegression\n",
    "from sklearn.ensemble import RandomForestClassifier,  HistGradientBoostingClassifier\n",
    "import xgboost as xgb\n",
    "from sklearn.neighbors import KNeighborsClassifier\n",
    "from sklearn.ensemble import GradientBoostingClassifier\n",
    "from sklearn.model_selection import KFold, cross_val_score, train_test_split\n",
    "from tqdm import tqdm\n",
    "from sklearn.metrics import roc_auc_score"
   ]
  },
  {
   "cell_type": "code",
   "execution_count": 2,
   "metadata": {},
   "outputs": [],
   "source": [
    "data = pd.read_csv(\"./data/competition_data.csv\")\n",
    "\n",
    "data.drop(columns=['benefit', 'category_id', 'deal_print_id','etl_version', 'full_name','product_id'\n",
    "                   , 'item_id', 'main_picture', 'site_id', 'uid', 'user_id', 'title', 'tags', 'warranty'],\n",
    "                     axis= \"columns\", inplace=True)\n",
    "\n",
    "data['conversion'] = data['conversion'].astype('bool')\n",
    "data[\"print_server_timestamp\"] = pd.to_datetime(data[\"print_server_timestamp\"])\n",
    "data[\"hour\"] = data[\"print_server_timestamp\"].dt.hour\n",
    "data[\"day\"] = data[\"print_server_timestamp\"].dt.day\n",
    "#data[\"minute\"] = data[\"print_server_timestamp\"].dt.minute\n",
    "data[\"month\"] = data[\"print_server_timestamp\"].dt.month\n",
    "data.drop(columns=[\"print_server_timestamp\", 'date', \"domain_id\"], axis= \"columns\", inplace=True)\n",
    "data = pd.get_dummies(data,columns = [\"listing_type_id\", \"logistic_type\", \"platform\"],dummy_na = False, dtype = int)\n",
    "data = pd.get_dummies(data,columns = [\"is_pdp\"],dummy_na = True, dtype = bool )"
   ]
  },
  {
   "cell_type": "code",
   "execution_count": 3,
   "metadata": {},
   "outputs": [],
   "source": [
    "train_data = data[data[\"ROW_ID\"].isna()]\n",
    "test_data = data[data[\"ROW_ID\"].notna()]\n",
    "\n",
    "x_train = train_data.drop(columns=[\"conversion\", \"ROW_ID\"])\n",
    "y_train = train_data[\"conversion\"]\n",
    "X_train, X_val, Y_train, Y_val = train_test_split(x_train, y_train, test_size=0.2, random_state=3456)\n",
    "X_test = test_data.drop(columns=[\"conversion\"])\n",
    "y_test = test_data[\"conversion\"]"
   ]
  },
  {
   "cell_type": "code",
   "execution_count": 8,
   "metadata": {},
   "outputs": [
    {
     "name": "stdout",
     "output_type": "stream",
     "text": [
      "0.9049871379968467\n",
      "0.8631369716405869\n"
     ]
    }
   ],
   "source": [
    "clf_sgd = make_pipeline(StandardScaler(),\n",
    "                    SimpleImputer(strategy='mean'),\n",
    "                    SGDClassifier(max_iter=1000, tol=1e-3, loss=\"log_loss\", random_state=42))\n",
    "clf_sgd.fit(X_train, Y_train)\n",
    "print(clf_sgd.score(X_val, Y_val))\n",
    "print(roc_auc_score(Y_val, clf_sgd.predict_proba(X_val)[:, clf_sgd.classes_== 1]))"
   ]
  },
  {
   "cell_type": "code",
   "execution_count": 10,
   "metadata": {},
   "outputs": [
    {
     "name": "stdout",
     "output_type": "stream",
     "text": [
      "0.9095510745996183\n",
      "0.8525217035020392\n"
     ]
    }
   ],
   "source": [
    "knn = make_pipeline(StandardScaler(),\n",
    "                    SimpleImputer(strategy='mean'),\n",
    "                    KNeighborsClassifier(n_neighbors=50, weights=\"uniform\"))\n",
    "knn.fit(X_train, Y_train)\n",
    "print(knn.score(X_val, Y_val))\n",
    "print(roc_auc_score(Y_val, knn.predict_proba(X_val)[:, knn.classes_== 1]))"
   ]
  },
  {
   "cell_type": "code",
   "execution_count": 11,
   "metadata": {},
   "outputs": [
    {
     "name": "stdout",
     "output_type": "stream",
     "text": [
      "0.9071169750781402\n",
      "0.8651776709620094\n"
     ]
    }
   ],
   "source": [
    "log_reg = make_pipeline(StandardScaler(),\n",
    "                    SimpleImputer(strategy='mean'),\n",
    "                    LogisticRegression(max_iter = 1000))\n",
    "log_reg.fit(X_train, Y_train)\n",
    "print(log_reg.score(X_val, Y_val))\n",
    "print(roc_auc_score(Y_val, log_reg.predict_proba(X_val)[:, log_reg.classes_== 1]))"
   ]
  },
  {
   "cell_type": "code",
   "execution_count": 12,
   "metadata": {},
   "outputs": [
    {
     "name": "stderr",
     "output_type": "stream",
     "text": [
      "/Users/tomasglauberman/opt/anaconda3/envs/td6/lib/python3.11/site-packages/xgboost/data.py:440: FutureWarning: is_sparse is deprecated and will be removed in a future version. Check `isinstance(dtype, pd.SparseDtype)` instead.\n",
      "  if is_sparse(data):\n"
     ]
    },
    {
     "name": "stdout",
     "output_type": "stream",
     "text": [
      "0.909910657483473\n",
      "0.8928563518616219\n"
     ]
    }
   ],
   "source": [
    "xgb_clas = make_pipeline(StandardScaler(),\n",
    "                    #SimpleImputer(strategy='mean'),\n",
    "                    xgb.XGBClassifier(n_estimators=100))\n",
    "xgb_clas.fit(X_train, Y_train)\n",
    "print(xgb_clas.score(X_val, Y_val))\n",
    "print(roc_auc_score(Y_val, xgb_clas.predict_proba(X_val)[:, xgb_clas.classes_== 1]))"
   ]
  },
  {
   "cell_type": "code",
   "execution_count": 10,
   "metadata": {},
   "outputs": [],
   "source": [
    "# svm = make_pipeline(StandardScaler(),\n",
    "#                     SimpleImputer(strategy='mean'),\n",
    "#                     svm.SVC(kernel='rbf'))\n",
    "# svm.fit(X_train, Y_train)\n",
    "# print(svm.score(X_val, Y_val))"
   ]
  },
  {
   "cell_type": "code",
   "execution_count": 13,
   "metadata": {},
   "outputs": [
    {
     "name": "stdout",
     "output_type": "stream",
     "text": [
      "0.9093021326031034\n",
      "0.8808584300735637\n"
     ]
    }
   ],
   "source": [
    "grad_boosting = make_pipeline(StandardScaler(),\n",
    "                    SimpleImputer(strategy='mean'),\n",
    "                    GradientBoostingClassifier(random_state=0))\n",
    "grad_boosting.fit(X_train, Y_train)\n",
    "print(grad_boosting.score(X_val, Y_val))\n",
    "print(roc_auc_score(Y_val, grad_boosting.predict_proba(X_val)[:, grad_boosting.classes_== 1]))"
   ]
  },
  {
   "cell_type": "code",
   "execution_count": 14,
   "metadata": {},
   "outputs": [
    {
     "name": "stdout",
     "output_type": "stream",
     "text": [
      "0.9018615329294941\n",
      "0.8713415860489206\n"
     ]
    }
   ],
   "source": [
    "rand_for = make_pipeline(StandardScaler(),\n",
    "                    SimpleImputer(strategy='mean'),\n",
    "                    RandomForestClassifier(n_estimators=200, random_state=0))\n",
    "rand_for.fit(X_train, Y_train)\n",
    "print(rand_for.score(X_val, Y_val))\n",
    "print(roc_auc_score(Y_val, rand_for.predict_proba(X_val)[:, rand_for.classes_== 1]))"
   ]
  },
  {
   "cell_type": "code",
   "execution_count": 7,
   "metadata": {},
   "outputs": [
    {
     "name": "stderr",
     "output_type": "stream",
     "text": [
      "  0%|          | 0/8 [00:00<?, ?it/s]"
     ]
    }
   ],
   "source": [
    "j = 0\n",
    "for i in tqdm(models):\n",
    "    model = i\n",
    "    cv = KFold(n_splits=5, random_state=0, shuffle=True)\n",
    "    KFold_Score[classifiers[j]] = (cross_val_score(model, X_train, Y_train, scoring = 'roc-auc', cv=cv))\n",
    "    j = j+1"
   ]
  }
 ],
 "metadata": {
  "kernelspec": {
   "display_name": "td6",
   "language": "python",
   "name": "python3"
  },
  "language_info": {
   "codemirror_mode": {
    "name": "ipython",
    "version": 3
   },
   "file_extension": ".py",
   "mimetype": "text/x-python",
   "name": "python",
   "nbconvert_exporter": "python",
   "pygments_lexer": "ipython3",
   "version": "3.11.4"
  },
  "orig_nbformat": 4
 },
 "nbformat": 4,
 "nbformat_minor": 2
}
